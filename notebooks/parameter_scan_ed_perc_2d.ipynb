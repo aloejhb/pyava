{
 "cells": [
  {
   "cell_type": "code",
   "execution_count": 1,
   "id": "d0db9d7c",
   "metadata": {},
   "outputs": [],
   "source": [
    "import sys\n",
    "import os\n",
    "import json\n",
    "import imp\n",
    "import datetime\n",
    "import numpy as np\n",
    "import networkx as nx\n",
    "import matplotlib.pyplot as plt\n",
    "from IPython.display import HTML\n",
    "sys.path.append('..')\n",
    "import pyava\n",
    "#imp.reload(pyava)\n",
    "# imp.reload(pyava.parameter_scan_lattice)\n",
    "#imp.reload(pyava.parameter_scan)\n",
    "import pyava.parameter_scan_lattice as psc\n",
    "import pyava.ei_perc_lattice as eip\n",
    "import pyava.visualize as vis\n",
    "from pyava.graphio import read_lattice\n"
   ]
  },
  {
   "cell_type": "code",
   "execution_count": 2,
   "id": "66c99d85",
   "metadata": {
    "scrolled": true
   },
   "outputs": [
    {
     "name": "stdout",
     "output_type": "stream",
     "text": [
      "[0.   0.05 0.1  0.15 0.2  0.25 0.3  0.35 0.4  0.45 0.5  0.55 0.6  0.65\n",
      " 0.7  0.75 0.8  0.85 0.9  0.95 1.  ]\n",
      "[0.   0.05 0.1  0.15 0.2  0.25 0.3  0.35 0.4  0.45 0.5  0.55 0.6  0.65\n",
      " 0.7  0.75 0.8  0.85 0.9  0.95 1.  ]\n",
      "0 00 191 17\n",
      "\n",
      "\n",
      "4 11"
     ]
    },
    {
     "name": "stderr",
     "output_type": "stream",
     "text": [
      "  0%|          | 0/30 [00:00<?, ?it/s]"
     ]
    },
    {
     "name": "stdout",
     "output_type": "stream",
     "text": [
      "\n"
     ]
    },
    {
     "name": "stderr",
     "output_type": "stream",
     "text": [
      "  0%|          | 0/30 [00:00<?, ?it/s]"
     ]
    },
    {
     "name": "stdout",
     "output_type": "stream",
     "text": [
      "2 153 13\n"
     ]
    },
    {
     "name": "stderr",
     "output_type": "stream",
     "text": [
      "\r",
      "  0%|          | 0/30 [00:00<?, ?it/s]"
     ]
    },
    {
     "name": "stdout",
     "output_type": "stream",
     "text": [
      "\n"
     ]
    },
    {
     "name": "stderr",
     "output_type": "stream",
     "text": [
      "100%|██████████| 30/30 [00:00<00:00, 103.76it/s]\n"
     ]
    },
    {
     "name": "stdout",
     "output_type": "stream",
     "text": [
      "1 18\n"
     ]
    },
    {
     "name": "stderr",
     "output_type": "stream",
     "text": [
      "100%|██████████| 30/30 [00:00<00:00, 97.52it/s] \n"
     ]
    },
    {
     "name": "stdout",
     "output_type": "stream",
     "text": [
      "0 1"
     ]
    },
    {
     "name": "stderr",
     "output_type": "stream",
     "text": [
      "100%|██████████| 30/30 [00:00<00:00, 96.50it/s]\n"
     ]
    },
    {
     "name": "stdout",
     "output_type": "stream",
     "text": [
      "0 20\n"
     ]
    },
    {
     "name": "stderr",
     "output_type": "stream",
     "text": [
      "\r",
      "  0%|          | 0/30 [00:00<?, ?it/s]"
     ]
    },
    {
     "name": "stdout",
     "output_type": "stream",
     "text": [
      "\n"
     ]
    },
    {
     "name": "stderr",
     "output_type": "stream",
     "text": [
      "100%|██████████| 30/30 [00:00<00:00, 95.27it/s]\n",
      "\n"
     ]
    },
    {
     "name": "stdout",
     "output_type": "stream",
     "text": [
      "4 12\n",
      "3 14"
     ]
    },
    {
     "name": "stderr",
     "output_type": "stream",
     "text": [
      "\r",
      "  0%|          | 0/30 [00:00<?, ?it/s]"
     ]
    },
    {
     "name": "stdout",
     "output_type": "stream",
     "text": [
      "\n"
     ]
    },
    {
     "name": "stderr",
     "output_type": "stream",
     "text": [
      "100%|██████████| 30/30 [00:00<00:00, 87.23it/s]\n"
     ]
    },
    {
     "name": "stdout",
     "output_type": "stream",
     "text": [
      "2 16"
     ]
    },
    {
     "name": "stderr",
     "output_type": "stream",
     "text": [
      " 40%|████      | 12/30 [00:00<00:00, 111.94it/s]"
     ]
    },
    {
     "name": "stdout",
     "output_type": "stream",
     "text": [
      "\n"
     ]
    },
    {
     "name": "stderr",
     "output_type": "stream",
     "text": [
      "100%|██████████| 30/30 [00:00<00:00, 91.90it/s]]\n"
     ]
    },
    {
     "name": "stdout",
     "output_type": "stream",
     "text": [
      "1 19\n"
     ]
    },
    {
     "name": "stderr",
     "output_type": "stream",
     "text": [
      "100%|██████████| 30/30 [00:00<00:00, 94.16it/s] \n"
     ]
    },
    {
     "name": "stdout",
     "output_type": "stream",
     "text": [
      "0 2\n"
     ]
    },
    {
     "name": "stderr",
     "output_type": "stream",
     "text": [
      "100%|██████████| 30/30 [00:00<00:00, 88.58it/s]\n"
     ]
    },
    {
     "name": "stdout",
     "output_type": "stream",
     "text": [
      "1 0\n"
     ]
    },
    {
     "name": "stderr",
     "output_type": "stream",
     "text": [
      "100%|██████████| 30/30 [00:00<00:00, 69.84it/s] \n"
     ]
    },
    {
     "name": "stdout",
     "output_type": "stream",
     "text": [
      "3 15\n"
     ]
    },
    {
     "name": "stderr",
     "output_type": "stream",
     "text": [
      "100%|██████████| 30/30 [00:00<00:00, 66.03it/s]\n"
     ]
    },
    {
     "name": "stdout",
     "output_type": "stream",
     "text": [
      "4 13\n"
     ]
    },
    {
     "name": "stderr",
     "output_type": "stream",
     "text": [
      "100%|██████████| 30/30 [00:00<00:00, 51.61it/s]\n"
     ]
    },
    {
     "name": "stdout",
     "output_type": "stream",
     "text": [
      "2 17\n"
     ]
    },
    {
     "name": "stderr",
     "output_type": "stream",
     "text": [
      "100%|██████████| 30/30 [00:01<00:00, 22.58it/s]\n",
      "\n"
     ]
    },
    {
     "name": "stdout",
     "output_type": "stream",
     "text": [
      "1 11 20\n",
      "\n"
     ]
    },
    {
     "name": "stderr",
     "output_type": "stream",
     "text": [
      "100%|██████████| 30/30 [00:01<00:00, 22.50it/s]\n"
     ]
    },
    {
     "name": "stdout",
     "output_type": "stream",
     "text": [
      "0 3\n"
     ]
    },
    {
     "name": "stderr",
     "output_type": "stream",
     "text": [
      "100%|██████████| 30/30 [00:01<00:00, 20.96it/s]\n"
     ]
    },
    {
     "name": "stdout",
     "output_type": "stream",
     "text": [
      "3 16\n"
     ]
    },
    {
     "name": "stderr",
     "output_type": "stream",
     "text": [
      " 20%|██        | 6/30 [00:00<00:01, 19.46it/s]]\n"
     ]
    },
    {
     "name": "stdout",
     "output_type": "stream",
     "text": [
      "4 14\n"
     ]
    },
    {
     "name": "stderr",
     "output_type": "stream",
     "text": [
      "100%|██████████| 30/30 [00:01<00:00, 19.66it/s]\n"
     ]
    },
    {
     "name": "stdout",
     "output_type": "stream",
     "text": [
      "2 18\n"
     ]
    },
    {
     "name": "stderr",
     "output_type": "stream",
     "text": [
      "100%|██████████| 30/30 [00:01<00:00, 19.97it/s]\n"
     ]
    },
    {
     "name": "stdout",
     "output_type": "stream",
     "text": [
      "1 2\n"
     ]
    },
    {
     "name": "stderr",
     "output_type": "stream",
     "text": [
      "100%|██████████| 30/30 [00:01<00:00, 20.02it/s]\n"
     ]
    },
    {
     "name": "stdout",
     "output_type": "stream",
     "text": [
      "0 4\n"
     ]
    },
    {
     "name": "stderr",
     "output_type": "stream",
     "text": [
      "100%|██████████| 30/30 [00:01<00:00, 19.61it/s]\n"
     ]
    },
    {
     "name": "stdout",
     "output_type": "stream",
     "text": [
      "2 0\n"
     ]
    },
    {
     "name": "stderr",
     "output_type": "stream",
     "text": [
      "100%|██████████| 30/30 [00:01<00:00, 19.85it/s]\n",
      "100%|██████████| 30/30 [00:01<00:00, 20.29it/s]"
     ]
    },
    {
     "name": "stdout",
     "output_type": "stream",
     "text": [
      "3 17"
     ]
    },
    {
     "name": "stderr",
     "output_type": "stream",
     "text": [
      "\n"
     ]
    },
    {
     "name": "stdout",
     "output_type": "stream",
     "text": [
      "\n",
      "4 15"
     ]
    },
    {
     "name": "stderr",
     "output_type": "stream",
     "text": [
      "\r",
      "  0%|          | 0/30 [00:00<?, ?it/s]"
     ]
    },
    {
     "name": "stdout",
     "output_type": "stream",
     "text": [
      "\n"
     ]
    },
    {
     "name": "stderr",
     "output_type": "stream",
     "text": [
      "100%|██████████| 30/30 [00:01<00:00, 19.83it/s]\n"
     ]
    },
    {
     "name": "stdout",
     "output_type": "stream",
     "text": [
      "2 19\n"
     ]
    },
    {
     "name": "stderr",
     "output_type": "stream",
     "text": [
      "100%|██████████| 30/30 [00:01<00:00, 19.21it/s]\n"
     ]
    },
    {
     "name": "stdout",
     "output_type": "stream",
     "text": [
      "0 5\n"
     ]
    },
    {
     "name": "stderr",
     "output_type": "stream",
     "text": [
      "100%|██████████| 30/30 [00:01<00:00, 18.83it/s]\n"
     ]
    },
    {
     "name": "stdout",
     "output_type": "stream",
     "text": [
      "1 3\n"
     ]
    },
    {
     "name": "stderr",
     "output_type": "stream",
     "text": [
      "100%|██████████| 30/30 [00:01<00:00, 18.90it/s]\n"
     ]
    },
    {
     "name": "stdout",
     "output_type": "stream",
     "text": [
      "2 1\n"
     ]
    },
    {
     "name": "stderr",
     "output_type": "stream",
     "text": [
      "100%|██████████| 30/30 [00:01<00:00, 18.79it/s]\n"
     ]
    },
    {
     "name": "stdout",
     "output_type": "stream",
     "text": [
      "4 16\n"
     ]
    },
    {
     "name": "stderr",
     "output_type": "stream",
     "text": [
      "100%|██████████| 30/30 [00:01<00:00, 18.72it/s]\n"
     ]
    },
    {
     "name": "stdout",
     "output_type": "stream",
     "text": [
      "3 18\n"
     ]
    },
    {
     "name": "stderr",
     "output_type": "stream",
     "text": [
      "100%|██████████| 30/30 [00:01<00:00, 18.97it/s]\n"
     ]
    },
    {
     "name": "stdout",
     "output_type": "stream",
     "text": [
      "2 20\n"
     ]
    },
    {
     "name": "stderr",
     "output_type": "stream",
     "text": [
      "100%|██████████| 30/30 [00:01<00:00, 19.69it/s]\n"
     ]
    },
    {
     "name": "stdout",
     "output_type": "stream",
     "text": [
      "1 4\n"
     ]
    },
    {
     "name": "stderr",
     "output_type": "stream",
     "text": [
      "100%|██████████| 30/30 [00:01<00:00, 19.25it/s]\n",
      "\n",
      " 83%|████████▎ | 25/30 [00:01<00:00, 20.42it/s]"
     ]
    },
    {
     "name": "stdout",
     "output_type": "stream",
     "text": [
      "2 20 6\n"
     ]
    },
    {
     "name": "stderr",
     "output_type": "stream",
     "text": [
      "\r",
      "  0%|          | 0/30 [00:00<?, ?it/s]"
     ]
    },
    {
     "name": "stdout",
     "output_type": "stream",
     "text": [
      "\n"
     ]
    },
    {
     "name": "stderr",
     "output_type": "stream",
     "text": [
      "100%|██████████| 30/30 [00:01<00:00, 19.90it/s]\n"
     ]
    },
    {
     "name": "stdout",
     "output_type": "stream",
     "text": [
      "3 19\n"
     ]
    },
    {
     "name": "stderr",
     "output_type": "stream",
     "text": [
      "100%|██████████| 30/30 [00:01<00:00, 19.68it/s]\n"
     ]
    },
    {
     "name": "stdout",
     "output_type": "stream",
     "text": [
      "4 17"
     ]
    },
    {
     "name": "stderr",
     "output_type": "stream",
     "text": [
      "\r",
      " 20%|██        | 6/30 [00:00<00:01, 20.46it/s]"
     ]
    },
    {
     "name": "stdout",
     "output_type": "stream",
     "text": [
      "\n"
     ]
    },
    {
     "name": "stderr",
     "output_type": "stream",
     "text": [
      "100%|██████████| 30/30 [00:01<00:00, 19.72it/s]\n"
     ]
    },
    {
     "name": "stdout",
     "output_type": "stream",
     "text": [
      "3 0\n"
     ]
    },
    {
     "name": "stderr",
     "output_type": "stream",
     "text": [
      "100%|██████████| 30/30 [00:01<00:00, 19.72it/s]\n"
     ]
    },
    {
     "name": "stdout",
     "output_type": "stream",
     "text": [
      "1 5\n"
     ]
    },
    {
     "name": "stderr",
     "output_type": "stream",
     "text": [
      "100%|██████████| 30/30 [00:01<00:00, 19.76it/s]\n"
     ]
    },
    {
     "name": "stdout",
     "output_type": "stream",
     "text": [
      "0 7\n"
     ]
    },
    {
     "name": "stderr",
     "output_type": "stream",
     "text": [
      "100%|██████████| 30/30 [00:01<00:00, 19.44it/s]\n"
     ]
    },
    {
     "name": "stdout",
     "output_type": "stream",
     "text": [
      "2 3\n"
     ]
    },
    {
     "name": "stderr",
     "output_type": "stream",
     "text": [
      "100%|██████████| 30/30 [00:01<00:00, 19.59it/s]\n"
     ]
    },
    {
     "name": "stdout",
     "output_type": "stream",
     "text": [
      "3 20\n"
     ]
    },
    {
     "name": "stderr",
     "output_type": "stream",
     "text": [
      "100%|██████████| 30/30 [00:01<00:00, 19.61it/s]\n"
     ]
    },
    {
     "name": "stdout",
     "output_type": "stream",
     "text": [
      "4 18\n"
     ]
    },
    {
     "name": "stderr",
     "output_type": "stream",
     "text": [
      "100%|██████████| 30/30 [00:01<00:00, 20.03it/s]\n"
     ]
    },
    {
     "name": "stdout",
     "output_type": "stream",
     "text": [
      "3 1\n"
     ]
    },
    {
     "name": "stderr",
     "output_type": "stream",
     "text": [
      "100%|██████████| 30/30 [00:01<00:00, 19.61it/s]\n"
     ]
    },
    {
     "name": "stdout",
     "output_type": "stream",
     "text": [
      "1 6\n"
     ]
    },
    {
     "name": "stderr",
     "output_type": "stream",
     "text": [
      "100%|██████████| 30/30 [00:01<00:00, 19.31it/s]\n",
      "100%|██████████| 30/30 [00:01<00:00, 19.57it/s]\n",
      " 83%|████████▎ | 25/30 [00:01<00:00, 20.01it/s]"
     ]
    },
    {
     "name": "stdout",
     "output_type": "stream",
     "text": [
      "2 40 8\n",
      "\n"
     ]
    },
    {
     "name": "stderr",
     "output_type": "stream",
     "text": [
      "100%|██████████| 30/30 [00:01<00:00, 19.53it/s]\n",
      "\n"
     ]
    },
    {
     "name": "stdout",
     "output_type": "stream",
     "text": [
      "4 04 19\n",
      "\n"
     ]
    },
    {
     "name": "stderr",
     "output_type": "stream",
     "text": [
      "100%|██████████| 30/30 [00:01<00:00, 19.32it/s]\n"
     ]
    },
    {
     "name": "stdout",
     "output_type": "stream",
     "text": [
      "3 2\n"
     ]
    },
    {
     "name": "stderr",
     "output_type": "stream",
     "text": [
      "100%|██████████| 30/30 [00:01<00:00, 19.71it/s]\n"
     ]
    },
    {
     "name": "stdout",
     "output_type": "stream",
     "text": [
      "1 7\n"
     ]
    },
    {
     "name": "stderr",
     "output_type": "stream",
     "text": [
      "100%|██████████| 30/30 [00:01<00:00, 19.93it/s]\n"
     ]
    },
    {
     "name": "stdout",
     "output_type": "stream",
     "text": [
      "2 5\n"
     ]
    },
    {
     "name": "stderr",
     "output_type": "stream",
     "text": [
      "100%|██████████| 30/30 [00:01<00:00, 19.81it/s]\n"
     ]
    },
    {
     "name": "stdout",
     "output_type": "stream",
     "text": [
      "0 9\n"
     ]
    },
    {
     "name": "stderr",
     "output_type": "stream",
     "text": [
      "100%|██████████| 30/30 [00:01<00:00, 19.78it/s]\n"
     ]
    },
    {
     "name": "stdout",
     "output_type": "stream",
     "text": [
      "4 1\n"
     ]
    },
    {
     "name": "stderr",
     "output_type": "stream",
     "text": [
      "100%|██████████| 30/30 [00:01<00:00, 19.36it/s]\n"
     ]
    },
    {
     "name": "stdout",
     "output_type": "stream",
     "text": [
      "4 20\n"
     ]
    },
    {
     "name": "stderr",
     "output_type": "stream",
     "text": [
      "100%|██████████| 30/30 [00:01<00:00, 19.50it/s]\n"
     ]
    },
    {
     "name": "stdout",
     "output_type": "stream",
     "text": [
      "3 3\n"
     ]
    },
    {
     "name": "stderr",
     "output_type": "stream",
     "text": [
      "100%|██████████| 30/30 [00:01<00:00, 19.63it/s]\n"
     ]
    },
    {
     "name": "stdout",
     "output_type": "stream",
     "text": [
      "1 8\n"
     ]
    },
    {
     "name": "stderr",
     "output_type": "stream",
     "text": [
      "100%|██████████| 30/30 [00:01<00:00, 19.53it/s]\n"
     ]
    },
    {
     "name": "stdout",
     "output_type": "stream",
     "text": [
      "2 6\n"
     ]
    },
    {
     "name": "stderr",
     "output_type": "stream",
     "text": [
      "100%|██████████| 30/30 [00:01<00:00, 19.64it/s]\n"
     ]
    },
    {
     "name": "stdout",
     "output_type": "stream",
     "text": [
      "0 10\n"
     ]
    },
    {
     "name": "stderr",
     "output_type": "stream",
     "text": [
      "100%|██████████| 30/30 [00:01<00:00, 19.83it/s]\n"
     ]
    },
    {
     "name": "stdout",
     "output_type": "stream",
     "text": [
      "4 2\n"
     ]
    },
    {
     "name": "stderr",
     "output_type": "stream",
     "text": [
      "100%|██████████| 30/30 [00:01<00:00, 19.90it/s]\n"
     ]
    },
    {
     "name": "stdout",
     "output_type": "stream",
     "text": [
      "5 0\n"
     ]
    },
    {
     "name": "stderr",
     "output_type": "stream",
     "text": [
      "100%|██████████| 30/30 [00:01<00:00, 20.14it/s]\n"
     ]
    },
    {
     "name": "stdout",
     "output_type": "stream",
     "text": [
      "3 4\n"
     ]
    },
    {
     "name": "stderr",
     "output_type": "stream",
     "text": [
      "100%|██████████| 30/30 [00:01<00:00, 19.94it/s]\n"
     ]
    },
    {
     "name": "stdout",
     "output_type": "stream",
     "text": [
      "1 9\n"
     ]
    },
    {
     "name": "stderr",
     "output_type": "stream",
     "text": [
      "100%|██████████| 30/30 [00:01<00:00, 20.00it/s]\n"
     ]
    },
    {
     "name": "stdout",
     "output_type": "stream",
     "text": [
      "2 7\n"
     ]
    },
    {
     "name": "stderr",
     "output_type": "stream",
     "text": [
      "100%|██████████| 30/30 [00:01<00:00, 19.74it/s]\n"
     ]
    },
    {
     "name": "stdout",
     "output_type": "stream",
     "text": [
      "0 11\n"
     ]
    },
    {
     "name": "stderr",
     "output_type": "stream",
     "text": [
      "100%|██████████| 30/30 [00:01<00:00, 19.98it/s]\n"
     ]
    },
    {
     "name": "stdout",
     "output_type": "stream",
     "text": [
      "5 1\n"
     ]
    },
    {
     "name": "stderr",
     "output_type": "stream",
     "text": [
      "  0%|          | 0/30 [00:00<?, ?it/s]9.57it/s]\n",
      " 20%|██        | 6/30 [00:00<00:01, 19.09it/s]"
     ]
    },
    {
     "name": "stdout",
     "output_type": "stream",
     "text": [
      "4 3\n"
     ]
    },
    {
     "name": "stderr",
     "output_type": "stream",
     "text": [
      "100%|██████████| 30/30 [00:01<00:00, 19.54it/s]\n"
     ]
    },
    {
     "name": "stdout",
     "output_type": "stream",
     "text": [
      "3 5\n"
     ]
    },
    {
     "name": "stderr",
     "output_type": "stream",
     "text": [
      "100%|██████████| 30/30 [00:01<00:00, 19.83it/s]\n"
     ]
    },
    {
     "name": "stdout",
     "output_type": "stream",
     "text": [
      "1 10\n"
     ]
    },
    {
     "name": "stderr",
     "output_type": "stream",
     "text": [
      "100%|██████████| 30/30 [00:01<00:00, 19.95it/s]\n",
      "100%|██████████| 30/30 [00:01<00:00, 20.33it/s]"
     ]
    },
    {
     "name": "stdout",
     "output_type": "stream",
     "text": [
      "2 8"
     ]
    },
    {
     "name": "stderr",
     "output_type": "stream",
     "text": [
      "\n"
     ]
    },
    {
     "name": "stdout",
     "output_type": "stream",
     "text": [
      "\n",
      "0 12"
     ]
    },
    {
     "name": "stderr",
     "output_type": "stream",
     "text": [
      "\r",
      "  0%|          | 0/30 [00:00<?, ?it/s]"
     ]
    },
    {
     "name": "stdout",
     "output_type": "stream",
     "text": [
      "\n"
     ]
    },
    {
     "name": "stderr",
     "output_type": "stream",
     "text": [
      "100%|██████████| 30/30 [00:01<00:00, 20.29it/s]\n",
      " 17%|█▋        | 5/30 [00:00<00:01, 20.32it/s]"
     ]
    },
    {
     "name": "stdout",
     "output_type": "stream",
     "text": [
      "5 2"
     ]
    },
    {
     "name": "stderr",
     "output_type": "stream",
     "text": [
      "\r",
      "100%|██████████| 30/30 [00:01<00:00, 19.61it/s]"
     ]
    },
    {
     "name": "stdout",
     "output_type": "stream",
     "text": [
      "\n"
     ]
    },
    {
     "name": "stderr",
     "output_type": "stream",
     "text": [
      "  0%|          | 0/30 [00:00<?, ?it/s]0.45it/s]\n"
     ]
    },
    {
     "name": "stdout",
     "output_type": "stream",
     "text": [
      "4 4\n"
     ]
    },
    {
     "name": "stderr",
     "output_type": "stream",
     "text": [
      "100%|██████████| 30/30 [00:01<00:00, 20.35it/s]\n"
     ]
    },
    {
     "name": "stdout",
     "output_type": "stream",
     "text": [
      "3 6\n"
     ]
    },
    {
     "name": "stderr",
     "output_type": "stream",
     "text": [
      "100%|██████████| 30/30 [00:01<00:00, 20.05it/s]\n"
     ]
    },
    {
     "name": "stdout",
     "output_type": "stream",
     "text": [
      "1 11\n"
     ]
    },
    {
     "name": "stderr",
     "output_type": "stream",
     "text": [
      "100%|██████████| 30/30 [00:01<00:00, 20.01it/s]\n"
     ]
    },
    {
     "name": "stdout",
     "output_type": "stream",
     "text": [
      "2 9\n"
     ]
    },
    {
     "name": "stderr",
     "output_type": "stream",
     "text": [
      "100%|██████████| 30/30 [00:01<00:00, 19.82it/s]\n"
     ]
    },
    {
     "name": "stdout",
     "output_type": "stream",
     "text": [
      "0 13\n"
     ]
    },
    {
     "name": "stderr",
     "output_type": "stream",
     "text": [
      "100%|██████████| 30/30 [00:01<00:00, 20.08it/s]\n"
     ]
    },
    {
     "name": "stdout",
     "output_type": "stream",
     "text": [
      "4 5\n"
     ]
    },
    {
     "name": "stderr",
     "output_type": "stream",
     "text": [
      "100%|██████████| 30/30 [00:01<00:00, 19.65it/s]\n"
     ]
    },
    {
     "name": "stdout",
     "output_type": "stream",
     "text": [
      "5 3\n"
     ]
    },
    {
     "name": "stderr",
     "output_type": "stream",
     "text": [
      "100%|██████████| 30/30 [00:01<00:00, 20.21it/s]\n"
     ]
    },
    {
     "name": "stdout",
     "output_type": "stream",
     "text": [
      "3 7\n"
     ]
    },
    {
     "name": "stderr",
     "output_type": "stream",
     "text": [
      "100%|██████████| 30/30 [00:01<00:00, 19.98it/s]\n"
     ]
    },
    {
     "name": "stdout",
     "output_type": "stream",
     "text": [
      "1 12\n"
     ]
    },
    {
     "name": "stderr",
     "output_type": "stream",
     "text": [
      "100%|██████████| 30/30 [00:01<00:00, 20.16it/s]\n"
     ]
    },
    {
     "name": "stdout",
     "output_type": "stream",
     "text": [
      "0 14\n"
     ]
    },
    {
     "name": "stderr",
     "output_type": "stream",
     "text": [
      "  0%|          | 0/30 [00:00<?, ?it/s]\n",
      " 67%|██████▋   | 20/30 [00:01<00:00, 21.15it/s]"
     ]
    },
    {
     "name": "stdout",
     "output_type": "stream",
     "text": [
      "2 10\n"
     ]
    },
    {
     "name": "stderr",
     "output_type": "stream",
     "text": [
      "100%|██████████| 30/30 [00:01<00:00, 20.46it/s]\n"
     ]
    },
    {
     "name": "stdout",
     "output_type": "stream",
     "text": [
      "4 6\n"
     ]
    },
    {
     "name": "stderr",
     "output_type": "stream",
     "text": [
      "100%|██████████| 30/30 [00:01<00:00, 20.27it/s]\n"
     ]
    },
    {
     "name": "stdout",
     "output_type": "stream",
     "text": [
      "5 4\n"
     ]
    },
    {
     "name": "stderr",
     "output_type": "stream",
     "text": [
      "100%|██████████| 30/30 [00:01<00:00, 19.64it/s]\n"
     ]
    },
    {
     "name": "stdout",
     "output_type": "stream",
     "text": [
      "3 8\n"
     ]
    },
    {
     "name": "stderr",
     "output_type": "stream",
     "text": [
      "100%|██████████| 30/30 [00:01<00:00, 20.83it/s]\n"
     ]
    },
    {
     "name": "stdout",
     "output_type": "stream",
     "text": [
      "1 13\n"
     ]
    },
    {
     "name": "stderr",
     "output_type": "stream",
     "text": [
      "100%|██████████| 30/30 [00:01<00:00, 20.61it/s]\n"
     ]
    },
    {
     "name": "stdout",
     "output_type": "stream",
     "text": [
      "2 11\n"
     ]
    },
    {
     "name": "stderr",
     "output_type": "stream",
     "text": [
      "100%|██████████| 30/30 [00:01<00:00, 20.38it/s]\n"
     ]
    },
    {
     "name": "stdout",
     "output_type": "stream",
     "text": [
      "0 15\n"
     ]
    },
    {
     "name": "stderr",
     "output_type": "stream",
     "text": [
      "100%|██████████| 30/30 [00:01<00:00, 20.38it/s]\n"
     ]
    },
    {
     "name": "stdout",
     "output_type": "stream",
     "text": [
      "4 7\n"
     ]
    },
    {
     "name": "stderr",
     "output_type": "stream",
     "text": [
      "100%|██████████| 30/30 [00:01<00:00, 20.35it/s]\n"
     ]
    },
    {
     "name": "stdout",
     "output_type": "stream",
     "text": [
      "5 5\n"
     ]
    },
    {
     "name": "stderr",
     "output_type": "stream",
     "text": [
      "100%|██████████| 30/30 [00:01<00:00, 20.45it/s]\n"
     ]
    },
    {
     "name": "stdout",
     "output_type": "stream",
     "text": [
      "3 9\n"
     ]
    },
    {
     "name": "stderr",
     "output_type": "stream",
     "text": [
      "100%|██████████| 30/30 [00:01<00:00, 20.23it/s]\n"
     ]
    },
    {
     "name": "stdout",
     "output_type": "stream",
     "text": [
      "1 14\n"
     ]
    },
    {
     "name": "stderr",
     "output_type": "stream",
     "text": [
      "100%|██████████| 30/30 [00:01<00:00, 20.23it/s]\n",
      "\n"
     ]
    },
    {
     "name": "stdout",
     "output_type": "stream",
     "text": [
      "0 162 12\n",
      "\n"
     ]
    },
    {
     "name": "stderr",
     "output_type": "stream",
     "text": [
      "100%|██████████| 30/30 [00:01<00:00, 20.23it/s]\n"
     ]
    },
    {
     "name": "stdout",
     "output_type": "stream",
     "text": [
      "4 8\n"
     ]
    },
    {
     "name": "stderr",
     "output_type": "stream",
     "text": [
      "100%|██████████| 30/30 [00:01<00:00, 20.54it/s]\n"
     ]
    },
    {
     "name": "stdout",
     "output_type": "stream",
     "text": [
      "5 6\n"
     ]
    },
    {
     "name": "stderr",
     "output_type": "stream",
     "text": [
      "100%|██████████| 30/30 [00:01<00:00, 20.08it/s]\n"
     ]
    },
    {
     "name": "stdout",
     "output_type": "stream",
     "text": [
      "3 10\n"
     ]
    },
    {
     "name": "stderr",
     "output_type": "stream",
     "text": [
      "100%|██████████| 30/30 [00:01<00:00, 19.93it/s]\n"
     ]
    },
    {
     "name": "stdout",
     "output_type": "stream",
     "text": [
      "1 15\n"
     ]
    },
    {
     "name": "stderr",
     "output_type": "stream",
     "text": [
      "100%|██████████| 30/30 [00:01<00:00, 20.15it/s]\n"
     ]
    },
    {
     "name": "stdout",
     "output_type": "stream",
     "text": [
      "2 13\n"
     ]
    },
    {
     "name": "stderr",
     "output_type": "stream",
     "text": [
      "100%|██████████| 30/30 [00:01<00:00, 20.01it/s]\n"
     ]
    },
    {
     "name": "stdout",
     "output_type": "stream",
     "text": [
      "0 17\n"
     ]
    },
    {
     "name": "stderr",
     "output_type": "stream",
     "text": [
      "100%|██████████| 30/30 [00:01<00:00, 20.19it/s]\n"
     ]
    },
    {
     "name": "stdout",
     "output_type": "stream",
     "text": [
      "4 9\n"
     ]
    },
    {
     "name": "stderr",
     "output_type": "stream",
     "text": [
      "100%|██████████| 30/30 [00:01<00:00, 19.64it/s]\n"
     ]
    },
    {
     "name": "stdout",
     "output_type": "stream",
     "text": [
      "5 7\n"
     ]
    },
    {
     "name": "stderr",
     "output_type": "stream",
     "text": [
      "100%|██████████| 30/30 [00:01<00:00, 20.31it/s]\n"
     ]
    },
    {
     "name": "stdout",
     "output_type": "stream",
     "text": [
      "3 11\n"
     ]
    },
    {
     "name": "stderr",
     "output_type": "stream",
     "text": [
      "100%|██████████| 30/30 [00:01<00:00, 20.23it/s]\n"
     ]
    },
    {
     "name": "stdout",
     "output_type": "stream",
     "text": [
      "2 14\n"
     ]
    },
    {
     "name": "stderr",
     "output_type": "stream",
     "text": [
      "100%|██████████| 30/30 [00:01<00:00, 19.85it/s]\n"
     ]
    },
    {
     "name": "stdout",
     "output_type": "stream",
     "text": [
      "1 16\n"
     ]
    },
    {
     "name": "stderr",
     "output_type": "stream",
     "text": [
      "100%|██████████| 30/30 [00:01<00:00, 20.04it/s]\n"
     ]
    },
    {
     "name": "stdout",
     "output_type": "stream",
     "text": [
      "0 18\n"
     ]
    },
    {
     "name": "stderr",
     "output_type": "stream",
     "text": [
      "100%|██████████| 30/30 [00:01<00:00, 19.76it/s]\n"
     ]
    },
    {
     "name": "stdout",
     "output_type": "stream",
     "text": [
      "4 10\n"
     ]
    },
    {
     "name": "stderr",
     "output_type": "stream",
     "text": [
      "100%|██████████| 30/30 [00:01<00:00, 20.52it/s]\n"
     ]
    },
    {
     "name": "stdout",
     "output_type": "stream",
     "text": [
      "5 8\n"
     ]
    },
    {
     "name": "stderr",
     "output_type": "stream",
     "text": [
      " 17%|█▋        | 5/30 [00:00<00:01, 19.01it/s]]\n"
     ]
    },
    {
     "name": "stdout",
     "output_type": "stream",
     "text": [
      "3 12\n"
     ]
    },
    {
     "name": "stderr",
     "output_type": "stream",
     "text": [
      "100%|██████████| 30/30 [00:01<00:00, 20.04it/s]\n",
      "100%|██████████| 30/30 [00:01<00:00, 20.02it/s]"
     ]
    },
    {
     "name": "stdout",
     "output_type": "stream",
     "text": [
      "5 9"
     ]
    },
    {
     "name": "stderr",
     "output_type": "stream",
     "text": [
      "\r",
      "100%|██████████| 30/30 [00:01<00:00, 20.17it/s]"
     ]
    },
    {
     "name": "stdout",
     "output_type": "stream",
     "text": [
      "\n"
     ]
    },
    {
     "name": "stderr",
     "output_type": "stream",
     "text": [
      "\n",
      "  0%|          | 0/30 [00:00<?, ?it/s]"
     ]
    },
    {
     "name": "stdout",
     "output_type": "stream",
     "text": [
      "6 7"
     ]
    },
    {
     "name": "stderr",
     "output_type": "stream",
     "text": [
      "\r",
      " 63%|██████▎   | 19/30 [00:00<00:00, 20.18it/s]"
     ]
    },
    {
     "name": "stdout",
     "output_type": "stream",
     "text": [
      "\n"
     ]
    },
    {
     "name": "stderr",
     "output_type": "stream",
     "text": [
      "100%|██████████| 30/30 [00:01<00:00, 20.16it/s]\n"
     ]
    },
    {
     "name": "stdout",
     "output_type": "stream",
     "text": [
      "7 5\n"
     ]
    },
    {
     "name": "stderr",
     "output_type": "stream",
     "text": [
      "100%|██████████| 30/30 [00:01<00:00, 20.09it/s]\n"
     ]
    },
    {
     "name": "stdout",
     "output_type": "stream",
     "text": [
      "8 3\n"
     ]
    },
    {
     "name": "stderr",
     "output_type": "stream",
     "text": [
      "100%|██████████| 30/30 [00:01<00:00, 20.09it/s]\n"
     ]
    },
    {
     "name": "stdout",
     "output_type": "stream",
     "text": [
      "9 1\n"
     ]
    },
    {
     "name": "stderr",
     "output_type": "stream",
     "text": [
      "100%|██████████| 30/30 [00:01<00:00, 19.30it/s]\n"
     ]
    },
    {
     "name": "stdout",
     "output_type": "stream",
     "text": [
      "9 20\n"
     ]
    },
    {
     "name": "stderr",
     "output_type": "stream",
     "text": [
      "100%|██████████| 30/30 [00:01<00:00, 20.22it/s]\n"
     ]
    },
    {
     "name": "stdout",
     "output_type": "stream",
     "text": [
      "5 10\n"
     ]
    },
    {
     "name": "stderr",
     "output_type": "stream",
     "text": [
      "100%|██████████| 30/30 [00:01<00:00, 20.25it/s]\n"
     ]
    },
    {
     "name": "stdout",
     "output_type": "stream",
     "text": [
      "6 8\n"
     ]
    },
    {
     "name": "stderr",
     "output_type": "stream",
     "text": [
      "100%|██████████| 30/30 [00:01<00:00, 20.22it/s]\n"
     ]
    },
    {
     "name": "stdout",
     "output_type": "stream",
     "text": [
      "7 6\n"
     ]
    },
    {
     "name": "stderr",
     "output_type": "stream",
     "text": [
      "100%|██████████| 30/30 [00:01<00:00, 20.27it/s]\n"
     ]
    },
    {
     "name": "stdout",
     "output_type": "stream",
     "text": [
      "8 4\n"
     ]
    },
    {
     "name": "stderr",
     "output_type": "stream",
     "text": [
      "100%|██████████| 30/30 [00:01<00:00, 19.73it/s]\n"
     ]
    },
    {
     "name": "stdout",
     "output_type": "stream",
     "text": [
      "9 2\n"
     ]
    },
    {
     "name": "stderr",
     "output_type": "stream",
     "text": [
      "100%|██████████| 30/30 [00:01<00:00, 20.28it/s]\n"
     ]
    },
    {
     "name": "stdout",
     "output_type": "stream",
     "text": [
      "10 0\n"
     ]
    },
    {
     "name": "stderr",
     "output_type": "stream",
     "text": [
      "100%|██████████| 30/30 [00:01<00:00, 19.63it/s]\n"
     ]
    },
    {
     "name": "stdout",
     "output_type": "stream",
     "text": [
      "5 11\n"
     ]
    },
    {
     "name": "stderr",
     "output_type": "stream",
     "text": [
      "100%|██████████| 30/30 [00:01<00:00, 19.76it/s]\n"
     ]
    },
    {
     "name": "stdout",
     "output_type": "stream",
     "text": [
      "6 9\n"
     ]
    },
    {
     "name": "stderr",
     "output_type": "stream",
     "text": [
      "100%|██████████| 30/30 [00:01<00:00, 19.76it/s]\n"
     ]
    },
    {
     "name": "stdout",
     "output_type": "stream",
     "text": [
      "7 7\n"
     ]
    },
    {
     "name": "stderr",
     "output_type": "stream",
     "text": [
      "100%|██████████| 30/30 [00:01<00:00, 19.86it/s]\n"
     ]
    },
    {
     "name": "stdout",
     "output_type": "stream",
     "text": [
      "8 5\n"
     ]
    },
    {
     "name": "stderr",
     "output_type": "stream",
     "text": [
      "100%|██████████| 30/30 [00:01<00:00, 19.57it/s]\n"
     ]
    },
    {
     "name": "stdout",
     "output_type": "stream",
     "text": [
      "9 3\n"
     ]
    },
    {
     "name": "stderr",
     "output_type": "stream",
     "text": [
      "100%|██████████| 30/30 [00:01<00:00, 19.74it/s]\n"
     ]
    },
    {
     "name": "stdout",
     "output_type": "stream",
     "text": [
      "10 1\n"
     ]
    },
    {
     "name": "stderr",
     "output_type": "stream",
     "text": [
      " 83%|████████▎ | 25/30 [00:01<00:00, 19.12it/s]\n",
      "\n"
     ]
    },
    {
     "name": "stdout",
     "output_type": "stream",
     "text": [
      "5 127 8\n"
     ]
    },
    {
     "name": "stderr",
     "output_type": "stream",
     "text": [
      "\r",
      "  0%|          | 0/30 [00:00<?, ?it/s]"
     ]
    },
    {
     "name": "stdout",
     "output_type": "stream",
     "text": [
      "\n"
     ]
    },
    {
     "name": "stderr",
     "output_type": "stream",
     "text": [
      "100%|██████████| 30/30 [00:01<00:00, 19.60it/s]\n",
      "  0%|          | 0/30 [00:00<?, ?it/s]"
     ]
    },
    {
     "name": "stdout",
     "output_type": "stream",
     "text": [
      "6 10\n"
     ]
    },
    {
     "name": "stderr",
     "output_type": "stream",
     "text": [
      "100%|██████████| 30/30 [00:01<00:00, 19.08it/s]\n"
     ]
    },
    {
     "name": "stdout",
     "output_type": "stream",
     "text": [
      "8 6\n"
     ]
    },
    {
     "name": "stderr",
     "output_type": "stream",
     "text": [
      " 20%|██        | 6/30 [00:00<00:01, 19.14it/s]]\n"
     ]
    },
    {
     "name": "stdout",
     "output_type": "stream",
     "text": [
      "9 4\n"
     ]
    },
    {
     "name": "stderr",
     "output_type": "stream",
     "text": [
      "100%|██████████| 30/30 [00:01<00:00, 18.76it/s]\n"
     ]
    },
    {
     "name": "stdout",
     "output_type": "stream",
     "text": [
      "10 2\n"
     ]
    },
    {
     "name": "stderr",
     "output_type": "stream",
     "text": [
      "100%|██████████| 30/30 [00:01<00:00, 18.35it/s]\n"
     ]
    },
    {
     "name": "stdout",
     "output_type": "stream",
     "text": [
      "5 13"
     ]
    },
    {
     "name": "stderr",
     "output_type": "stream",
     "text": [
      "\r",
      "100%|██████████| 30/30 [00:01<00:00, 18.25it/s]"
     ]
    },
    {
     "name": "stdout",
     "output_type": "stream",
     "text": [
      "\n"
     ]
    },
    {
     "name": "stderr",
     "output_type": "stream",
     "text": [
      "  0%|          | 0/30 [00:00<?, ?it/s]9.45it/s]\n",
      "100%|██████████| 30/30 [00:01<00:00, 18.19it/s]"
     ]
    },
    {
     "name": "stdout",
     "output_type": "stream",
     "text": [
      "7 9"
     ]
    },
    {
     "name": "stderr",
     "output_type": "stream",
     "text": [
      "\n"
     ]
    },
    {
     "name": "stdout",
     "output_type": "stream",
     "text": [
      "\n",
      "6 11"
     ]
    },
    {
     "name": "stderr",
     "output_type": "stream",
     "text": [
      "\r",
      "  0%|          | 0/30 [00:00<?, ?it/s]"
     ]
    },
    {
     "name": "stdout",
     "output_type": "stream",
     "text": [
      "\n"
     ]
    },
    {
     "name": "stderr",
     "output_type": "stream",
     "text": [
      "100%|██████████| 30/30 [00:01<00:00, 18.70it/s]\n",
      " 97%|█████████▋| 29/30 [00:01<00:00, 18.42it/s]"
     ]
    },
    {
     "name": "stdout",
     "output_type": "stream",
     "text": [
      "8 7\n"
     ]
    },
    {
     "name": "stderr",
     "output_type": "stream",
     "text": [
      "100%|██████████| 30/30 [00:01<00:00, 19.02it/s]\n"
     ]
    },
    {
     "name": "stdout",
     "output_type": "stream",
     "text": [
      "9 5\n"
     ]
    },
    {
     "name": "stderr",
     "output_type": "stream",
     "text": [
      "100%|██████████| 30/30 [00:01<00:00, 18.97it/s]\n"
     ]
    },
    {
     "name": "stdout",
     "output_type": "stream",
     "text": [
      "10 3\n"
     ]
    },
    {
     "name": "stderr",
     "output_type": "stream",
     "text": [
      "100%|██████████| 30/30 [00:01<00:00, 19.80it/s]\n",
      "\n"
     ]
    },
    {
     "name": "stdout",
     "output_type": "stream",
     "text": [
      "5 147 10\n",
      "\n"
     ]
    },
    {
     "name": "stderr",
     "output_type": "stream",
     "text": [
      "100%|██████████| 30/30 [00:01<00:00, 19.67it/s]\n"
     ]
    },
    {
     "name": "stdout",
     "output_type": "stream",
     "text": [
      "6 12\n"
     ]
    },
    {
     "name": "stderr",
     "output_type": "stream",
     "text": [
      "100%|██████████| 30/30 [00:01<00:00, 19.91it/s]\n"
     ]
    },
    {
     "name": "stdout",
     "output_type": "stream",
     "text": [
      "8 8\n"
     ]
    },
    {
     "name": "stderr",
     "output_type": "stream",
     "text": [
      "100%|██████████| 30/30 [00:01<00:00, 19.59it/s]\n"
     ]
    },
    {
     "name": "stdout",
     "output_type": "stream",
     "text": [
      "9 6\n"
     ]
    },
    {
     "name": "stderr",
     "output_type": "stream",
     "text": [
      "100%|██████████| 30/30 [00:01<00:00, 20.22it/s]\n"
     ]
    },
    {
     "name": "stdout",
     "output_type": "stream",
     "text": [
      "10 4"
     ]
    },
    {
     "name": "stderr",
     "output_type": "stream",
     "text": [
      "\r",
      " 40%|████      | 12/30 [00:00<00:00, 21.63it/s]"
     ]
    },
    {
     "name": "stdout",
     "output_type": "stream",
     "text": [
      "\n"
     ]
    },
    {
     "name": "stderr",
     "output_type": "stream",
     "text": [
      "100%|██████████| 30/30 [00:01<00:00, 20.12it/s]\n"
     ]
    },
    {
     "name": "stdout",
     "output_type": "stream",
     "text": [
      "5 15\n"
     ]
    },
    {
     "name": "stderr",
     "output_type": "stream",
     "text": [
      "100%|██████████| 30/30 [00:01<00:00, 20.04it/s]\n"
     ]
    },
    {
     "name": "stdout",
     "output_type": "stream",
     "text": [
      "7 11\n"
     ]
    },
    {
     "name": "stderr",
     "output_type": "stream",
     "text": [
      "100%|██████████| 30/30 [00:01<00:00, 20.12it/s]\n"
     ]
    },
    {
     "name": "stdout",
     "output_type": "stream",
     "text": [
      "6 13\n"
     ]
    },
    {
     "name": "stderr",
     "output_type": "stream",
     "text": [
      "100%|██████████| 30/30 [00:01<00:00, 20.06it/s]\n"
     ]
    },
    {
     "name": "stdout",
     "output_type": "stream",
     "text": [
      "8 9\n"
     ]
    },
    {
     "name": "stderr",
     "output_type": "stream",
     "text": [
      "100%|██████████| 30/30 [00:01<00:00, 19.96it/s]\n",
      " 80%|████████  | 24/30 [00:01<00:00, 19.17it/s]"
     ]
    },
    {
     "name": "stdout",
     "output_type": "stream",
     "text": [
      "9 7\n"
     ]
    },
    {
     "name": "stderr",
     "output_type": "stream",
     "text": [
      "100%|██████████| 30/30 [00:01<00:00, 20.22it/s]\n"
     ]
    },
    {
     "name": "stdout",
     "output_type": "stream",
     "text": [
      "10 5\n"
     ]
    },
    {
     "name": "stderr",
     "output_type": "stream",
     "text": [
      "100%|██████████| 30/30 [00:01<00:00, 19.90it/s]\n",
      "\n"
     ]
    },
    {
     "name": "stdout",
     "output_type": "stream",
     "text": [
      "6 147 12\n",
      "\n"
     ]
    },
    {
     "name": "stderr",
     "output_type": "stream",
     "text": [
      "100%|██████████| 30/30 [00:01<00:00, 19.74it/s]\n"
     ]
    },
    {
     "name": "stdout",
     "output_type": "stream",
     "text": [
      "5 16\n"
     ]
    },
    {
     "name": "stderr",
     "output_type": "stream",
     "text": [
      "100%|██████████| 30/30 [00:01<00:00, 19.98it/s]\n"
     ]
    },
    {
     "name": "stdout",
     "output_type": "stream",
     "text": [
      "8 10\n"
     ]
    },
    {
     "name": "stderr",
     "output_type": "stream",
     "text": [
      "100%|██████████| 30/30 [00:01<00:00, 19.89it/s]\n"
     ]
    },
    {
     "name": "stdout",
     "output_type": "stream",
     "text": [
      "9 8\n"
     ]
    },
    {
     "name": "stderr",
     "output_type": "stream",
     "text": [
      " 20%|██        | 6/30 [00:00<00:01, 21.74it/s]]\n"
     ]
    },
    {
     "name": "stdout",
     "output_type": "stream",
     "text": [
      "10 6\n"
     ]
    },
    {
     "name": "stderr",
     "output_type": "stream",
     "text": [
      "100%|██████████| 30/30 [00:01<00:00, 20.27it/s]\n"
     ]
    },
    {
     "name": "stdout",
     "output_type": "stream",
     "text": [
      "7 13\n"
     ]
    },
    {
     "name": "stderr",
     "output_type": "stream",
     "text": [
      "100%|██████████| 30/30 [00:01<00:00, 20.17it/s]\n"
     ]
    },
    {
     "name": "stdout",
     "output_type": "stream",
     "text": [
      "6 15\n"
     ]
    },
    {
     "name": "stderr",
     "output_type": "stream",
     "text": [
      "100%|██████████| 30/30 [00:01<00:00, 19.90it/s]\n"
     ]
    },
    {
     "name": "stdout",
     "output_type": "stream",
     "text": [
      "5 17\n"
     ]
    },
    {
     "name": "stderr",
     "output_type": "stream",
     "text": [
      "100%|██████████| 30/30 [00:01<00:00, 20.42it/s]\n"
     ]
    },
    {
     "name": "stdout",
     "output_type": "stream",
     "text": [
      "8 11\n"
     ]
    },
    {
     "name": "stderr",
     "output_type": "stream",
     "text": [
      "100%|██████████| 30/30 [00:01<00:00, 20.75it/s]\n"
     ]
    },
    {
     "name": "stdout",
     "output_type": "stream",
     "text": [
      "9 9\n"
     ]
    },
    {
     "name": "stderr",
     "output_type": "stream",
     "text": [
      "100%|██████████| 30/30 [00:01<00:00, 20.90it/s]\n"
     ]
    },
    {
     "name": "stdout",
     "output_type": "stream",
     "text": [
      "10 7\n"
     ]
    },
    {
     "name": "stderr",
     "output_type": "stream",
     "text": [
      "100%|██████████| 30/30 [00:01<00:00, 20.45it/s]\n"
     ]
    },
    {
     "name": "stdout",
     "output_type": "stream",
     "text": [
      "7 14\n"
     ]
    },
    {
     "name": "stderr",
     "output_type": "stream",
     "text": [
      "100%|██████████| 30/30 [00:01<00:00, 20.10it/s]\n"
     ]
    },
    {
     "name": "stdout",
     "output_type": "stream",
     "text": [
      "6 16\n"
     ]
    },
    {
     "name": "stderr",
     "output_type": "stream",
     "text": [
      "100%|██████████| 30/30 [00:01<00:00, 20.21it/s]\n"
     ]
    },
    {
     "name": "stdout",
     "output_type": "stream",
     "text": [
      "5 18\n"
     ]
    },
    {
     "name": "stderr",
     "output_type": "stream",
     "text": [
      "100%|██████████| 30/30 [00:01<00:00, 20.19it/s]\n"
     ]
    },
    {
     "name": "stdout",
     "output_type": "stream",
     "text": [
      "8 12\n"
     ]
    },
    {
     "name": "stderr",
     "output_type": "stream",
     "text": [
      "100%|██████████| 30/30 [00:01<00:00, 19.92it/s]\n"
     ]
    },
    {
     "name": "stdout",
     "output_type": "stream",
     "text": [
      "9 10\n"
     ]
    },
    {
     "name": "stderr",
     "output_type": "stream",
     "text": [
      "100%|██████████| 30/30 [00:01<00:00, 19.79it/s]\n"
     ]
    },
    {
     "name": "stdout",
     "output_type": "stream",
     "text": [
      "10 8\n"
     ]
    },
    {
     "name": "stderr",
     "output_type": "stream",
     "text": [
      "100%|██████████| 30/30 [00:01<00:00, 20.18it/s]\n"
     ]
    },
    {
     "name": "stdout",
     "output_type": "stream",
     "text": [
      "7 15\n"
     ]
    },
    {
     "name": "stderr",
     "output_type": "stream",
     "text": [
      "100%|██████████| 30/30 [00:01<00:00, 20.50it/s]\n"
     ]
    },
    {
     "name": "stdout",
     "output_type": "stream",
     "text": [
      "5 19\n"
     ]
    },
    {
     "name": "stderr",
     "output_type": "stream",
     "text": [
      "100%|██████████| 30/30 [00:01<00:00, 20.02it/s]\n"
     ]
    },
    {
     "name": "stdout",
     "output_type": "stream",
     "text": [
      "6 17\n"
     ]
    },
    {
     "name": "stderr",
     "output_type": "stream",
     "text": [
      "100%|██████████| 30/30 [00:01<00:00, 19.89it/s]\n"
     ]
    },
    {
     "name": "stdout",
     "output_type": "stream",
     "text": [
      "8 13\n"
     ]
    },
    {
     "name": "stderr",
     "output_type": "stream",
     "text": [
      "100%|██████████| 30/30 [00:01<00:00, 20.30it/s]\n"
     ]
    },
    {
     "name": "stdout",
     "output_type": "stream",
     "text": [
      "9 11\n"
     ]
    },
    {
     "name": "stderr",
     "output_type": "stream",
     "text": [
      "100%|██████████| 30/30 [00:01<00:00, 20.34it/s]\n"
     ]
    },
    {
     "name": "stdout",
     "output_type": "stream",
     "text": [
      "10 9\n"
     ]
    },
    {
     "name": "stderr",
     "output_type": "stream",
     "text": [
      "100%|██████████| 30/30 [00:01<00:00, 20.21it/s]\n"
     ]
    },
    {
     "name": "stdout",
     "output_type": "stream",
     "text": [
      "7 16"
     ]
    },
    {
     "name": "stderr",
     "output_type": "stream",
     "text": [
      "\r",
      " 97%|█████████▋| 29/30 [00:01<00:00, 19.94it/s]"
     ]
    },
    {
     "name": "stdout",
     "output_type": "stream",
     "text": [
      "\n"
     ]
    },
    {
     "name": "stderr",
     "output_type": "stream",
     "text": [
      "100%|██████████| 30/30 [00:01<00:00, 20.32it/s]\n"
     ]
    },
    {
     "name": "stdout",
     "output_type": "stream",
     "text": [
      "6 18\n"
     ]
    },
    {
     "name": "stderr",
     "output_type": "stream",
     "text": [
      "100%|██████████| 30/30 [00:01<00:00, 20.02it/s]\n"
     ]
    },
    {
     "name": "stdout",
     "output_type": "stream",
     "text": [
      "5 20\n"
     ]
    },
    {
     "name": "stderr",
     "output_type": "stream",
     "text": [
      "100%|██████████| 30/30 [00:01<00:00, 20.32it/s]\n"
     ]
    },
    {
     "name": "stdout",
     "output_type": "stream",
     "text": [
      "8 14\n"
     ]
    },
    {
     "name": "stderr",
     "output_type": "stream",
     "text": [
      "100%|██████████| 30/30 [00:01<00:00, 20.02it/s]\n"
     ]
    },
    {
     "name": "stdout",
     "output_type": "stream",
     "text": [
      "9 12"
     ]
    },
    {
     "name": "stderr",
     "output_type": "stream",
     "text": [
      "\r",
      " 20%|██        | 6/30 [00:00<00:01, 21.40it/s]"
     ]
    },
    {
     "name": "stdout",
     "output_type": "stream",
     "text": [
      "\n"
     ]
    },
    {
     "name": "stderr",
     "output_type": "stream",
     "text": [
      "100%|██████████| 30/30 [00:01<00:00, 20.22it/s]\n"
     ]
    },
    {
     "name": "stdout",
     "output_type": "stream",
     "text": [
      "10 10\n"
     ]
    },
    {
     "name": "stderr",
     "output_type": "stream",
     "text": [
      "100%|██████████| 30/30 [00:01<00:00, 20.59it/s]\n"
     ]
    },
    {
     "name": "stdout",
     "output_type": "stream",
     "text": [
      "7 17\n"
     ]
    },
    {
     "name": "stderr",
     "output_type": "stream",
     "text": [
      "100%|██████████| 30/30 [00:01<00:00, 20.55it/s]\n"
     ]
    },
    {
     "name": "stdout",
     "output_type": "stream",
     "text": [
      "6 0\n"
     ]
    },
    {
     "name": "stderr",
     "output_type": "stream",
     "text": [
      "100%|██████████| 30/30 [00:01<00:00, 20.39it/s]\n"
     ]
    },
    {
     "name": "stdout",
     "output_type": "stream",
     "text": [
      "6 19\n"
     ]
    },
    {
     "name": "stderr",
     "output_type": "stream",
     "text": [
      "100%|██████████| 30/30 [00:01<00:00, 20.31it/s]\n"
     ]
    },
    {
     "name": "stdout",
     "output_type": "stream",
     "text": [
      "8 15\n"
     ]
    },
    {
     "name": "stderr",
     "output_type": "stream",
     "text": [
      "100%|██████████| 30/30 [00:01<00:00, 20.22it/s]\n"
     ]
    },
    {
     "name": "stdout",
     "output_type": "stream",
     "text": [
      "9 13"
     ]
    },
    {
     "name": "stderr",
     "output_type": "stream",
     "text": [
      "\r",
      " 20%|██        | 6/30 [00:00<00:01, 19.15it/s]"
     ]
    },
    {
     "name": "stdout",
     "output_type": "stream",
     "text": [
      "\n"
     ]
    },
    {
     "name": "stderr",
     "output_type": "stream",
     "text": [
      "100%|██████████| 30/30 [00:01<00:00, 19.91it/s]\n",
      " 20%|██        | 6/30 [00:00<00:01, 21.55it/s]"
     ]
    },
    {
     "name": "stdout",
     "output_type": "stream",
     "text": [
      "10 11"
     ]
    },
    {
     "name": "stderr",
     "output_type": "stream",
     "text": [
      " 40%|████      | 12/30 [00:00<00:00, 19.98it/s]"
     ]
    },
    {
     "name": "stdout",
     "output_type": "stream",
     "text": [
      "\n"
     ]
    },
    {
     "name": "stderr",
     "output_type": "stream",
     "text": [
      "100%|██████████| 30/30 [00:01<00:00, 19.62it/s]\n"
     ]
    },
    {
     "name": "stdout",
     "output_type": "stream",
     "text": [
      "7 18\n"
     ]
    },
    {
     "name": "stderr",
     "output_type": "stream",
     "text": [
      "100%|██████████| 30/30 [00:01<00:00, 19.85it/s]\n"
     ]
    },
    {
     "name": "stdout",
     "output_type": "stream",
     "text": [
      "6 1\n"
     ]
    },
    {
     "name": "stderr",
     "output_type": "stream",
     "text": [
      "100%|██████████| 30/30 [00:01<00:00, 19.67it/s]\n"
     ]
    },
    {
     "name": "stdout",
     "output_type": "stream",
     "text": [
      "6 20\n"
     ]
    },
    {
     "name": "stderr",
     "output_type": "stream",
     "text": [
      "100%|██████████| 30/30 [00:01<00:00, 19.94it/s]\n"
     ]
    },
    {
     "name": "stdout",
     "output_type": "stream",
     "text": [
      "8 16\n"
     ]
    },
    {
     "name": "stderr",
     "output_type": "stream",
     "text": [
      "100%|██████████| 30/30 [00:01<00:00, 20.25it/s]\n"
     ]
    },
    {
     "name": "stdout",
     "output_type": "stream",
     "text": [
      "9 14\n"
     ]
    },
    {
     "name": "stderr",
     "output_type": "stream",
     "text": [
      "100%|██████████| 30/30 [00:01<00:00, 20.16it/s]\n"
     ]
    },
    {
     "name": "stdout",
     "output_type": "stream",
     "text": [
      "10 12\n"
     ]
    },
    {
     "name": "stderr",
     "output_type": "stream",
     "text": [
      " 80%|████████  | 24/30 [00:01<00:00, 19.39it/s]\n"
     ]
    },
    {
     "name": "stdout",
     "output_type": "stream",
     "text": [
      "7 19\n"
     ]
    },
    {
     "name": "stderr",
     "output_type": "stream",
     "text": [
      "100%|██████████| 30/30 [00:01<00:00, 20.35it/s]\n"
     ]
    },
    {
     "name": "stdout",
     "output_type": "stream",
     "text": [
      "7 0\n"
     ]
    },
    {
     "name": "stderr",
     "output_type": "stream",
     "text": [
      "100%|██████████| 30/30 [00:01<00:00, 19.55it/s]\n"
     ]
    },
    {
     "name": "stdout",
     "output_type": "stream",
     "text": [
      "6 2\n"
     ]
    },
    {
     "name": "stderr",
     "output_type": "stream",
     "text": [
      "100%|██████████| 30/30 [00:01<00:00, 19.72it/s]\n"
     ]
    },
    {
     "name": "stdout",
     "output_type": "stream",
     "text": [
      "8 17\n"
     ]
    },
    {
     "name": "stderr",
     "output_type": "stream",
     "text": [
      "100%|██████████| 30/30 [00:01<00:00, 19.57it/s]\n"
     ]
    },
    {
     "name": "stdout",
     "output_type": "stream",
     "text": [
      "9 15\n"
     ]
    },
    {
     "name": "stderr",
     "output_type": "stream",
     "text": [
      "100%|██████████| 30/30 [00:01<00:00, 19.82it/s]\n"
     ]
    },
    {
     "name": "stdout",
     "output_type": "stream",
     "text": [
      "10 13\n"
     ]
    },
    {
     "name": "stderr",
     "output_type": "stream",
     "text": [
      "100%|██████████| 30/30 [00:01<00:00, 19.73it/s]\n"
     ]
    },
    {
     "name": "stdout",
     "output_type": "stream",
     "text": [
      "7 20\n"
     ]
    },
    {
     "name": "stderr",
     "output_type": "stream",
     "text": [
      "100%|██████████| 30/30 [00:01<00:00, 20.46it/s]\n"
     ]
    },
    {
     "name": "stdout",
     "output_type": "stream",
     "text": [
      "6 3\n"
     ]
    },
    {
     "name": "stderr",
     "output_type": "stream",
     "text": [
      "100%|██████████| 30/30 [00:01<00:00, 19.76it/s]\n"
     ]
    },
    {
     "name": "stdout",
     "output_type": "stream",
     "text": [
      "7 1\n"
     ]
    },
    {
     "name": "stderr",
     "output_type": "stream",
     "text": [
      " 17%|█▋        | 5/30 [00:00<00:01, 18.19it/s]]\n",
      " 17%|█▋        | 5/30 [00:00<00:01, 18.64it/s]"
     ]
    },
    {
     "name": "stdout",
     "output_type": "stream",
     "text": [
      "8 18\n"
     ]
    },
    {
     "name": "stderr",
     "output_type": "stream",
     "text": [
      "100%|██████████| 30/30 [00:01<00:00, 20.04it/s]\n"
     ]
    },
    {
     "name": "stdout",
     "output_type": "stream",
     "text": [
      "9 16\n"
     ]
    },
    {
     "name": "stderr",
     "output_type": "stream",
     "text": [
      "100%|██████████| 30/30 [00:01<00:00, 19.87it/s]\n"
     ]
    },
    {
     "name": "stdout",
     "output_type": "stream",
     "text": [
      "10 14\n"
     ]
    },
    {
     "name": "stderr",
     "output_type": "stream",
     "text": [
      "100%|██████████| 30/30 [00:01<00:00, 19.96it/s]\n"
     ]
    },
    {
     "name": "stdout",
     "output_type": "stream",
     "text": [
      "6 4"
     ]
    },
    {
     "name": "stderr",
     "output_type": "stream",
     "text": [
      "\r",
      " 97%|█████████▋| 29/30 [00:01<00:00, 19.53it/s]"
     ]
    },
    {
     "name": "stdout",
     "output_type": "stream",
     "text": [
      "\n"
     ]
    },
    {
     "name": "stderr",
     "output_type": "stream",
     "text": [
      "100%|██████████| 30/30 [00:01<00:00, 19.63it/s]\n"
     ]
    },
    {
     "name": "stdout",
     "output_type": "stream",
     "text": [
      "8 0\n"
     ]
    },
    {
     "name": "stderr",
     "output_type": "stream",
     "text": [
      "100%|██████████| 30/30 [00:01<00:00, 20.08it/s]\n"
     ]
    },
    {
     "name": "stdout",
     "output_type": "stream",
     "text": [
      "7 2\n"
     ]
    },
    {
     "name": "stderr",
     "output_type": "stream",
     "text": [
      "100%|██████████| 30/30 [00:01<00:00, 20.44it/s]\n"
     ]
    },
    {
     "name": "stdout",
     "output_type": "stream",
     "text": [
      "8 19\n"
     ]
    },
    {
     "name": "stderr",
     "output_type": "stream",
     "text": [
      "100%|██████████| 30/30 [00:01<00:00, 20.12it/s]\n"
     ]
    },
    {
     "name": "stdout",
     "output_type": "stream",
     "text": [
      "9 17"
     ]
    },
    {
     "name": "stderr",
     "output_type": "stream",
     "text": [
      "\r",
      " 20%|██        | 6/30 [00:00<00:01, 20.25it/s]"
     ]
    },
    {
     "name": "stdout",
     "output_type": "stream",
     "text": [
      "\n"
     ]
    },
    {
     "name": "stderr",
     "output_type": "stream",
     "text": [
      "100%|██████████| 30/30 [00:01<00:00, 20.16it/s]\n"
     ]
    },
    {
     "name": "stdout",
     "output_type": "stream",
     "text": [
      "10 15\n"
     ]
    },
    {
     "name": "stderr",
     "output_type": "stream",
     "text": [
      "100%|██████████| 30/30 [00:01<00:00, 19.89it/s]\n",
      " 83%|████████▎ | 25/30 [00:01<00:00, 20.27it/s]"
     ]
    },
    {
     "name": "stdout",
     "output_type": "stream",
     "text": [
      "6 5\n"
     ]
    },
    {
     "name": "stderr",
     "output_type": "stream",
     "text": [
      "100%|██████████| 30/30 [00:01<00:00, 19.80it/s]\n"
     ]
    },
    {
     "name": "stdout",
     "output_type": "stream",
     "text": [
      "8 1\n"
     ]
    },
    {
     "name": "stderr",
     "output_type": "stream",
     "text": [
      "100%|██████████| 30/30 [00:01<00:00, 19.79it/s]\n"
     ]
    },
    {
     "name": "stdout",
     "output_type": "stream",
     "text": [
      "7 3\n"
     ]
    },
    {
     "name": "stderr",
     "output_type": "stream",
     "text": [
      "100%|██████████| 30/30 [00:01<00:00, 20.06it/s]\n"
     ]
    },
    {
     "name": "stdout",
     "output_type": "stream",
     "text": [
      "8 20\n"
     ]
    },
    {
     "name": "stderr",
     "output_type": "stream",
     "text": [
      "100%|██████████| 30/30 [00:01<00:00, 19.97it/s]\n"
     ]
    },
    {
     "name": "stdout",
     "output_type": "stream",
     "text": [
      "9 18\n"
     ]
    },
    {
     "name": "stderr",
     "output_type": "stream",
     "text": [
      "100%|██████████| 30/30 [00:01<00:00, 20.06it/s]\n"
     ]
    },
    {
     "name": "stdout",
     "output_type": "stream",
     "text": [
      "10 16\n"
     ]
    },
    {
     "name": "stderr",
     "output_type": "stream",
     "text": [
      "100%|██████████| 30/30 [00:01<00:00, 20.51it/s]\n"
     ]
    },
    {
     "name": "stdout",
     "output_type": "stream",
     "text": [
      "6 6\n"
     ]
    },
    {
     "name": "stderr",
     "output_type": "stream",
     "text": [
      "100%|██████████| 30/30 [00:01<00:00, 20.07it/s]\n"
     ]
    },
    {
     "name": "stdout",
     "output_type": "stream",
     "text": [
      "8 2\n"
     ]
    },
    {
     "name": "stderr",
     "output_type": "stream",
     "text": [
      "100%|██████████| 30/30 [00:01<00:00, 19.81it/s]\n"
     ]
    },
    {
     "name": "stdout",
     "output_type": "stream",
     "text": [
      "7 4\n"
     ]
    },
    {
     "name": "stderr",
     "output_type": "stream",
     "text": [
      " 97%|█████████▋| 29/30 [00:01<00:00, 19.91it/s]\n"
     ]
    },
    {
     "name": "stdout",
     "output_type": "stream",
     "text": [
      "9 0\n"
     ]
    },
    {
     "name": "stderr",
     "output_type": "stream",
     "text": [
      "100%|██████████| 30/30 [00:01<00:00, 19.76it/s]\n"
     ]
    },
    {
     "name": "stdout",
     "output_type": "stream",
     "text": [
      "9 19\n"
     ]
    },
    {
     "name": "stderr",
     "output_type": "stream",
     "text": [
      "100%|██████████| 30/30 [00:01<00:00, 20.23it/s]\n"
     ]
    },
    {
     "name": "stdout",
     "output_type": "stream",
     "text": [
      "10 17\n"
     ]
    },
    {
     "name": "stderr",
     "output_type": "stream",
     "text": [
      "100%|██████████| 30/30 [00:01<00:00, 19.50it/s]\n"
     ]
    },
    {
     "name": "stdout",
     "output_type": "stream",
     "text": [
      "10 18\n"
     ]
    },
    {
     "name": "stderr",
     "output_type": "stream",
     "text": [
      "100%|██████████| 30/30 [00:01<00:00, 20.18it/s]\n"
     ]
    },
    {
     "name": "stdout",
     "output_type": "stream",
     "text": [
      "11 16\n"
     ]
    },
    {
     "name": "stderr",
     "output_type": "stream",
     "text": [
      "100%|██████████| 30/30 [00:01<00:00, 19.57it/s]\n",
      "  0%|          | 0/30 [00:00<?, ?it/s]"
     ]
    },
    {
     "name": "stdout",
     "output_type": "stream",
     "text": [
      "12 14\n"
     ]
    },
    {
     "name": "stderr",
     "output_type": "stream",
     "text": [
      "100%|██████████| 30/30 [00:01<00:00, 19.84it/s]\n"
     ]
    },
    {
     "name": "stdout",
     "output_type": "stream",
     "text": [
      "13 12\n"
     ]
    },
    {
     "name": "stderr",
     "output_type": "stream",
     "text": [
      "100%|██████████| 30/30 [00:01<00:00, 20.34it/s]\n"
     ]
    },
    {
     "name": "stdout",
     "output_type": "stream",
     "text": [
      "14 10\n"
     ]
    },
    {
     "name": "stderr",
     "output_type": "stream",
     "text": [
      "100%|██████████| 30/30 [00:01<00:00, 19.34it/s]\n"
     ]
    },
    {
     "name": "stdout",
     "output_type": "stream",
     "text": [
      "15 8\n"
     ]
    },
    {
     "name": "stderr",
     "output_type": "stream",
     "text": [
      "100%|██████████| 30/30 [00:01<00:00, 20.29it/s]\n"
     ]
    },
    {
     "name": "stdout",
     "output_type": "stream",
     "text": [
      "10 19\n"
     ]
    },
    {
     "name": "stderr",
     "output_type": "stream",
     "text": [
      "100%|██████████| 30/30 [00:01<00:00, 20.62it/s]\n"
     ]
    },
    {
     "name": "stdout",
     "output_type": "stream",
     "text": [
      "11 17\n"
     ]
    },
    {
     "name": "stderr",
     "output_type": "stream",
     "text": [
      "100%|██████████| 30/30 [00:01<00:00, 20.51it/s]\n"
     ]
    },
    {
     "name": "stdout",
     "output_type": "stream",
     "text": [
      "12 15\n"
     ]
    },
    {
     "name": "stderr",
     "output_type": "stream",
     "text": [
      "100%|██████████| 30/30 [00:01<00:00, 20.14it/s]\n"
     ]
    },
    {
     "name": "stdout",
     "output_type": "stream",
     "text": [
      "13 13"
     ]
    },
    {
     "name": "stderr",
     "output_type": "stream",
     "text": [
      "100%|██████████| 30/30 [00:01<00:00, 20.22it/s]\n"
     ]
    },
    {
     "name": "stdout",
     "output_type": "stream",
     "text": [
      "\n"
     ]
    },
    {
     "name": "stderr",
     "output_type": "stream",
     "text": [
      "\r",
      "  0%|          | 0/30 [00:00<?, ?it/s]"
     ]
    },
    {
     "name": "stdout",
     "output_type": "stream",
     "text": [
      "14 11\n"
     ]
    },
    {
     "name": "stderr",
     "output_type": "stream",
     "text": [
      "100%|██████████| 30/30 [00:01<00:00, 20.20it/s]\n"
     ]
    },
    {
     "name": "stdout",
     "output_type": "stream",
     "text": [
      "15 9\n"
     ]
    },
    {
     "name": "stderr",
     "output_type": "stream",
     "text": [
      "100%|██████████| 30/30 [00:01<00:00, 20.14it/s]\n"
     ]
    },
    {
     "name": "stdout",
     "output_type": "stream",
     "text": [
      "10 20\n"
     ]
    },
    {
     "name": "stderr",
     "output_type": "stream",
     "text": [
      "100%|██████████| 30/30 [00:01<00:00, 20.24it/s]\n"
     ]
    },
    {
     "name": "stdout",
     "output_type": "stream",
     "text": [
      "12 16\n"
     ]
    },
    {
     "name": "stderr",
     "output_type": "stream",
     "text": [
      "100%|██████████| 30/30 [00:01<00:00, 19.56it/s]\n"
     ]
    },
    {
     "name": "stdout",
     "output_type": "stream",
     "text": [
      "11 18\n"
     ]
    },
    {
     "name": "stderr",
     "output_type": "stream",
     "text": [
      "100%|██████████| 30/30 [00:01<00:00, 20.33it/s]\n"
     ]
    },
    {
     "name": "stdout",
     "output_type": "stream",
     "text": [
      "13 14\n"
     ]
    },
    {
     "name": "stderr",
     "output_type": "stream",
     "text": [
      "100%|██████████| 30/30 [00:01<00:00, 19.92it/s]\n"
     ]
    },
    {
     "name": "stdout",
     "output_type": "stream",
     "text": [
      "14 12\n"
     ]
    },
    {
     "name": "stderr",
     "output_type": "stream",
     "text": [
      "100%|██████████| 30/30 [00:01<00:00, 20.42it/s]\n"
     ]
    },
    {
     "name": "stdout",
     "output_type": "stream",
     "text": [
      "15 10\n"
     ]
    },
    {
     "name": "stderr",
     "output_type": "stream",
     "text": [
      "100%|██████████| 30/30 [00:01<00:00, 23.20it/s]\n"
     ]
    },
    {
     "name": "stdout",
     "output_type": "stream",
     "text": [
      "12 17\n"
     ]
    },
    {
     "name": "stderr",
     "output_type": "stream",
     "text": [
      "100%|██████████| 30/30 [00:01<00:00, 24.75it/s]\n"
     ]
    },
    {
     "name": "stdout",
     "output_type": "stream",
     "text": [
      "13 15\n"
     ]
    },
    {
     "name": "stderr",
     "output_type": "stream",
     "text": [
      "100%|██████████| 30/30 [00:01<00:00, 25.11it/s]\n"
     ]
    },
    {
     "name": "stdout",
     "output_type": "stream",
     "text": [
      "14 13\n"
     ]
    },
    {
     "name": "stderr",
     "output_type": "stream",
     "text": [
      "100%|██████████| 30/30 [00:01<00:00, 25.66it/s]\n"
     ]
    },
    {
     "name": "stdout",
     "output_type": "stream",
     "text": [
      "15 11\n"
     ]
    },
    {
     "name": "stderr",
     "output_type": "stream",
     "text": [
      "100%|██████████| 30/30 [00:02<00:00, 14.77it/s]\n"
     ]
    },
    {
     "name": "stdout",
     "output_type": "stream",
     "text": [
      "11 19\n"
     ]
    },
    {
     "name": "stderr",
     "output_type": "stream",
     "text": [
      "100%|██████████| 30/30 [00:01<00:00, 28.01it/s]\n"
     ]
    },
    {
     "name": "stdout",
     "output_type": "stream",
     "text": [
      "13 16\n"
     ]
    },
    {
     "name": "stderr",
     "output_type": "stream",
     "text": [
      " 80%|████████  | 24/30 [00:00<00:00, 31.61it/s]\n"
     ]
    },
    {
     "name": "stdout",
     "output_type": "stream",
     "text": [
      "14 14\n"
     ]
    },
    {
     "name": "stderr",
     "output_type": "stream",
     "text": [
      "100%|██████████| 30/30 [00:00<00:00, 30.27it/s]\n"
     ]
    },
    {
     "name": "stdout",
     "output_type": "stream",
     "text": [
      "15 12\n"
     ]
    },
    {
     "name": "stderr",
     "output_type": "stream",
     "text": [
      "100%|██████████| 30/30 [00:00<00:00, 39.99it/s]\n"
     ]
    },
    {
     "name": "stdout",
     "output_type": "stream",
     "text": [
      "14 15\n"
     ]
    },
    {
     "name": "stderr",
     "output_type": "stream",
     "text": [
      "100%|██████████| 30/30 [00:00<00:00, 41.73it/s]\n"
     ]
    },
    {
     "name": "stdout",
     "output_type": "stream",
     "text": [
      "15 13\n"
     ]
    },
    {
     "name": "stderr",
     "output_type": "stream",
     "text": [
      "100%|██████████| 30/30 [00:02<00:00, 11.42it/s]\n"
     ]
    },
    {
     "name": "stdout",
     "output_type": "stream",
     "text": [
      "12 18\n"
     ]
    },
    {
     "name": "stderr",
     "output_type": "stream",
     "text": [
      "100%|██████████| 30/30 [00:00<00:00, 59.22it/s]\n"
     ]
    },
    {
     "name": "stdout",
     "output_type": "stream",
     "text": [
      "15 14\n"
     ]
    },
    {
     "name": "stderr",
     "output_type": "stream",
     "text": [
      "100%|██████████| 30/30 [00:02<00:00, 14.97it/s]\n"
     ]
    },
    {
     "name": "stdout",
     "output_type": "stream",
     "text": [
      "13 17\n"
     ]
    },
    {
     "name": "stderr",
     "output_type": "stream",
     "text": [
      "100%|██████████| 30/30 [00:04<00:00,  6.15it/s]\n"
     ]
    },
    {
     "name": "stdout",
     "output_type": "stream",
     "text": [
      "11 0\n"
     ]
    },
    {
     "name": "stderr",
     "output_type": "stream",
     "text": [
      "100%|██████████| 30/30 [00:00<00:00, 153.67it/s]\n"
     ]
    },
    {
     "name": "stdout",
     "output_type": "stream",
     "text": [
      "11 1\n"
     ]
    },
    {
     "name": "stderr",
     "output_type": "stream",
     "text": [
      "100%|██████████| 30/30 [00:01<00:00, 23.37it/s]]\n"
     ]
    },
    {
     "name": "stdout",
     "output_type": "stream",
     "text": [
      "15 15\n"
     ]
    },
    {
     "name": "stderr",
     "output_type": "stream",
     "text": [
      "100%|██████████| 30/30 [00:00<00:00, 145.04it/s]\n"
     ]
    },
    {
     "name": "stdout",
     "output_type": "stream",
     "text": [
      "11 2\n"
     ]
    },
    {
     "name": "stderr",
     "output_type": "stream",
     "text": [
      "100%|██████████| 30/30 [00:00<00:00, 142.97it/s]\n"
     ]
    },
    {
     "name": "stdout",
     "output_type": "stream",
     "text": [
      "11 3\n"
     ]
    },
    {
     "name": "stderr",
     "output_type": "stream",
     "text": [
      "100%|██████████| 30/30 [00:00<00:00, 159.63it/s]\n"
     ]
    },
    {
     "name": "stdout",
     "output_type": "stream",
     "text": [
      "11 4\n"
     ]
    },
    {
     "name": "stderr",
     "output_type": "stream",
     "text": [
      "100%|██████████| 30/30 [00:00<00:00, 141.94it/s]\n"
     ]
    },
    {
     "name": "stdout",
     "output_type": "stream",
     "text": [
      "11 5\n"
     ]
    },
    {
     "name": "stderr",
     "output_type": "stream",
     "text": [
      "100%|██████████| 30/30 [00:00<00:00, 160.48it/s]\n"
     ]
    },
    {
     "name": "stdout",
     "output_type": "stream",
     "text": [
      "11 6\n"
     ]
    },
    {
     "name": "stderr",
     "output_type": "stream",
     "text": [
      "100%|██████████| 30/30 [00:00<00:00, 133.47it/s]\n"
     ]
    },
    {
     "name": "stdout",
     "output_type": "stream",
     "text": [
      "11 7\n"
     ]
    },
    {
     "name": "stderr",
     "output_type": "stream",
     "text": [
      "100%|██████████| 30/30 [00:03<00:00,  9.29it/s]]\n"
     ]
    },
    {
     "name": "stdout",
     "output_type": "stream",
     "text": [
      "14 16\n"
     ]
    },
    {
     "name": "stderr",
     "output_type": "stream",
     "text": [
      "100%|██████████| 30/30 [00:00<00:00, 158.10it/s]\n"
     ]
    },
    {
     "name": "stdout",
     "output_type": "stream",
     "text": [
      "11 8\n"
     ]
    },
    {
     "name": "stderr",
     "output_type": "stream",
     "text": [
      "100%|██████████| 30/30 [00:00<00:00, 127.94it/s]\n"
     ]
    },
    {
     "name": "stdout",
     "output_type": "stream",
     "text": [
      "11 9\n"
     ]
    },
    {
     "name": "stderr",
     "output_type": "stream",
     "text": [
      "100%|██████████| 30/30 [00:00<00:00, 97.25it/s] \n"
     ]
    },
    {
     "name": "stdout",
     "output_type": "stream",
     "text": [
      "11 10\n"
     ]
    },
    {
     "name": "stderr",
     "output_type": "stream",
     "text": [
      "100%|██████████| 30/30 [00:00<00:00, 131.27it/s]\n"
     ]
    },
    {
     "name": "stdout",
     "output_type": "stream",
     "text": [
      "11 11\n"
     ]
    },
    {
     "name": "stderr",
     "output_type": "stream",
     "text": [
      "100%|██████████| 30/30 [00:00<00:00, 126.09it/s]\n"
     ]
    },
    {
     "name": "stdout",
     "output_type": "stream",
     "text": [
      "11 12\n"
     ]
    },
    {
     "name": "stderr",
     "output_type": "stream",
     "text": [
      "100%|██████████| 30/30 [00:00<00:00, 112.94it/s]\n"
     ]
    },
    {
     "name": "stdout",
     "output_type": "stream",
     "text": [
      "11 13\n"
     ]
    },
    {
     "name": "stderr",
     "output_type": "stream",
     "text": [
      "100%|██████████| 30/30 [00:00<00:00, 140.71it/s]\n"
     ]
    },
    {
     "name": "stdout",
     "output_type": "stream",
     "text": [
      "11 14\n"
     ]
    },
    {
     "name": "stderr",
     "output_type": "stream",
     "text": [
      "100%|██████████| 30/30 [00:00<00:00, 119.60it/s]\n"
     ]
    },
    {
     "name": "stdout",
     "output_type": "stream",
     "text": [
      "11 15\n"
     ]
    },
    {
     "name": "stderr",
     "output_type": "stream",
     "text": [
      "100%|██████████| 30/30 [00:00<00:00, 120.27it/s]\n"
     ]
    },
    {
     "name": "stdout",
     "output_type": "stream",
     "text": [
      "16 6"
     ]
    },
    {
     "name": "stderr",
     "output_type": "stream",
     "text": [
      "\r",
      " 27%|██▋       | 8/30 [00:03<00:10,  2.15it/s]"
     ]
    },
    {
     "name": "stdout",
     "output_type": "stream",
     "text": [
      "\n"
     ]
    },
    {
     "name": "stderr",
     "output_type": "stream",
     "text": [
      "100%|██████████| 30/30 [00:00<00:00, 150.78it/s]\n"
     ]
    },
    {
     "name": "stdout",
     "output_type": "stream",
     "text": [
      "16 7"
     ]
    },
    {
     "name": "stderr",
     "output_type": "stream",
     "text": [
      "\r",
      " 10%|█         | 3/30 [00:02<00:22,  1.22it/s]"
     ]
    },
    {
     "name": "stdout",
     "output_type": "stream",
     "text": [
      "\n"
     ]
    },
    {
     "name": "stderr",
     "output_type": "stream",
     "text": [
      "100%|██████████| 30/30 [00:00<00:00, 133.83it/s]\n"
     ]
    },
    {
     "name": "stdout",
     "output_type": "stream",
     "text": [
      "16 8\n"
     ]
    },
    {
     "name": "stderr",
     "output_type": "stream",
     "text": [
      "100%|██████████| 30/30 [00:00<00:00, 125.62it/s]\n"
     ]
    },
    {
     "name": "stdout",
     "output_type": "stream",
     "text": [
      "16 9\n"
     ]
    },
    {
     "name": "stderr",
     "output_type": "stream",
     "text": [
      "100%|██████████| 30/30 [00:00<00:00, 129.42it/s]\n"
     ]
    },
    {
     "name": "stdout",
     "output_type": "stream",
     "text": [
      "16 10\n"
     ]
    },
    {
     "name": "stderr",
     "output_type": "stream",
     "text": [
      "100%|██████████| 30/30 [00:00<00:00, 140.58it/s]\n"
     ]
    },
    {
     "name": "stdout",
     "output_type": "stream",
     "text": [
      "16 11\n"
     ]
    },
    {
     "name": "stderr",
     "output_type": "stream",
     "text": [
      "100%|██████████| 30/30 [00:00<00:00, 79.83it/s] \n"
     ]
    },
    {
     "name": "stdout",
     "output_type": "stream",
     "text": [
      "16 12\n"
     ]
    },
    {
     "name": "stderr",
     "output_type": "stream",
     "text": [
      "100%|██████████| 30/30 [00:00<00:00, 77.73it/s]\n"
     ]
    },
    {
     "name": "stdout",
     "output_type": "stream",
     "text": [
      "16 13\n"
     ]
    },
    {
     "name": "stderr",
     "output_type": "stream",
     "text": [
      "100%|██████████| 30/30 [00:00<00:00, 37.52it/s]\n"
     ]
    },
    {
     "name": "stdout",
     "output_type": "stream",
     "text": [
      "16 14\n"
     ]
    },
    {
     "name": "stderr",
     "output_type": "stream",
     "text": [
      "100%|██████████| 30/30 [00:12<00:00,  2.32it/s]\n"
     ]
    },
    {
     "name": "stdout",
     "output_type": "stream",
     "text": [
      "11 20\n"
     ]
    },
    {
     "name": "stderr",
     "output_type": "stream",
     "text": [
      "100%|██████████| 30/30 [00:13<00:00,  2.18it/s]\n"
     ]
    },
    {
     "name": "stdout",
     "output_type": "stream",
     "text": [
      "15 16\n"
     ]
    },
    {
     "name": "stderr",
     "output_type": "stream",
     "text": [
      "100%|██████████| 30/30 [00:08<00:00,  3.55it/s]\n"
     ]
    },
    {
     "name": "stdout",
     "output_type": "stream",
     "text": [
      "16 15\n"
     ]
    },
    {
     "name": "stderr",
     "output_type": "stream",
     "text": [
      "100%|██████████| 30/30 [00:17<00:00,  1.71it/s]\n"
     ]
    },
    {
     "name": "stdout",
     "output_type": "stream",
     "text": [
      "12 19\n"
     ]
    },
    {
     "name": "stderr",
     "output_type": "stream",
     "text": [
      "100%|██████████| 30/30 [00:20<00:00,  1.50it/s]\n"
     ]
    },
    {
     "name": "stdout",
     "output_type": "stream",
     "text": [
      "13 18\n"
     ]
    },
    {
     "name": "stderr",
     "output_type": "stream",
     "text": [
      "100%|██████████| 30/30 [00:19<00:00,  1.54it/s]\n"
     ]
    },
    {
     "name": "stdout",
     "output_type": "stream",
     "text": [
      "14 17\n"
     ]
    },
    {
     "name": "stderr",
     "output_type": "stream",
     "text": [
      "100%|██████████| 30/30 [00:29<00:00,  1.03it/s]\n"
     ]
    },
    {
     "name": "stdout",
     "output_type": "stream",
     "text": [
      "12 0\n"
     ]
    },
    {
     "name": "stderr",
     "output_type": "stream",
     "text": [
      "100%|██████████| 30/30 [00:00<00:00, 161.74it/s]\n"
     ]
    },
    {
     "name": "stdout",
     "output_type": "stream",
     "text": [
      "12 1\n"
     ]
    },
    {
     "name": "stderr",
     "output_type": "stream",
     "text": [
      "100%|██████████| 30/30 [00:00<00:00, 139.93it/s]\n"
     ]
    },
    {
     "name": "stdout",
     "output_type": "stream",
     "text": [
      "12 2\n"
     ]
    },
    {
     "name": "stderr",
     "output_type": "stream",
     "text": [
      "100%|██████████| 30/30 [00:00<00:00, 132.63it/s]\n"
     ]
    },
    {
     "name": "stdout",
     "output_type": "stream",
     "text": [
      "12 3\n"
     ]
    },
    {
     "name": "stderr",
     "output_type": "stream",
     "text": [
      "100%|██████████| 30/30 [00:00<00:00, 133.26it/s]\n"
     ]
    },
    {
     "name": "stdout",
     "output_type": "stream",
     "text": [
      "12 4\n"
     ]
    },
    {
     "name": "stderr",
     "output_type": "stream",
     "text": [
      "100%|██████████| 30/30 [00:00<00:00, 122.68it/s]\n",
      " 43%|████▎     | 13/30 [00:19<00:26,  1.55s/it]"
     ]
    },
    {
     "name": "stdout",
     "output_type": "stream",
     "text": [
      "12 5\n"
     ]
    },
    {
     "name": "stderr",
     "output_type": "stream",
     "text": [
      "100%|██████████| 30/30 [00:00<00:00, 120.08it/s]\n"
     ]
    },
    {
     "name": "stdout",
     "output_type": "stream",
     "text": [
      "12 6\n"
     ]
    },
    {
     "name": "stderr",
     "output_type": "stream",
     "text": [
      "100%|██████████| 30/30 [00:00<00:00, 124.67it/s]\n"
     ]
    },
    {
     "name": "stdout",
     "output_type": "stream",
     "text": [
      "12 7\n"
     ]
    },
    {
     "name": "stderr",
     "output_type": "stream",
     "text": [
      "100%|██████████| 30/30 [00:00<00:00, 146.88it/s]\n"
     ]
    },
    {
     "name": "stdout",
     "output_type": "stream",
     "text": [
      "12 8\n"
     ]
    },
    {
     "name": "stderr",
     "output_type": "stream",
     "text": [
      "100%|██████████| 30/30 [00:00<00:00, 144.60it/s]\n"
     ]
    },
    {
     "name": "stdout",
     "output_type": "stream",
     "text": [
      "12 9\n"
     ]
    },
    {
     "name": "stderr",
     "output_type": "stream",
     "text": [
      "100%|██████████| 30/30 [00:00<00:00, 175.67it/s]\n"
     ]
    },
    {
     "name": "stdout",
     "output_type": "stream",
     "text": [
      "12 10\n"
     ]
    },
    {
     "name": "stderr",
     "output_type": "stream",
     "text": [
      "100%|██████████| 30/30 [00:00<00:00, 157.25it/s]\n"
     ]
    },
    {
     "name": "stdout",
     "output_type": "stream",
     "text": [
      "12 11\n"
     ]
    },
    {
     "name": "stderr",
     "output_type": "stream",
     "text": [
      "100%|██████████| 30/30 [00:00<00:00, 131.73it/s]\n"
     ]
    },
    {
     "name": "stdout",
     "output_type": "stream",
     "text": [
      "12 12\n"
     ]
    },
    {
     "name": "stderr",
     "output_type": "stream",
     "text": [
      "100%|██████████| 30/30 [00:00<00:00, 106.21it/s]\n"
     ]
    },
    {
     "name": "stdout",
     "output_type": "stream",
     "text": [
      "12 13\n"
     ]
    },
    {
     "name": "stderr",
     "output_type": "stream",
     "text": [
      "100%|██████████| 30/30 [00:00<00:00, 124.79it/s]\n"
     ]
    },
    {
     "name": "stdout",
     "output_type": "stream",
     "text": [
      "17 4\n"
     ]
    },
    {
     "name": "stderr",
     "output_type": "stream",
     "text": [
      "100%|██████████| 30/30 [00:00<00:00, 140.71it/s]\n"
     ]
    },
    {
     "name": "stdout",
     "output_type": "stream",
     "text": [
      "17 5\n"
     ]
    },
    {
     "name": "stderr",
     "output_type": "stream",
     "text": [
      "100%|██████████| 30/30 [00:00<00:00, 131.08it/s]\n"
     ]
    },
    {
     "name": "stdout",
     "output_type": "stream",
     "text": [
      "17 6\n"
     ]
    },
    {
     "name": "stderr",
     "output_type": "stream",
     "text": [
      "100%|██████████| 30/30 [00:00<00:00, 129.73it/s]\n"
     ]
    },
    {
     "name": "stdout",
     "output_type": "stream",
     "text": [
      "17 7\n"
     ]
    },
    {
     "name": "stderr",
     "output_type": "stream",
     "text": [
      "100%|██████████| 30/30 [00:00<00:00, 134.68it/s]\n"
     ]
    },
    {
     "name": "stdout",
     "output_type": "stream",
     "text": [
      "17 8\n"
     ]
    },
    {
     "name": "stderr",
     "output_type": "stream",
     "text": [
      "100%|██████████| 30/30 [00:00<00:00, 131.27it/s]\n"
     ]
    },
    {
     "name": "stdout",
     "output_type": "stream",
     "text": [
      "17 9\n"
     ]
    },
    {
     "name": "stderr",
     "output_type": "stream",
     "text": [
      "100%|██████████| 30/30 [00:00<00:00, 125.51it/s]\n"
     ]
    },
    {
     "name": "stdout",
     "output_type": "stream",
     "text": [
      "17 10\n"
     ]
    },
    {
     "name": "stderr",
     "output_type": "stream",
     "text": [
      "100%|██████████| 30/30 [00:00<00:00, 89.34it/s] \n"
     ]
    },
    {
     "name": "stdout",
     "output_type": "stream",
     "text": [
      "17 11\n"
     ]
    },
    {
     "name": "stderr",
     "output_type": "stream",
     "text": [
      "100%|██████████| 30/30 [00:00<00:00, 101.30it/s]\n"
     ]
    },
    {
     "name": "stdout",
     "output_type": "stream",
     "text": [
      "17 12\n"
     ]
    },
    {
     "name": "stderr",
     "output_type": "stream",
     "text": [
      "100%|██████████| 30/30 [00:00<00:00, 59.29it/s]\n"
     ]
    },
    {
     "name": "stdout",
     "output_type": "stream",
     "text": [
      "17 13\n"
     ]
    },
    {
     "name": "stderr",
     "output_type": "stream",
     "text": [
      "100%|██████████| 30/30 [00:03<00:00,  7.95it/s]\n"
     ]
    },
    {
     "name": "stdout",
     "output_type": "stream",
     "text": [
      "17 14\n"
     ]
    },
    {
     "name": "stderr",
     "output_type": "stream",
     "text": [
      "100%|██████████| 30/30 [00:36<00:00,  1.21s/it]\n"
     ]
    },
    {
     "name": "stdout",
     "output_type": "stream",
     "text": [
      "16 16\n"
     ]
    },
    {
     "name": "stderr",
     "output_type": "stream",
     "text": [
      "100%|██████████| 30/30 [00:36<00:00,  1.23s/it]\n"
     ]
    },
    {
     "name": "stdout",
     "output_type": "stream",
     "text": [
      "12 20\n"
     ]
    },
    {
     "name": "stderr",
     "output_type": "stream",
     "text": [
      "100%|██████████| 30/30 [00:42<00:00,  1.43s/it]\n"
     ]
    },
    {
     "name": "stdout",
     "output_type": "stream",
     "text": [
      "15 17\n"
     ]
    },
    {
     "name": "stderr",
     "output_type": "stream",
     "text": [
      "100%|██████████| 30/30 [00:44<00:00,  1.49s/it]\n"
     ]
    },
    {
     "name": "stdout",
     "output_type": "stream",
     "text": [
      "13 19\n"
     ]
    },
    {
     "name": "stderr",
     "output_type": "stream",
     "text": [
      "100%|██████████| 30/30 [00:43<00:00,  1.46s/it]\n"
     ]
    },
    {
     "name": "stdout",
     "output_type": "stream",
     "text": [
      "14 18\n"
     ]
    },
    {
     "name": "stderr",
     "output_type": "stream",
     "text": [
      "100%|██████████| 30/30 [00:27<00:00,  1.07it/s]\n"
     ]
    },
    {
     "name": "stdout",
     "output_type": "stream",
     "text": [
      "17 15\n"
     ]
    },
    {
     "name": "stderr",
     "output_type": "stream",
     "text": [
      "100%|██████████| 30/30 [00:50<00:00,  1.69s/it]\n"
     ]
    },
    {
     "name": "stdout",
     "output_type": "stream",
     "text": [
      "13 0\n"
     ]
    },
    {
     "name": "stderr",
     "output_type": "stream",
     "text": [
      "100%|██████████| 30/30 [00:00<00:00, 133.91it/s]\n"
     ]
    },
    {
     "name": "stdout",
     "output_type": "stream",
     "text": [
      "13 1\n"
     ]
    },
    {
     "name": "stderr",
     "output_type": "stream",
     "text": [
      "100%|██████████| 30/30 [00:00<00:00, 110.18it/s]\n"
     ]
    },
    {
     "name": "stdout",
     "output_type": "stream",
     "text": [
      "13 2\n"
     ]
    },
    {
     "name": "stderr",
     "output_type": "stream",
     "text": [
      "100%|██████████| 30/30 [00:00<00:00, 134.93it/s]\n"
     ]
    },
    {
     "name": "stdout",
     "output_type": "stream",
     "text": [
      "13 3\n"
     ]
    },
    {
     "name": "stderr",
     "output_type": "stream",
     "text": [
      "100%|██████████| 30/30 [00:53<00:00,  1.79s/it]]\n"
     ]
    },
    {
     "name": "stdout",
     "output_type": "stream",
     "text": [
      "16 17\n"
     ]
    },
    {
     "name": "stderr",
     "output_type": "stream",
     "text": [
      "100%|██████████| 30/30 [00:00<00:00, 130.76it/s]\n"
     ]
    },
    {
     "name": "stdout",
     "output_type": "stream",
     "text": [
      "13 4\n"
     ]
    },
    {
     "name": "stderr",
     "output_type": "stream",
     "text": [
      "100%|██████████| 30/30 [00:00<00:00, 131.95it/s]\n"
     ]
    },
    {
     "name": "stdout",
     "output_type": "stream",
     "text": [
      "13 5\n"
     ]
    },
    {
     "name": "stderr",
     "output_type": "stream",
     "text": [
      "100%|██████████| 30/30 [00:00<00:00, 164.90it/s]\n"
     ]
    },
    {
     "name": "stdout",
     "output_type": "stream",
     "text": [
      "13 6\n"
     ]
    },
    {
     "name": "stderr",
     "output_type": "stream",
     "text": [
      "100%|██████████| 30/30 [00:00<00:00, 185.56it/s]\n"
     ]
    },
    {
     "name": "stdout",
     "output_type": "stream",
     "text": [
      "13 7\n"
     ]
    },
    {
     "name": "stderr",
     "output_type": "stream",
     "text": [
      "100%|██████████| 30/30 [00:00<00:00, 61.01it/s]\n"
     ]
    },
    {
     "name": "stdout",
     "output_type": "stream",
     "text": [
      "13 8\n"
     ]
    },
    {
     "name": "stderr",
     "output_type": "stream",
     "text": [
      "100%|██████████| 30/30 [00:00<00:00, 60.99it/s] \n"
     ]
    },
    {
     "name": "stdout",
     "output_type": "stream",
     "text": [
      "13 9\n"
     ]
    },
    {
     "name": "stderr",
     "output_type": "stream",
     "text": [
      "100%|██████████| 30/30 [00:06<00:00,  4.74it/s]\n"
     ]
    },
    {
     "name": "stdout",
     "output_type": "stream",
     "text": [
      "13 10\n"
     ]
    },
    {
     "name": "stderr",
     "output_type": "stream",
     "text": [
      "100%|██████████| 30/30 [00:59<00:00,  1.99s/it]\n"
     ]
    },
    {
     "name": "stdout",
     "output_type": "stream",
     "text": [
      "15 18\n"
     ]
    },
    {
     "name": "stderr",
     "output_type": "stream",
     "text": [
      "100%|██████████| 30/30 [00:08<00:00,  3.45it/s]\n"
     ]
    },
    {
     "name": "stdout",
     "output_type": "stream",
     "text": [
      "13 11\n"
     ]
    },
    {
     "name": "stderr",
     "output_type": "stream",
     "text": [
      "100%|██████████| 30/30 [00:57<00:00,  1.91s/it]\n"
     ]
    },
    {
     "name": "stdout",
     "output_type": "stream",
     "text": [
      "13 20\n"
     ]
    },
    {
     "name": "stderr",
     "output_type": "stream",
     "text": [
      "100%|██████████| 30/30 [00:59<00:00,  1.97s/it]\n"
     ]
    },
    {
     "name": "stdout",
     "output_type": "stream",
     "text": [
      "14 19\n"
     ]
    },
    {
     "name": "stderr",
     "output_type": "stream",
     "text": [
      "100%|██████████| 30/30 [00:06<00:00,  4.41it/s]\n"
     ]
    },
    {
     "name": "stdout",
     "output_type": "stream",
     "text": [
      "18 2\n"
     ]
    },
    {
     "name": "stderr",
     "output_type": "stream",
     "text": [
      "100%|██████████| 30/30 [00:07<00:00,  3.90it/s]\n"
     ]
    },
    {
     "name": "stdout",
     "output_type": "stream",
     "text": [
      "18 3\n"
     ]
    },
    {
     "name": "stderr",
     "output_type": "stream",
     "text": [
      "100%|██████████| 30/30 [00:59<00:00,  1.99s/it]\n"
     ]
    },
    {
     "name": "stdout",
     "output_type": "stream",
     "text": [
      "17 16\n"
     ]
    },
    {
     "name": "stderr",
     "output_type": "stream",
     "text": [
      "100%|██████████| 30/30 [00:07<00:00,  4.19it/s]\n"
     ]
    },
    {
     "name": "stdout",
     "output_type": "stream",
     "text": [
      "18 4\n"
     ]
    },
    {
     "name": "stderr",
     "output_type": "stream",
     "text": [
      "100%|██████████| 30/30 [00:05<00:00,  5.26it/s]\n"
     ]
    },
    {
     "name": "stdout",
     "output_type": "stream",
     "text": [
      "18 5\n"
     ]
    },
    {
     "name": "stderr",
     "output_type": "stream",
     "text": [
      "100%|██████████| 30/30 [00:06<00:00,  4.96it/s]\n"
     ]
    },
    {
     "name": "stdout",
     "output_type": "stream",
     "text": [
      "18 6\n"
     ]
    },
    {
     "name": "stderr",
     "output_type": "stream",
     "text": [
      "100%|██████████| 30/30 [00:05<00:00,  5.30it/s]\n"
     ]
    },
    {
     "name": "stdout",
     "output_type": "stream",
     "text": [
      "18 7\n"
     ]
    },
    {
     "name": "stderr",
     "output_type": "stream",
     "text": [
      "100%|██████████| 30/30 [00:05<00:00,  5.24it/s]\n"
     ]
    },
    {
     "name": "stdout",
     "output_type": "stream",
     "text": [
      "18 8\n"
     ]
    },
    {
     "name": "stderr",
     "output_type": "stream",
     "text": [
      "100%|██████████| 30/30 [00:05<00:00,  5.32it/s]\n"
     ]
    },
    {
     "name": "stdout",
     "output_type": "stream",
     "text": [
      "18 9\n"
     ]
    },
    {
     "name": "stderr",
     "output_type": "stream",
     "text": [
      "100%|██████████| 30/30 [01:10<00:00,  2.34s/it]\n"
     ]
    },
    {
     "name": "stdout",
     "output_type": "stream",
     "text": [
      "16 18\n"
     ]
    },
    {
     "name": "stderr",
     "output_type": "stream",
     "text": [
      "100%|██████████| 30/30 [00:06<00:00,  4.97it/s]\n"
     ]
    },
    {
     "name": "stdout",
     "output_type": "stream",
     "text": [
      "18 10\n"
     ]
    },
    {
     "name": "stderr",
     "output_type": "stream",
     "text": [
      "100%|██████████| 30/30 [01:03<00:00,  2.12s/it]\n"
     ]
    },
    {
     "name": "stdout",
     "output_type": "stream",
     "text": [
      "15 19\n"
     ]
    },
    {
     "name": "stderr",
     "output_type": "stream",
     "text": [
      "100%|██████████| 30/30 [00:05<00:00,  5.34it/s]\n"
     ]
    },
    {
     "name": "stdout",
     "output_type": "stream",
     "text": [
      "18 11\n"
     ]
    },
    {
     "name": "stderr",
     "output_type": "stream",
     "text": [
      "100%|██████████| 30/30 [01:05<00:00,  2.18s/it]\n"
     ]
    },
    {
     "name": "stdout",
     "output_type": "stream",
     "text": [
      "14 0\n"
     ]
    },
    {
     "name": "stderr",
     "output_type": "stream",
     "text": [
      "100%|██████████| 30/30 [00:06<00:00,  4.71it/s]\n"
     ]
    },
    {
     "name": "stdout",
     "output_type": "stream",
     "text": [
      "18 12\n"
     ]
    },
    {
     "name": "stderr",
     "output_type": "stream",
     "text": [
      "100%|██████████| 30/30 [01:06<00:00,  2.23s/it]\n"
     ]
    },
    {
     "name": "stdout",
     "output_type": "stream",
     "text": [
      "14 20\n"
     ]
    },
    {
     "name": "stderr",
     "output_type": "stream",
     "text": [
      "100%|██████████| 30/30 [00:08<00:00,  3.60it/s]\n"
     ]
    },
    {
     "name": "stdout",
     "output_type": "stream",
     "text": [
      "14 1\n"
     ]
    },
    {
     "name": "stderr",
     "output_type": "stream",
     "text": [
      "100%|██████████| 30/30 [00:09<00:00,  3.02it/s]\n"
     ]
    },
    {
     "name": "stdout",
     "output_type": "stream",
     "text": [
      "18 13\n"
     ]
    },
    {
     "name": "stderr",
     "output_type": "stream",
     "text": [
      "100%|██████████| 30/30 [00:10<00:00,  2.99it/s]\n"
     ]
    },
    {
     "name": "stdout",
     "output_type": "stream",
     "text": [
      "14 2\n"
     ]
    },
    {
     "name": "stderr",
     "output_type": "stream",
     "text": [
      "100%|██████████| 30/30 [01:10<00:00,  2.36s/it]\n"
     ]
    },
    {
     "name": "stdout",
     "output_type": "stream",
     "text": [
      "17 17\n"
     ]
    },
    {
     "name": "stderr",
     "output_type": "stream",
     "text": [
      "100%|██████████| 30/30 [00:14<00:00,  2.11it/s]\n"
     ]
    },
    {
     "name": "stdout",
     "output_type": "stream",
     "text": [
      "18 14\n"
     ]
    },
    {
     "name": "stderr",
     "output_type": "stream",
     "text": [
      "100%|██████████| 30/30 [00:09<00:00,  3.12it/s]\n"
     ]
    },
    {
     "name": "stdout",
     "output_type": "stream",
     "text": [
      "14 3\n"
     ]
    },
    {
     "name": "stderr",
     "output_type": "stream",
     "text": [
      "100%|██████████| 30/30 [00:07<00:00,  3.97it/s]\n"
     ]
    },
    {
     "name": "stdout",
     "output_type": "stream",
     "text": [
      "14 4\n"
     ]
    },
    {
     "name": "stderr",
     "output_type": "stream",
     "text": [
      "100%|██████████| 30/30 [00:07<00:00,  4.22it/s]\n"
     ]
    },
    {
     "name": "stdout",
     "output_type": "stream",
     "text": [
      "14 5\n"
     ]
    },
    {
     "name": "stderr",
     "output_type": "stream",
     "text": [
      "100%|██████████| 30/30 [00:05<00:00,  5.63it/s]\n"
     ]
    },
    {
     "name": "stdout",
     "output_type": "stream",
     "text": [
      "14 6\n"
     ]
    },
    {
     "name": "stderr",
     "output_type": "stream",
     "text": [
      "100%|██████████| 30/30 [00:05<00:00,  5.38it/s]\n"
     ]
    },
    {
     "name": "stdout",
     "output_type": "stream",
     "text": [
      "14 7\n"
     ]
    },
    {
     "name": "stderr",
     "output_type": "stream",
     "text": [
      "100%|██████████| 30/30 [00:04<00:00,  6.78it/s]\n"
     ]
    },
    {
     "name": "stdout",
     "output_type": "stream",
     "text": [
      "14 8\n"
     ]
    },
    {
     "name": "stderr",
     "output_type": "stream",
     "text": [
      "100%|██████████| 30/30 [01:15<00:00,  2.51s/it]\n"
     ]
    },
    {
     "name": "stdout",
     "output_type": "stream",
     "text": [
      "16 19\n"
     ]
    },
    {
     "name": "stderr",
     "output_type": "stream",
     "text": [
      "100%|██████████| 30/30 [00:05<00:00,  5.83it/s]\n"
     ]
    },
    {
     "name": "stdout",
     "output_type": "stream",
     "text": [
      "14 9\n"
     ]
    },
    {
     "name": "stderr",
     "output_type": "stream",
     "text": [
      "100%|██████████| 30/30 [01:14<00:00,  2.47s/it]\n"
     ]
    },
    {
     "name": "stdout",
     "output_type": "stream",
     "text": [
      "15 20\n"
     ]
    },
    {
     "name": "stderr",
     "output_type": "stream",
     "text": [
      "100%|██████████| 30/30 [00:05<00:00,  5.31it/s]\n"
     ]
    },
    {
     "name": "stdout",
     "output_type": "stream",
     "text": [
      "19 0\n"
     ]
    },
    {
     "name": "stderr",
     "output_type": "stream",
     "text": [
      "100%|██████████| 30/30 [00:06<00:00,  4.98it/s]\n"
     ]
    },
    {
     "name": "stdout",
     "output_type": "stream",
     "text": [
      "19 1\n"
     ]
    },
    {
     "name": "stderr",
     "output_type": "stream",
     "text": [
      "100%|██████████| 30/30 [01:13<00:00,  2.45s/it]\n"
     ]
    },
    {
     "name": "stdout",
     "output_type": "stream",
     "text": [
      "15 0\n"
     ]
    },
    {
     "name": "stderr",
     "output_type": "stream",
     "text": [
      "100%|██████████| 30/30 [00:49<00:00,  1.66s/it]\n"
     ]
    },
    {
     "name": "stdout",
     "output_type": "stream",
     "text": [
      "18 15\n"
     ]
    },
    {
     "name": "stderr",
     "output_type": "stream",
     "text": [
      "100%|██████████| 30/30 [00:06<00:00,  4.72it/s]\n"
     ]
    },
    {
     "name": "stdout",
     "output_type": "stream",
     "text": [
      "19 2\n"
     ]
    },
    {
     "name": "stderr",
     "output_type": "stream",
     "text": [
      "100%|██████████| 30/30 [00:08<00:00,  3.65it/s]\n"
     ]
    },
    {
     "name": "stdout",
     "output_type": "stream",
     "text": [
      "15 1\n"
     ]
    },
    {
     "name": "stderr",
     "output_type": "stream",
     "text": [
      "100%|██████████| 30/30 [00:10<00:00,  2.80it/s]\n"
     ]
    },
    {
     "name": "stdout",
     "output_type": "stream",
     "text": [
      "19 3\n"
     ]
    },
    {
     "name": "stderr",
     "output_type": "stream",
     "text": [
      "100%|██████████| 30/30 [01:14<00:00,  2.50s/it]\n"
     ]
    },
    {
     "name": "stdout",
     "output_type": "stream",
     "text": [
      "17 18\n"
     ]
    },
    {
     "name": "stderr",
     "output_type": "stream",
     "text": [
      "100%|██████████| 30/30 [00:10<00:00,  2.76it/s]\n"
     ]
    },
    {
     "name": "stdout",
     "output_type": "stream",
     "text": [
      "15 2\n"
     ]
    },
    {
     "name": "stderr",
     "output_type": "stream",
     "text": [
      "100%|██████████| 30/30 [00:10<00:00,  2.77it/s]\n"
     ]
    },
    {
     "name": "stdout",
     "output_type": "stream",
     "text": [
      "19 4\n"
     ]
    },
    {
     "name": "stderr",
     "output_type": "stream",
     "text": [
      "100%|██████████| 30/30 [00:11<00:00,  2.69it/s]\n"
     ]
    },
    {
     "name": "stdout",
     "output_type": "stream",
     "text": [
      "15 3\n"
     ]
    },
    {
     "name": "stderr",
     "output_type": "stream",
     "text": [
      "100%|██████████| 30/30 [00:11<00:00,  2.66it/s]\n"
     ]
    },
    {
     "name": "stdout",
     "output_type": "stream",
     "text": [
      "19 5\n"
     ]
    },
    {
     "name": "stderr",
     "output_type": "stream",
     "text": [
      "100%|██████████| 30/30 [00:10<00:00,  2.87it/s]\n"
     ]
    },
    {
     "name": "stdout",
     "output_type": "stream",
     "text": [
      "15 4\n"
     ]
    },
    {
     "name": "stderr",
     "output_type": "stream",
     "text": [
      "100%|██████████| 30/30 [00:10<00:00,  2.91it/s]\n"
     ]
    },
    {
     "name": "stdout",
     "output_type": "stream",
     "text": [
      "19 6\n"
     ]
    },
    {
     "name": "stderr",
     "output_type": "stream",
     "text": [
      "100%|██████████| 30/30 [00:10<00:00,  2.87it/s]\n"
     ]
    },
    {
     "name": "stdout",
     "output_type": "stream",
     "text": [
      "15 5\n"
     ]
    },
    {
     "name": "stderr",
     "output_type": "stream",
     "text": [
      "100%|██████████| 30/30 [00:10<00:00,  2.92it/s]\n"
     ]
    },
    {
     "name": "stdout",
     "output_type": "stream",
     "text": [
      "19 7\n"
     ]
    },
    {
     "name": "stderr",
     "output_type": "stream",
     "text": [
      "100%|██████████| 30/30 [00:10<00:00,  2.92it/s]\n"
     ]
    },
    {
     "name": "stdout",
     "output_type": "stream",
     "text": [
      "15 6\n"
     ]
    },
    {
     "name": "stderr",
     "output_type": "stream",
     "text": [
      "100%|██████████| 30/30 [01:19<00:00,  2.65s/it]\n"
     ]
    },
    {
     "name": "stdout",
     "output_type": "stream",
     "text": [
      "16 20\n"
     ]
    },
    {
     "name": "stderr",
     "output_type": "stream",
     "text": [
      "100%|██████████| 30/30 [00:10<00:00,  3.00it/s]\n"
     ]
    },
    {
     "name": "stdout",
     "output_type": "stream",
     "text": [
      "19 8\n"
     ]
    },
    {
     "name": "stderr",
     "output_type": "stream",
     "text": [
      "100%|██████████| 30/30 [01:18<00:00,  2.63s/it]\n"
     ]
    },
    {
     "name": "stdout",
     "output_type": "stream",
     "text": [
      "16 0\n"
     ]
    },
    {
     "name": "stderr",
     "output_type": "stream",
     "text": [
      "100%|██████████| 30/30 [01:12<00:00,  2.40s/it]\n"
     ]
    },
    {
     "name": "stdout",
     "output_type": "stream",
     "text": [
      "18 16\n"
     ]
    },
    {
     "name": "stderr",
     "output_type": "stream",
     "text": [
      "100%|██████████| 30/30 [00:10<00:00,  2.90it/s]\n"
     ]
    },
    {
     "name": "stdout",
     "output_type": "stream",
     "text": [
      "15 7\n"
     ]
    },
    {
     "name": "stderr",
     "output_type": "stream",
     "text": [
      "100%|██████████| 30/30 [00:12<00:00,  2.36it/s]\n"
     ]
    },
    {
     "name": "stdout",
     "output_type": "stream",
     "text": [
      "19 9\n"
     ]
    },
    {
     "name": "stderr",
     "output_type": "stream",
     "text": [
      "100%|██████████| 30/30 [00:12<00:00,  2.32it/s]\n"
     ]
    },
    {
     "name": "stdout",
     "output_type": "stream",
     "text": [
      "16 1\n"
     ]
    },
    {
     "name": "stderr",
     "output_type": "stream",
     "text": [
      "100%|██████████| 30/30 [00:13<00:00,  2.15it/s]\n"
     ]
    },
    {
     "name": "stdout",
     "output_type": "stream",
     "text": [
      "19 19\n"
     ]
    },
    {
     "name": "stderr",
     "output_type": "stream",
     "text": [
      "100%|██████████| 30/30 [00:13<00:00,  2.15it/s]\n"
     ]
    },
    {
     "name": "stdout",
     "output_type": "stream",
     "text": [
      "19 10\n"
     ]
    },
    {
     "name": "stderr",
     "output_type": "stream",
     "text": [
      "100%|██████████| 30/30 [00:13<00:00,  2.17it/s]\n"
     ]
    },
    {
     "name": "stdout",
     "output_type": "stream",
     "text": [
      "16 2\n"
     ]
    },
    {
     "name": "stderr",
     "output_type": "stream",
     "text": [
      "100%|██████████| 30/30 [01:23<00:00,  2.77s/it]\n"
     ]
    },
    {
     "name": "stdout",
     "output_type": "stream",
     "text": [
      "17 19\n"
     ]
    },
    {
     "name": "stderr",
     "output_type": "stream",
     "text": [
      "100%|██████████| 30/30 [00:11<00:00,  2.68it/s]\n"
     ]
    },
    {
     "name": "stdout",
     "output_type": "stream",
     "text": [
      "19 11\n"
     ]
    },
    {
     "name": "stderr",
     "output_type": "stream",
     "text": [
      "100%|██████████| 30/30 [00:11<00:00,  2.66it/s]\n"
     ]
    },
    {
     "name": "stdout",
     "output_type": "stream",
     "text": [
      "16 3\n"
     ]
    },
    {
     "name": "stderr",
     "output_type": "stream",
     "text": [
      "100%|██████████| 30/30 [00:10<00:00,  2.99it/s]\n"
     ]
    },
    {
     "name": "stdout",
     "output_type": "stream",
     "text": [
      "19 12\n"
     ]
    },
    {
     "name": "stderr",
     "output_type": "stream",
     "text": [
      "100%|██████████| 30/30 [00:10<00:00,  3.00it/s]\n"
     ]
    },
    {
     "name": "stdout",
     "output_type": "stream",
     "text": [
      "16 4\n"
     ]
    },
    {
     "name": "stderr",
     "output_type": "stream",
     "text": [
      "100%|██████████| 30/30 [00:09<00:00,  3.15it/s]\n"
     ]
    },
    {
     "name": "stdout",
     "output_type": "stream",
     "text": [
      "19 13\n"
     ]
    },
    {
     "name": "stderr",
     "output_type": "stream",
     "text": [
      "100%|██████████| 30/30 [00:09<00:00,  3.16it/s]\n"
     ]
    },
    {
     "name": "stdout",
     "output_type": "stream",
     "text": [
      "16 5\n"
     ]
    },
    {
     "name": "stderr",
     "output_type": "stream",
     "text": [
      "100%|██████████| 30/30 [00:08<00:00,  3.60it/s]\n"
     ]
    },
    {
     "name": "stdout",
     "output_type": "stream",
     "text": [
      "20 17\n"
     ]
    },
    {
     "name": "stderr",
     "output_type": "stream",
     "text": [
      "100%|██████████| 30/30 [01:14<00:00,  2.49s/it]\n"
     ]
    },
    {
     "name": "stdout",
     "output_type": "stream",
     "text": [
      "18 17\n"
     ]
    },
    {
     "name": "stderr",
     "output_type": "stream",
     "text": [
      "100%|██████████| 30/30 [01:22<00:00,  2.75s/it]\n"
     ]
    },
    {
     "name": "stdout",
     "output_type": "stream",
     "text": [
      "17 0\n"
     ]
    },
    {
     "name": "stderr",
     "output_type": "stream",
     "text": [
      "100%|██████████| 30/30 [00:00<00:00, 140.95it/s]\n"
     ]
    },
    {
     "name": "stdout",
     "output_type": "stream",
     "text": [
      "17 1\n"
     ]
    },
    {
     "name": "stderr",
     "output_type": "stream",
     "text": [
      "100%|██████████| 30/30 [00:01<00:00, 18.61it/s]\n"
     ]
    },
    {
     "name": "stdout",
     "output_type": "stream",
     "text": [
      "17 2\n"
     ]
    },
    {
     "name": "stderr",
     "output_type": "stream",
     "text": [
      "100%|██████████| 30/30 [00:02<00:00, 10.36it/s]\n"
     ]
    },
    {
     "name": "stdout",
     "output_type": "stream",
     "text": [
      "17 3\n"
     ]
    },
    {
     "name": "stderr",
     "output_type": "stream",
     "text": [
      "100%|██████████| 30/30 [00:03<00:00,  9.67it/s]\n",
      "100%|██████████| 30/30 [00:32<00:00,  1.10s/it]\n",
      " 83%|████████▎ | 25/30 [01:12<00:13,  2.78s/it]"
     ]
    },
    {
     "name": "stdout",
     "output_type": "stream",
     "text": [
      "19 14\n"
     ]
    },
    {
     "name": "stderr",
     "output_type": "stream",
     "text": [
      "100%|██████████| 30/30 [01:26<00:00,  2.88s/it]\n"
     ]
    },
    {
     "name": "stdout",
     "output_type": "stream",
     "text": [
      "19 20\n"
     ]
    },
    {
     "name": "stderr",
     "output_type": "stream",
     "text": [
      "100%|██████████| 30/30 [01:20<00:00,  2.68s/it]\n"
     ]
    },
    {
     "name": "stdout",
     "output_type": "stream",
     "text": [
      "17 20\n"
     ]
    },
    {
     "name": "stderr",
     "output_type": "stream",
     "text": [
      "100%|██████████| 30/30 [00:56<00:00,  1.88s/it]\n"
     ]
    },
    {
     "name": "stdout",
     "output_type": "stream",
     "text": [
      "19 15\n"
     ]
    },
    {
     "name": "stderr",
     "output_type": "stream",
     "text": [
      "100%|██████████| 30/30 [01:21<00:00,  2.72s/it]\n"
     ]
    },
    {
     "name": "stdout",
     "output_type": "stream",
     "text": [
      "20 18\n"
     ]
    },
    {
     "name": "stderr",
     "output_type": "stream",
     "text": [
      "100%|██████████| 30/30 [01:16<00:00,  2.56s/it]\n"
     ]
    },
    {
     "name": "stdout",
     "output_type": "stream",
     "text": [
      "18 18\n"
     ]
    },
    {
     "name": "stderr",
     "output_type": "stream",
     "text": [
      "100%|██████████| 30/30 [01:21<00:00,  2.71s/it]\n"
     ]
    },
    {
     "name": "stdout",
     "output_type": "stream",
     "text": [
      "20 0\n"
     ]
    },
    {
     "name": "stderr",
     "output_type": "stream",
     "text": [
      "100%|██████████| 30/30 [00:00<00:00, 141.57it/s]\n"
     ]
    },
    {
     "name": "stdout",
     "output_type": "stream",
     "text": [
      "20 1\n"
     ]
    },
    {
     "name": "stderr",
     "output_type": "stream",
     "text": [
      "100%|██████████| 30/30 [00:00<00:00, 153.16it/s]\n"
     ]
    },
    {
     "name": "stdout",
     "output_type": "stream",
     "text": [
      "20 2\n"
     ]
    },
    {
     "name": "stderr",
     "output_type": "stream",
     "text": [
      "100%|██████████| 30/30 [00:00<00:00, 153.36it/s]\n"
     ]
    },
    {
     "name": "stdout",
     "output_type": "stream",
     "text": [
      "20 3\n"
     ]
    },
    {
     "name": "stderr",
     "output_type": "stream",
     "text": [
      "100%|██████████| 30/30 [00:00<00:00, 149.36it/s]\n"
     ]
    },
    {
     "name": "stdout",
     "output_type": "stream",
     "text": [
      "20 4\n"
     ]
    },
    {
     "name": "stderr",
     "output_type": "stream",
     "text": [
      "100%|██████████| 30/30 [00:00<00:00, 145.77it/s]\n"
     ]
    },
    {
     "name": "stdout",
     "output_type": "stream",
     "text": [
      "20 5\n"
     ]
    },
    {
     "name": "stderr",
     "output_type": "stream",
     "text": [
      "100%|██████████| 30/30 [00:00<00:00, 143.91it/s]\n"
     ]
    },
    {
     "name": "stdout",
     "output_type": "stream",
     "text": [
      "20 6\n"
     ]
    },
    {
     "name": "stderr",
     "output_type": "stream",
     "text": [
      "100%|██████████| 30/30 [00:00<00:00, 143.80it/s]\n"
     ]
    },
    {
     "name": "stdout",
     "output_type": "stream",
     "text": [
      "20 7\n"
     ]
    },
    {
     "name": "stderr",
     "output_type": "stream",
     "text": [
      "100%|██████████| 30/30 [00:00<00:00, 138.41it/s]\n"
     ]
    },
    {
     "name": "stdout",
     "output_type": "stream",
     "text": [
      "20 8\n"
     ]
    },
    {
     "name": "stderr",
     "output_type": "stream",
     "text": [
      "100%|██████████| 30/30 [00:00<00:00, 127.62it/s]\n"
     ]
    },
    {
     "name": "stdout",
     "output_type": "stream",
     "text": [
      "20 9\n"
     ]
    },
    {
     "name": "stderr",
     "output_type": "stream",
     "text": [
      "100%|██████████| 30/30 [00:00<00:00, 122.06it/s]\n"
     ]
    },
    {
     "name": "stdout",
     "output_type": "stream",
     "text": [
      "20 10\n"
     ]
    },
    {
     "name": "stderr",
     "output_type": "stream",
     "text": [
      "100%|██████████| 30/30 [00:00<00:00, 93.23it/s]\n"
     ]
    },
    {
     "name": "stdout",
     "output_type": "stream",
     "text": [
      "20 11\n"
     ]
    },
    {
     "name": "stderr",
     "output_type": "stream",
     "text": [
      "100%|██████████| 30/30 [00:00<00:00, 35.85it/s]\n"
     ]
    },
    {
     "name": "stdout",
     "output_type": "stream",
     "text": [
      "20 12\n"
     ]
    },
    {
     "name": "stderr",
     "output_type": "stream",
     "text": [
      "100%|██████████| 30/30 [01:18<00:00,  2.61s/it]\n"
     ]
    },
    {
     "name": "stdout",
     "output_type": "stream",
     "text": [
      "18 0\n"
     ]
    },
    {
     "name": "stderr",
     "output_type": "stream",
     "text": [
      "100%|██████████| 30/30 [00:00<00:00, 163.75it/s]\n"
     ]
    },
    {
     "name": "stdout",
     "output_type": "stream",
     "text": [
      "18 1\n"
     ]
    },
    {
     "name": "stderr",
     "output_type": "stream",
     "text": [
      "100%|██████████| 30/30 [00:00<00:00, 153.52it/s]\n",
      "100%|██████████| 30/30 [00:12<00:00,  2.46it/s]\n"
     ]
    },
    {
     "name": "stdout",
     "output_type": "stream",
     "text": [
      "20 13\n"
     ]
    },
    {
     "name": "stderr",
     "output_type": "stream",
     "text": [
      "100%|██████████| 30/30 [01:08<00:00,  2.27s/it]\n"
     ]
    },
    {
     "name": "stdout",
     "output_type": "stream",
     "text": [
      "19 16\n"
     ]
    },
    {
     "name": "stderr",
     "output_type": "stream",
     "text": [
      "100%|██████████| 30/30 [01:20<00:00,  2.70s/it]\n"
     ]
    },
    {
     "name": "stdout",
     "output_type": "stream",
     "text": [
      "20 19\n"
     ]
    },
    {
     "name": "stderr",
     "output_type": "stream",
     "text": [
      "100%|██████████| 30/30 [01:14<00:00,  2.48s/it]\n"
     ]
    },
    {
     "name": "stdout",
     "output_type": "stream",
     "text": [
      "18 19\n"
     ]
    },
    {
     "name": "stderr",
     "output_type": "stream",
     "text": [
      "100%|██████████| 30/30 [00:43<00:00,  1.46s/it]\n"
     ]
    },
    {
     "name": "stdout",
     "output_type": "stream",
     "text": [
      "20 14\n"
     ]
    },
    {
     "name": "stderr",
     "output_type": "stream",
     "text": [
      "100%|██████████| 30/30 [01:12<00:00,  2.40s/it]\n"
     ]
    },
    {
     "name": "stdout",
     "output_type": "stream",
     "text": [
      "19 17\n"
     ]
    },
    {
     "name": "stderr",
     "output_type": "stream",
     "text": [
      "100%|██████████| 30/30 [01:17<00:00,  2.58s/it]\n"
     ]
    },
    {
     "name": "stdout",
     "output_type": "stream",
     "text": [
      "18 20\n"
     ]
    },
    {
     "name": "stderr",
     "output_type": "stream",
     "text": [
      "100%|██████████| 30/30 [01:19<00:00,  2.64s/it]\n"
     ]
    },
    {
     "name": "stdout",
     "output_type": "stream",
     "text": [
      "20 20\n"
     ]
    },
    {
     "name": "stderr",
     "output_type": "stream",
     "text": [
      "100%|██████████| 30/30 [01:04<00:00,  2.14s/it]\n"
     ]
    },
    {
     "name": "stdout",
     "output_type": "stream",
     "text": [
      "20 15\n"
     ]
    },
    {
     "name": "stderr",
     "output_type": "stream",
     "text": [
      "100%|██████████| 30/30 [01:15<00:00,  2.50s/it]\n"
     ]
    },
    {
     "name": "stdout",
     "output_type": "stream",
     "text": [
      "19 18\n"
     ]
    },
    {
     "name": "stderr",
     "output_type": "stream",
     "text": [
      "100%|██████████| 30/30 [01:12<00:00,  2.40s/it]\n"
     ]
    },
    {
     "name": "stdout",
     "output_type": "stream",
     "text": [
      "20 16\n"
     ]
    },
    {
     "name": "stderr",
     "output_type": "stream",
     "text": [
      "100%|██████████| 30/30 [01:18<00:00,  2.60s/it]\n",
      "100%|██████████| 30/30 [01:19<00:00,  2.66s/it]\n",
      "100%|██████████| 30/30 [01:17<00:00,  2.58s/it]\n",
      "100%|██████████| 30/30 [01:15<00:00,  2.51s/it]\n"
     ]
    }
   ],
   "source": [
    "run_func = psc.run_ei_perc_2d\n",
    "tstep = 200\n",
    "nb_repeats = 30\n",
    "par_list = ['p', 'p_exc']\n",
    "step_size = 0.05\n",
    "mesh1 = np.arange(0, 1+step_size, step_size)\n",
    "mesh2 = np.arange(0, 1+step_size, step_size)\n",
    "print(mesh1)\n",
    "print(mesh2)\n",
    "mesh_list = [mesh1, mesh2]\n",
    "fixed_par = dict(tstep=tstep, nb_repeats=nb_repeats,inhib=False)\n",
    "out_root_dir = '../results'\n",
    "fmt='%Y-%m-%d-%H-%M-%S'\n",
    "timestamp = datetime.datetime.now().strftime(fmt)\n",
    "outdir = os.path.join(out_root_dir, timestamp)\n",
    "if not os.path.exists(outdir):\n",
    "    os.mkdir(outdir)\n",
    "\n",
    "#psc.parameter_scan(par_list, mesh_list, fixed_par, run_func, outdir=outdir, seed=20, parallel=True)"
   ]
  },
  {
   "cell_type": "code",
   "execution_count": 3,
   "id": "932f42ca",
   "metadata": {},
   "outputs": [
    {
     "name": "stdout",
     "output_type": "stream",
     "text": [
      "../results/2021-09-11-18-42-16\n"
     ]
    }
   ],
   "source": [
    "print(outdir)"
   ]
  },
  {
   "cell_type": "code",
   "execution_count": 2,
   "id": "c988e6b6",
   "metadata": {},
   "outputs": [],
   "source": [
    "out_root_dir = '../results'\n",
    "subdir = '2021-09-11-18-42-16'\n",
    "indir = os.path.join(out_root_dir, subdir)\n"
   ]
  },
  {
   "cell_type": "code",
   "execution_count": 3,
   "id": "20f38ef4",
   "metadata": {},
   "outputs": [],
   "source": [
    "reach_mat, scan_par = psc.get_scan_prop_mat(indir, psc.get_reach)"
   ]
  },
  {
   "cell_type": "code",
   "execution_count": 13,
   "id": "609654fb",
   "metadata": {},
   "outputs": [
    {
     "data": {
      "image/png": "[encoded data removed]",
      "text/plain": [
       "<Figure size 288x288 with 2 Axes>"
      ]
     },
     "metadata": {
      "needs_background": "light"
     },
     "output_type": "display_data"
    }
   ],
   "source": [
    "imp.reload(pyava.visualize)\n",
    "reach_thresh = 120\n",
    "madeit_mat = reach_mat > reach_thresh\n",
    "reach_prob_mat = np.sum(madeit_mat, axis=2)/madeit_mat.shape[2]\n",
    "\n",
    "vis.plot_scan_mat(reach_prob_mat, scan_par, 'reach probability')"
   ]
  },
  {
   "cell_type": "code",
   "execution_count": 9,
   "id": "04e48d5b",
   "metadata": {},
   "outputs": [
    {
     "data": {
      "image/png": "[encoded data removed]",
      "text/plain": [
       "<Figure size 288x288 with 2 Axes>"
      ]
     },
     "metadata": {
      "needs_background": "light"
     },
     "output_type": "display_data"
    }
   ],
   "source": [
    "mean_max_reach = np.mean(reach_mat, axis=2)\n",
    "vis.plot_scan_mat(mean_max_reach, scan_par, 'mean max reach')"
   ]
  },
  {
   "cell_type": "code",
   "execution_count": 7,
   "id": "6f1027f8",
   "metadata": {},
   "outputs": [],
   "source": [
    "cluster_size_mat, scan_par = psc.get_cluster_size_mat(indir)"
   ]
  },
  {
   "cell_type": "code",
   "execution_count": 11,
   "id": "73599cd8",
   "metadata": {},
   "outputs": [
    {
     "data": {
      "image/png": "[encoded data removed]",
      "text/plain": [
       "<Figure size 288x288 with 2 Axes>"
      ]
     },
     "metadata": {
      "needs_background": "light"
     },
     "output_type": "display_data"
    }
   ],
   "source": [
    "mean_cluster_size = np.mean(cluster_size_mat, axis=2)\n",
    "vis.plot_scan_mat(mean_cluster_size, scan_par, 'mean cluster size')"
   ]
  },
  {
   "cell_type": "code",
   "execution_count": 22,
   "id": "f39cc0ea",
   "metadata": {},
   "outputs": [
    {
     "data": {
      "image/png": "[encoded data removed]",
      "text/plain": [
       "<Figure size 432x288 with 1 Axes>"
      ]
     },
     "metadata": {
      "needs_background": "light"
     },
     "output_type": "display_data"
    }
   ],
   "source": [
    "imp.reload(pyava.visualize)\n",
    "vis.plot_mat_1d(reach_prob_mat, scan_par, 'reach probability')"
   ]
  },
  {
   "cell_type": "code",
   "execution_count": 23,
   "id": "92986d20",
   "metadata": {},
   "outputs": [
    {
     "data": {
      "image/png": "[encoded data removed]",
      "text/plain": [
       "<Figure size 432x288 with 1 Axes>"
      ]
     },
     "metadata": {
      "needs_background": "light"
     },
     "output_type": "display_data"
    }
   ],
   "source": [
    "vis.plot_mat_1d(mean_max_reach, scan_par, 'mean max reach')"
   ]
  },
  {
   "cell_type": "code",
   "execution_count": 24,
   "id": "e37cc8c1",
   "metadata": {},
   "outputs": [
    {
     "data": {
      "image/png": "[encoded data removed]",
      "text/plain": [
       "<Figure size 432x288 with 1 Axes>"
      ]
     },
     "metadata": {
      "needs_background": "light"
     },
     "output_type": "display_data"
    }
   ],
   "source": [
    "vis.plot_mat_1d(mean_cluster_size, scan_par, 'mean cluster size')"
   ]
  },
  {
   "cell_type": "code",
   "execution_count": 13,
   "id": "3fb36d18",
   "metadata": {},
   "outputs": [],
   "source": [
    "cluster_size_mat = np.array(cluster_size_mat)"
   ]
  },
  {
   "cell_type": "code",
   "execution_count": 18,
   "id": "86587134",
   "metadata": {},
   "outputs": [
    {
     "data": {
      "image/png": "[encoded data removed]",
      "text/plain": [
       "<Figure size 432x288 with 1 Axes>"
      ]
     },
     "metadata": {
      "needs_background": "light"
     },
     "output_type": "display_data"
    }
   ],
   "source": [
    "plt.hist(cluster_size_mat[16, 17, :])\n",
    "plt.xscale('log')\n",
    "plt.yscale('log')"
   ]
  },
  {
   "cell_type": "code",
   "execution_count": 19,
   "id": "61e714fe",
   "metadata": {},
   "outputs": [
    {
     "name": "stdout",
     "output_type": "stream",
     "text": [
      "p: 0.8\n",
      "p_exc: 0.8500000000000001\n"
     ]
    },
    {
     "data": {
      "image/png": "[encoded data removed]",
      "text/plain": [
       "<Figure size 720x720 with 2 Axes>"
      ]
     },
     "metadata": {
      "needs_background": "light"
     },
     "output_type": "display_data"
    }
   ],
   "source": [
    "j, k = (16, 17)\n",
    "print('{}: {}'.format(par_list[0], mesh1[j]))\n",
    "print('{}: {}'.format(par_list[1], mesh2[k]))\n",
    "subdir = os.path.join(indir, 'j_{:03d}_k_{:03d}'.format(j, k))\n",
    "repeat_nb = 1\n",
    "lat = read_lattice(os.path.join(subdir, '{:03d}.pkl'.format(repeat_nb)))\n",
    "\n",
    "t = 300\n",
    "fig, axs = plt.subplots(1, 2, figsize=(10,10))\n",
    "radius = lat.radius\n",
    "extent = [-radius, radius, radius, -radius]\n",
    "axs[0].matshow(np.multiply(lat.node_type_mat, lat.act_time_mat<=t), extent=extent)\n",
    "im1 = axs[1].matshow(np.multiply(lat.node_latent_state_mat, lat.act_time_mat<=t), extent=extent)\n",
    "# im1 = axs[1].matshow(lat.node_latent_state_mat)\n",
    "# im1 = axs[1].matshow(lat.act_time_mat<=t)\n",
    "#fig.colorbar(im1, ax=axs[1])"
   ]
  },
  {
   "cell_type": "code",
   "execution_count": 20,
   "id": "81b0b88a",
   "metadata": {
    "scrolled": false
   },
   "outputs": [
    {
     "name": "stdout",
     "output_type": "stream",
     "text": [
      "[0.   0.05 0.1  0.15 0.2  0.25 0.3  0.35 0.4  0.45 0.5  0.55 0.6  0.65\n",
      " 0.7  0.75 0.8  0.85 0.9  0.95 1.  ]\n",
      "[0.   0.05 0.1  0.15 0.2  0.25 0.3  0.35 0.4  0.45 0.5  0.55 0.6  0.65\n",
      " 0.7  0.75 0.8  0.85 0.9  0.95 1.  ]\n",
      "(0, 0)\n",
      "(0, 1)\n",
      "(0, 2)\n",
      "(0, 3)\n",
      "(0, 4)\n",
      "(0, 5)\n",
      "(0, 6)\n",
      "(0, 7)\n",
      "(0, 8)\n",
      "(0, 9)\n",
      "(0, 10)\n",
      "(0, 11)\n",
      "(0, 12)\n",
      "(0, 13)\n",
      "(0, 14)\n",
      "(0, 15)\n",
      "(0, 16)\n",
      "(0, 17)\n",
      "(0, 18)\n",
      "(0, 19)\n",
      "(0, 20)\n",
      "(1, 0)\n",
      "(1, 1)\n",
      "(1, 2)\n",
      "(1, 3)\n",
      "(1, 4)\n",
      "(1, 5)\n",
      "(1, 6)\n",
      "(1, 7)\n",
      "(1, 8)\n",
      "(1, 9)\n",
      "(1, 10)\n",
      "(1, 11)\n",
      "(1, 12)\n",
      "(1, 13)\n",
      "(1, 14)\n",
      "(1, 15)\n",
      "(1, 16)\n",
      "(1, 17)\n",
      "(1, 18)\n",
      "(1, 19)\n",
      "(1, 20)\n",
      "(2, 0)\n",
      "(2, 1)\n",
      "(2, 2)\n",
      "(2, 3)\n",
      "(2, 4)\n",
      "(2, 5)\n",
      "(2, 6)\n",
      "(2, 7)\n",
      "(2, 8)\n",
      "(2, 9)\n",
      "(2, 10)\n",
      "(2, 11)\n",
      "(2, 12)\n",
      "(2, 13)\n",
      "(2, 14)\n",
      "(2, 15)\n",
      "(2, 16)\n",
      "(2, 17)\n",
      "(2, 18)\n",
      "(2, 19)\n",
      "(2, 20)\n",
      "(3, 0)\n",
      "(3, 1)\n",
      "(3, 2)\n",
      "(3, 3)\n",
      "(3, 4)\n",
      "(3, 5)\n",
      "(3, 6)\n",
      "(3, 7)\n",
      "(3, 8)\n",
      "(3, 9)\n",
      "(3, 10)\n",
      "(3, 11)\n",
      "(3, 12)\n",
      "(3, 13)\n",
      "(3, 14)\n",
      "(3, 15)\n",
      "(3, 16)\n",
      "(3, 17)\n",
      "(3, 18)\n",
      "(3, 19)\n",
      "(3, 20)\n",
      "(4, 0)\n",
      "(4, 1)\n",
      "(4, 2)\n",
      "(4, 3)\n",
      "(4, 4)\n",
      "(4, 5)\n",
      "(4, 6)\n",
      "(4, 7)\n",
      "(4, 8)\n",
      "(4, 9)\n",
      "(4, 10)\n",
      "(4, 11)\n",
      "(4, 12)\n",
      "(4, 13)\n",
      "(4, 14)\n",
      "(4, 15)\n",
      "(4, 16)\n",
      "(4, 17)\n",
      "(4, 18)\n",
      "(4, 19)\n",
      "(4, 20)\n",
      "(5, 0)\n",
      "(5, 1)\n",
      "(5, 2)\n",
      "(5, 3)\n",
      "(5, 4)\n",
      "(5, 5)\n",
      "(5, 6)\n",
      "(5, 7)\n",
      "(5, 8)\n",
      "(5, 9)\n",
      "(5, 10)\n",
      "(5, 11)\n",
      "(5, 12)\n",
      "(5, 13)\n",
      "(5, 14)\n",
      "(5, 15)\n",
      "(5, 16)\n",
      "(5, 17)\n",
      "(5, 18)\n",
      "(5, 19)\n",
      "(5, 20)\n",
      "(6, 0)\n",
      "(6, 1)\n",
      "(6, 2)\n",
      "(6, 3)\n",
      "(6, 4)\n",
      "(6, 5)\n",
      "(6, 6)\n",
      "(6, 7)\n",
      "(6, 8)\n",
      "(6, 9)\n",
      "(6, 10)\n",
      "(6, 11)\n",
      "(6, 12)\n",
      "(6, 13)\n",
      "(6, 14)\n",
      "(6, 15)\n",
      "(6, 16)\n",
      "(6, 17)\n",
      "(6, 18)\n",
      "(6, 19)\n",
      "(6, 20)\n",
      "(7, 0)\n",
      "(7, 1)\n",
      "(7, 2)\n",
      "(7, 3)\n",
      "(7, 4)\n",
      "(7, 5)\n",
      "(7, 6)\n",
      "(7, 7)\n",
      "(7, 8)\n",
      "(7, 9)\n",
      "(7, 10)\n",
      "(7, 11)\n",
      "(7, 12)\n",
      "(7, 13)\n",
      "(7, 14)\n",
      "(7, 15)\n",
      "(7, 16)\n",
      "(7, 17)\n",
      "(7, 18)\n",
      "(7, 19)\n",
      "(7, 20)\n",
      "(8, 0)\n",
      "(8, 1)\n",
      "(8, 2)\n",
      "(8, 3)\n",
      "(8, 4)\n",
      "(8, 5)\n",
      "(8, 6)\n",
      "(8, 7)\n",
      "(8, 8)\n",
      "(8, 9)\n",
      "(8, 10)\n",
      "(8, 11)\n",
      "(8, 12)\n",
      "(8, 13)\n",
      "(8, 14)\n",
      "(8, 15)\n",
      "(8, 16)\n",
      "(8, 17)\n",
      "(8, 18)\n",
      "(8, 19)\n",
      "(8, 20)\n",
      "(9, 0)\n",
      "(9, 1)\n",
      "(9, 2)\n",
      "(9, 3)\n",
      "(9, 4)\n",
      "(9, 5)\n",
      "(9, 6)\n",
      "(9, 7)\n",
      "(9, 8)\n",
      "(9, 9)\n",
      "(9, 10)\n",
      "(9, 11)\n",
      "(9, 12)\n",
      "(9, 13)\n",
      "(9, 14)\n",
      "(9, 15)\n",
      "(9, 16)\n",
      "(9, 17)\n",
      "(9, 18)\n",
      "(9, 19)\n",
      "(9, 20)\n",
      "(10, 0)\n",
      "(10, 1)\n",
      "(10, 2)\n",
      "(10, 3)\n",
      "(10, 4)\n",
      "(10, 5)\n",
      "(10, 6)\n",
      "(10, 7)\n",
      "(10, 8)\n",
      "(10, 9)\n",
      "(10, 10)\n",
      "(10, 11)\n",
      "(10, 12)\n",
      "(10, 13)\n",
      "(10, 14)\n",
      "(10, 15)\n",
      "(10, 16)\n",
      "(10, 17)\n",
      "(10, 18)\n",
      "(10, 19)\n",
      "(10, 20)\n",
      "(11, 0)\n",
      "(11, 1)\n",
      "(11, 2)\n",
      "(11, 3)\n",
      "(11, 4)\n",
      "(11, 5)\n",
      "(11, 6)\n",
      "(11, 7)\n",
      "(11, 8)\n",
      "(11, 9)\n",
      "(11, 10)\n",
      "(11, 11)\n",
      "(11, 12)\n",
      "(11, 13)\n",
      "(11, 14)\n",
      "(11, 15)\n",
      "(11, 16)\n",
      "(11, 17)\n",
      "(11, 18)\n",
      "(11, 19)\n",
      "(11, 20)\n",
      "(12, 0)\n",
      "(12, 1)\n",
      "(12, 2)\n",
      "(12, 3)\n",
      "(12, 4)\n",
      "(12, 5)\n",
      "(12, 6)\n",
      "(12, 7)\n",
      "(12, 8)\n",
      "(12, 9)\n",
      "(12, 10)\n",
      "(12, 11)\n",
      "(12, 12)\n",
      "(12, 13)\n",
      "(12, 14)\n",
      "(12, 15)\n",
      "(12, 16)\n",
      "(12, 17)\n",
      "(12, 18)\n",
      "(12, 19)\n",
      "(12, 20)\n",
      "(13, 0)\n",
      "(13, 1)\n",
      "(13, 2)\n",
      "(13, 3)\n",
      "(13, 4)\n",
      "(13, 5)\n",
      "(13, 6)\n",
      "(13, 7)\n",
      "(13, 8)\n",
      "(13, 9)\n",
      "(13, 10)\n",
      "(13, 11)\n",
      "(13, 12)\n",
      "(13, 13)\n",
      "(13, 14)\n",
      "(13, 15)\n",
      "(13, 16)\n",
      "(13, 17)\n",
      "(13, 18)\n",
      "(13, 19)\n",
      "(13, 20)\n",
      "(14, 0)\n",
      "(14, 1)\n",
      "(14, 2)\n",
      "(14, 3)\n",
      "(14, 4)\n",
      "(14, 5)\n",
      "(14, 6)\n",
      "(14, 7)\n",
      "(14, 8)\n",
      "(14, 9)\n",
      "(14, 10)\n",
      "(14, 11)\n",
      "(14, 12)\n",
      "(14, 13)\n",
      "(14, 14)\n",
      "(14, 15)\n",
      "(14, 16)\n",
      "(14, 17)\n",
      "(14, 18)\n",
      "(14, 19)\n",
      "(14, 20)\n",
      "(15, 0)\n",
      "(15, 1)\n",
      "(15, 2)\n",
      "(15, 3)\n",
      "(15, 4)\n",
      "(15, 5)\n",
      "(15, 6)\n",
      "(15, 7)\n",
      "(15, 8)\n",
      "(15, 9)\n",
      "(15, 10)\n",
      "(15, 11)\n",
      "(15, 12)\n",
      "(15, 13)\n",
      "(15, 14)\n",
      "(15, 15)\n",
      "(15, 16)\n",
      "(15, 17)\n",
      "(15, 18)\n",
      "(15, 19)\n",
      "(15, 20)\n",
      "(16, 0)\n",
      "(16, 1)\n",
      "(16, 2)\n",
      "(16, 3)\n",
      "(16, 4)\n",
      "(16, 5)\n",
      "(16, 6)\n",
      "(16, 7)\n",
      "(16, 8)\n",
      "(16, 9)\n",
      "(16, 10)\n",
      "(16, 11)\n",
      "(16, 12)\n",
      "(16, 13)\n",
      "(16, 14)\n",
      "(16, 15)\n",
      "(16, 16)\n",
      "(16, 17)\n",
      "(16, 18)\n",
      "(16, 19)\n",
      "(16, 20)\n",
      "(17, 0)\n",
      "(17, 1)\n",
      "(17, 2)\n",
      "(17, 3)\n",
      "(17, 4)\n",
      "(17, 5)\n",
      "(17, 6)\n",
      "(17, 7)\n",
      "(17, 8)\n",
      "(17, 9)\n",
      "(17, 10)\n",
      "(17, 11)\n",
      "(17, 12)\n",
      "(17, 13)\n",
      "(17, 14)\n",
      "(17, 15)\n",
      "(17, 16)\n",
      "(17, 17)\n",
      "(17, 18)\n",
      "(17, 19)\n",
      "(17, 20)\n",
      "(18, 0)\n",
      "(18, 1)\n",
      "(18, 2)\n",
      "(18, 3)\n",
      "(18, 4)\n",
      "(18, 5)\n",
      "(18, 6)\n",
      "(18, 7)\n",
      "(18, 8)\n",
      "(18, 9)\n",
      "(18, 10)\n",
      "(18, 11)\n",
      "(18, 12)\n",
      "(18, 13)\n",
      "(18, 14)\n",
      "(18, 15)\n",
      "(18, 16)\n",
      "(18, 17)\n",
      "(18, 18)\n",
      "(18, 19)\n",
      "(18, 20)\n",
      "(19, 0)\n",
      "(19, 1)\n",
      "(19, 2)\n",
      "(19, 3)\n",
      "(19, 4)\n",
      "(19, 5)\n",
      "(19, 6)\n",
      "(19, 7)\n",
      "(19, 8)\n",
      "(19, 9)\n",
      "(19, 10)\n",
      "(19, 11)\n",
      "(19, 12)\n",
      "(19, 13)\n",
      "(19, 14)\n",
      "(19, 15)\n",
      "(19, 16)\n",
      "(19, 17)\n",
      "(19, 18)\n",
      "(19, 19)\n",
      "(19, 20)\n",
      "(20, 0)\n",
      "(20, 1)\n",
      "(20, 2)\n",
      "(20, 3)\n",
      "(20, 4)\n",
      "(20, 5)\n",
      "(20, 6)\n",
      "(20, 7)\n",
      "(20, 8)\n",
      "(20, 9)\n",
      "(20, 10)\n",
      "(20, 11)\n",
      "(20, 12)\n",
      "(20, 13)\n",
      "(20, 14)\n",
      "(20, 15)\n",
      "(20, 16)\n",
      "(20, 17)\n",
      "(20, 18)\n",
      "(20, 19)\n",
      "(20, 20)\n"
     ]
    },
    {
     "data": {
      "image/png": "[encoded data removed]",
      "text/plain": [
       "<Figure size 792x792 with 441 Axes>"
      ]
     },
     "metadata": {},
     "output_type": "display_data"
    }
   ],
   "source": [
    "imp.reload(pyava.visualize)\n",
    "repeat_nb = 15\n",
    "gstep=[1,1]\n",
    "#gstep=[10,10]\n",
    "# grange=[(0.5,1),(0.5,1)]\n",
    "grange=[(0.,1),(0.,1)]\n",
    "t_stop=200\n",
    "fig = vis.plot_cluster_shape_grid(indir, repeat_nb, gstep, grange, t_stop)"
   ]
  },
  {
   "cell_type": "code",
   "execution_count": 21,
   "id": "a01bd7c6",
   "metadata": {},
   "outputs": [],
   "source": [
    "fig.savefig('../figures/ed_cluster_shape_rpt{:d}_range{:.1f}to{:.1f}.png'.format(repeat_nb, grange[0][0], grange[0][1]))"
   ]
  },
  {
   "cell_type": "code",
   "execution_count": 29,
   "id": "fe03bdfb",
   "metadata": {},
   "outputs": [
    {
     "name": "stdout",
     "output_type": "stream",
     "text": [
      "p: 0.65\n",
      "p_exc: 0.75\n"
     ]
    },
    {
     "data": {
      "text/html": [
       "<video width=\"432\" height=\"288\" controls autoplay loop>\n",
       "  <source type=\"video/mp4\" src=\"data:video/mp4;base64,AAAAHGZ0eXBNNFYgAAACAGlzb21pc28yYXZjMQAAAAhmcmVlAAA2um1kYXQAAAKuBgX//6rcRem9\n",
       "5tlIt5Ys2CDZI+7veDI2NCAtIGNvcmUgMTU1IHIyOTE3IDBhODRkOTggLSBILjI2NC9NUEVHLTQg\n",
       "QVZDIGNvZGVjIC0gQ29weWxlZnQgMjAwMy0yMDE4IC0gaHR0cDovL3d3dy52aWRlb2xhbi5vcmcv\n",
       "eDI2NC5odG1sIC0gb3B0aW9uczogY2FiYWM9MSByZWY9MyBkZWJsb2NrPTE6MDowIGFuYWx5c2U9\n",
       "MHgzOjB4MTEzIG1lPWhleCBzdWJtZT03IHBzeT0xIHBzeV9yZD0xLjAwOjAuMDAgbWl4ZWRfcmVm\n",
       "PTEgbWVfcmFuZ2U9MTYgY2hyb21hX21lPTEgdHJlbGxpcz0xIDh4OGRjdD0xIGNxbT0wIGRlYWR6\n",
       "b25lPTIxLDExIGZhc3RfcHNraXA9MSBjaHJvbWFfcXBfb2Zmc2V0PS0yIHRocmVhZHM9OSBsb29r\n",
       "YWhlYWRfdGhyZWFkcz0xIHNsaWNlZF90aHJlYWRzPTAgbnI9MCBkZWNpbWF0ZT0xIGludGVybGFj\n",
       "ZWQ9MCBibHVyYXlfY29tcGF0PTAgY29uc3RyYWluZWRfaW50cmE9MCBiZnJhbWVzPTMgYl9weXJh\n",
       "bWlkPTIgYl9hZGFwdD0xIGJfYmlhcz0wIGRpcmVjdD0xIHdlaWdodGI9MSBvcGVuX2dvcD0wIHdl\n",
       "aWdodHA9MiBrZXlpbnQ9MjUwIGtleWludF9taW49MjAgc2NlbmVjdXQ9NDAgaW50cmFfcmVmcmVz\n",
       "aD0wIHJjX2xvb2thaGVhZD00MCByYz1jcmYgbWJ0cmVlPTEgY3JmPTIzLjAgcWNvbXA9MC42MCBx\n",
       "cG1pbj0wIHFwbWF4PTY5IHFwc3RlcD00IGlwX3JhdGlvPTEuNDAgYXE9MToxLjAwAIAAAAzzZYiE\n",
       "AD///vdonwKbWkN6gOSVxSXbT4H/q2dwfI/pAwAAAwAArqxz6KbEnZBj0NvMAb/PH9aUERn9i56K\n",
       "h3dAZhr3h7e7MNIMomuPsfiRSyTyywpViIBG/78sWYU/fN/5SLJyxFbylrcsAj7H2dqVV/5SCvPs\n",
       "gfhmxnkUS6Gdz7YIXqhkFtD8o7lH94VHJVHnmhwfvLWYP8o87dJWuq1AwkQqU5jdwv7GUjnLsGF7\n",
       "kbkpOYQ+WJbfY2JJCJjPsGd5ktID9bWBhKhIUfp4zIBF7f1cOp3PGrl4p+2tthxJDJL63rG7DdEI\n",
       "7XTjl92n80tdVlNBwLdFfr3EDuqkhlsouq48e4QE8bMwP6RyM9PPD21daYEiWwq9hGJmQFocs4ri\n",
       "rQGTrgXyBFoSzua6WH+uClWw+tcILfxVQS0r8r636gpUfZaqz06NoZUrIgAUE3/MiyZhvHpQpfxS\n",
       "p8edy7S5o+ibIh4xTt6bQPN5Q7+siv/r9LOV+soEr7VC9WzTR3UG0TusjmUTKP8O0oUXYnYIxbEm\n",
       "oxCPHLTrkHpI4igV3sZCyIhFSzIp/L56MaPkjFIUJagDluKAXTIczUMeWhT/tElQ2cutBA6mkLtP\n",
       "SeK0wo7mVJclrWVXAoHJGU7UwNtr0vrRP/cxZRSa8Zc3KRDsQIRiAX438Ric3ZNYGFjr89Ns/aDt\n",
       "udujoB6kTjdHG/HwWRGSM2TjN+SHHOhKxfPr15QTbKpBnAW8UCUJacWKKccU0G7xFJlx6CFCKJM8\n",
       "ngHypi4RIi4hch1iXmrYhQGnN1c35lH0JCFslBCOd/gZqM3ZiPxjWYHmBZfhgh3vlbnaMMbCH7Oy\n",
       "12Bp+zYWFMZrgqT3tfOnTQqvp0pvJlGW63/H6ZzWSGtYuJ3734XLzG57e318f8ePDsik3NgxlvUs\n",
       "Y0WoPb3ul80+PL06IR2Jm1SJ5gpZqe3G/LT5FS+qlF0iSdHdQhuNxejB1xIekN9K5JTGFTfr3DuK\n",
       "5qsVvmv98B7jZR9p6Snfwdtm8GPc55AKNE1DceB6OJwNKBGqLn+ylQ/h3dCN4zI3Vrmpb7SD1mUa\n",
       "tXlKEPr84LhqCf/bn2crLqjWSgvfyvZK/0gHcgS/7v2JYt9qu9av+AWsBm1g3+SwP/gnNhCbDGw4\n",
       "ZHHVZZCAcvsrtykH+1UwNmkl5JpELolsqWxfRSf4M8QkB2ZC4KuP1aSHDpJTQu66KSuSz1G5Nx21\n",
       "XeYrAVObpR93hnipai+PfmguvFKoUKn0gAAgnm5WMwwrvHgQp/onYRuHjoHQQm4vMJGWvHTZsdZ4\n",
       "nXCAIn1me5ETIL3cEGVxjmDi4Bd1untzgsdBwZUlFHcglUkH9TiS8LTNOc+oHPiuI88NqVdGrOOh\n",
       "kBSKz7B9q2XrYpocYam7WlOyRfZGSFEaECQQuJStJ15cLDO12H6xrUf56Df5s1a5qySWDHPOhNnd\n",
       "DflLNO3uHAhTbSfusgSO2WNKWc0BrWePZm4xwx88rsQi2Y1sLwuhooimyfALgqbd2THqgO4c6mBN\n",
       "DHoj0trfbr6Nb9ihgGWyaoItN6A704dA6kwl/pJ7tGDJiioq2Zf+Hh16FATIaTNCWsNverb9SLXI\n",
       "cfWanTzZNgfv2c7IpCIp5b08ZM+pyMsYZBXKNQHU/HWYBRBGoWIZsc7pbyA6gcFPJQ1Jv38MfpeW\n",
       "Ja2BU1vmAKS7hIRSIni+S9xXjiETU4NfL7KR/7Fl4xnOreQ1Tw1Qdtf+Wxa+kf9YT/NYSTN7Mzg4\n",
       "IaBLCROcIwAgHCU5ZT/zPVOFkJT9hEluJ3wbNENDwY+DI13JaVpfzi8sXPzpKJejL1kzmf/HQzzp\n",
       "CN4/CphkQ/PwPTRvQsGv0swaMPrAH0LhbTmumo9vg7qm0p7xhxE0wV+0HaCCQMyXuEPzXn4BXdvQ\n",
       "sypEaZiPVDcQCk39815ATGVR1UERUc5WZqbqNa0G+UfzfC9asAy2tpyWX/lDNE0dxQBoC9FW6VG9\n",
       "6wXNedgz1uOtT/caruNGqrts8kZ9/XamUgGBjti5NVMvwi8tyWztE3aK/egyxPUCeJXquQET5YD9\n",
       "e49x1JRI/qGiD0FkKpq/qmPXb7RlgczUokt5LwJPvjTOozaSRaIDctyZdmOb3zFb6mEM4DXGbk/D\n",
       "2I3+nJGQFFD6LfwZ1XNEjCOpv5pyY23guoaUaGtlckWObn7EFwRQ9rEbi3cjdJMFZyJ7/vFQtITf\n",
       "oWIOByUImVBe9XNl2ZJUjP8QAjPXThW/cf/pWQtLVirQWx/VO8yFxguvGUJa+kc9N3kYsBm6IrTk\n",
       "gAEorort0ptAWvqA4eT49l7y0vQkhevyWNPwaPiOi+Zx7dA0y37TYsxu2F9+j/Q/96YxjHG3UNnU\n",
       "kOIdnJGnRD26Q9LsZnGC6cacwmJjSVHSbVM8EE2W1yPULG7EVw/EhINWuzyz/40+qgr+zYooZYiz\n",
       "ZNFYX5WHQZb0PAznQlZg7DPdpJwei4P6KEZEamixe/CV+IlWHT6jNwY0PkaFLKDsgvhjT302KkU9\n",
       "Mw5MF4XvJsURU+5e7z5FVyJjiJsna1kDu5FKnYA+sx/E+1Jy2IWsEYF0X6WdcGbvOkKFodOJP/1Q\n",
       "QyHzO61NSW6hziaXhvxTTTQI29iHurg3zc6ilZ0lbsr+6yPh1oglSZ/DkbNPRBiCl+49moIz9owG\n",
       "O1/xQUQvNxYGqhXQLDH9TS6PpV0nYHTC384zTJLyHzHLAXASLC+GGqOWVReCfS0xWD8v5RmIk0qN\n",
       "UDhuBu96utnj4Xmf+MDGrB6Irt6TF//KmOO/dGjZxYZI5mZDZEsL4FEBMwQaA+/ocyX5MHIf3Pqx\n",
       "OTiABHPdGGp4bhx8LXnbqdFWzNG2Io0tt/8XiSJCUwBZJPIwwn+QAUpbkl10bHYSEJGTly/ZBZH/\n",
       "14zFQOio2NEGOrn/0n6XXGZ6BGA91IQZJga1lcmZOHbXkrn/mBEMVdhjaH3shs8pfwDIYwAswbxN\n",
       "Kec7kdap3WMSJLy2Y+FWhXdZY55jANcS6zdvhYUyX9vgPWl1L7jb1+qxQEABQqYxzccZUcUPswde\n",
       "kPupJmAZbzkH9dwhREdLyYL4S1s/BFHiOk8yp1JPcRIh7aN5LdMNS4IeJ07ZwGdK9J54G2dBgIQr\n",
       "PztCZrqZwdWwIz/7VtWfuFtWm/yFhIl4Gny4X5AGtia8oIn3EStLAS+fX/3KijLuZySDhNTeQuY6\n",
       "/PDR0OIy/GIQXyeEfdxckGPjtgJYUTTMeJDlIjpFg0G0OJkuBvuq/ghtCOgGiZ2a8K4BEXYQ+37A\n",
       "AYSQLOFWOym9fXhU7/9cV2OidHevaLXyZyk1VZXpNwkpDxUyAJ/fn4yLY3lH+zr1LOyRQEHFe3T8\n",
       "nBEGgpg3aWxAyhkrLYlCtAK1LLExwBnaD75n/SsSe6OVsepMq9nmMY2fu+W6WYPiqLiyCBzCw+sT\n",
       "PdpE3KUIIGYvUgvyQhiwOB7pr8wsUnIfeXoJIvZH6DuEp/eZjSX0d7gLaj7lB449CrMen8aeHCyr\n",
       "mU1DvSMYPWDaLcoLtyvf21gUrRMtyeUr1E19mS4P4E75SBPHDnuxXGkGPulAOfpZVqyzeUNI6Mcw\n",
       "PuqoIL04DHAACrJy3RDUM2+uZu32qLRjKZj6QEsSVHfye8J5jf+iot49dqdm7MJH8ROUCoWrSUkA\n",
       "cy8FV5vXDBn9qTdZh1GP5zhGbQxtrUjy3jJRYDcXw53Zid8aL++tZJFvhwUkk01mYQRINB1TRkGC\n",
       "ROorzXPHdTbq37rzrnrhLQWVGiq+CSIcumv3+QhOjMJ5darXrNH0cHQPXhE4oP+UWWdFXAC7Jsut\n",
       "BGvkf+ibZUhcnuma6aTkg8qvoTSOWrO0sd2vus2KcQzFWCk7JrsXABjVPgz+TnjJfv4vSwGF4xe0\n",
       "yNBIsbJCAsfzZRS5m665xyTshjM2ix4lRWOMmbv71FcqIoKR102d51r8iABz8h3qc3Uzv9pE4UZT\n",
       "p1OvjhjqAYfIGZHpbZqEYAuWT20N1gbxhS5KtjQjfGHGfcB4cKGvxI7soNsVbbsddYS+GlTiCEMS\n",
       "oYKwbD2jrXjKLbIxBfOVCmFbnZa3+phfZYKS+IRo0Rg/mtmH5VFM4dxoxYsiuKnBlbz1/6UfloVx\n",
       "tHGWI/Oxd6lgUk6s8b0A3G5oMGqCNijw/upkRFu2VpMSLlyQN7v/zJUM91GVBb2vpS5AlgGVFapm\n",
       "mgAgE/9tY01jgeUMTsDJ1bADvTn7N2vTsIumoXOJSY1aBjRLy9s9dFwQ3gkIj/1l46One3/UVV8O\n",
       "v48FG4Z5SiW26dgC4foJf4ocP+3cgqdm0SopTWNp6y2GtZL+R0mtLofv645SAO39ueO73yAniZA/\n",
       "eYjHwf4OsIqV9qsfgf4C3uLP88sE5a1UR5CaPdhFIW7mTzKMWp5RtcY3yS21UGz/eie3Obe9tuAB\n",
       "cAhrsBmRAAABrkGaJGxD//6qhK1FnBnL5aAG/1z9uElTtCo1Y/oJUlGpqdNc/imBK1qEMWxgSnja\n",
       "rYDQIE0/Yuo3rxS0OWH1brR9rFTUDtumbpEhwH1Uulpeu8DC0mrHu5lwg2i5ajDI2Ko7hRZxolx5\n",
       "92lzO+VjovJfwOPhYisGXd3qz9rNNqIZyRcgN7YMEK4xjQSbhuU870haZPMcNKzH7ArhYbP3dMo1\n",
       "S6R1OGkI4ELQy0Tyc3iCwIYXHCIA7sM0ZEOJE6BwXLEoGemxm1rVeKaGHyWMOdIIYxz+jaVKanKs\n",
       "DFI2JgEyfUAcPTIgxdiJh2emhnQTumJK4lcSXsh7uF33kfq3YYw1hZpSroKKGNtaKuYme1jBWATI\n",
       "2xaz5yp6iTAhgwxXJA9GkFUR+VmOAht0pdcXB0i9QkpMd4sdM0p5jcl6+KG4Nfqh6y2g0PEjq0ct\n",
       "mcoWrdeC6jUYvD6lRTUCIE7LLbzJrTUZu5wnlNMuNi4BXXKhnICV/cdkfHOw/g1hta3FIcfy0HPT\n",
       "QL/aTVVtlAuUuYfnV+dFjHYlWr+I6N3yEqyCjO+3Y5tLipauB9aTd0AAAABHQZ5CeIZ/EmeXPfEw\n",
       "h+ifdcxEAI87y6zjeQJ2PNJhaGT5wRSVK8Nvjfa9IA5h8OmM/mfAUkGdq34NRIN2d/2WSsqszIo7\n",
       "qukAAAAuAZ5hdEK/GzbunSEPPPdNzHlYwiLMpwRIQEuGQOw6ggHyrTZcJSYIzcWhpmQpeAAAAB0B\n",
       "nmNqQr8beW6GRu86BqLGi0E7c5PP70UcmxHigQAAAIBBmmhJqEFomUwIf//+qmHitjgV4w34wuTs\n",
       "61qieFvwzRt0AHNJUx4NVp2ccmiuYvhJex9Pfp9kLn3t5Ki7UwBQHP7K2Xl6ll6cLtKTtQTiSiyz\n",
       "sPaFHNosvPYi6+QyDP2bn6otFInpTxM3lgjiPuK9j1TyXBBETF4HRA8NryIuNwAAADFBnoZFESwz\n",
       "/x7Zr0nUbbwej2g+kgEEABGR7WqX1tb6nj9htKNvJkoH9S/3Z+/4GmH/AAAAHwGepXRCvxs27oY9\n",
       "E1n9RMtseeqFF/moUF2LUO/QS8EAAAA5AZ6nakK/ABUK//vJDAC0VrqW9s9MbS0AZzU5+M9FUQwo\n",
       "pgEB4d63i72/g1qTm0nZ9/ba5ewEWqCCAAAAgUGarEmoQWyZTAh///6plgACt9NtADmkqY9FZFcI\n",
       "UhzKFTvTtmakXREyr4EWr/KNo5uaZhKbf24OTIaFnmjjc8V4SkDeMwfxiRexgHu7vIZr1isZd13n\n",
       "FeqRhyBfA4EQqJ2TFE2jlJURXBUkgOZrm6oW7XoyIGOa9rNe81YRxqFpgAAAAEBBnspFFSwz/x7Z\n",
       "r0dCTtLussgAuMZ2qRcqz9Z3VKPTTgHkMjpytyH+FP7l+B0F8QshTMfrLdy6A3BD7fzIIjFbAAAA\n",
       "JwGe6XRCvwAVBMO7yQwAlAvlDAJapbGsYZABgPgf8VTG+Ee3npbCwAAAACQBnutqQr8AFQr/+zm6\n",
       "ABdBdIrY06l7gtam7hZRirjNVRRel4AAAAB3QZrwSahBbJlMCH///qmWAAK3020ATECV33oOK4Jj\n",
       "HDOZerfU1n8YBb/Ha6VUWysAldsXnhJF/3/83C1L0lyZONT7rgVTNi471W2fK4WaH/B85Kqg8SSJ\n",
       "oybPOsOCQ2FbImslKn3nS1sb87Rs9a20uz4dCOEWb0EAAAA2QZ8ORRUsM/8e2a9HQk7S7hFRABO3\n",
       "rwWkmaDB8/WyELzXnB68dJflHpOZZdH04fTmfljt9pQhAAAAIwGfLXRCvwAVBMO7KMGAEkXJWfJg\n",
       "+1duB58DvHzW/17RRLsxAAAAIwGfL2pCvwAVCv/7Mvr+A6AEqtqNVRzUvnIgsvr8upSpmlmAAAAA\n",
       "VkGbNEmoQWyZTAh///6plgACqCtCvcwA2XjdNz5M5N28jz3cB+KvXkECClck/e2Rv/AqlMZHdo/T\n",
       "H8nMnxKj1bPBtWJAUqzT9HIkms3XwZ+nK2eJirEPAAAAMUGfUkUVLDP/HtmvR0JO0umUc+AIkJoK\n",
       "1/MmsVhtAhKsApyL/Cd+8mNn4y0Dj3n0yoEAAAAhAZ9xdEK/ABUEw7d+3OAIRtHY0DxEZifcQP4F\n",
       "RxUV8sSwAAAAFgGfc2pCvwAVCv/3Y2rSyoYkDZ2bs7wAAABKQZt4SahBbJlMCH///qmWAAKlp1ek\n",
       "ANAzqVvAZtdYg3O334yURCuTJ/2Gnvsvho4fEG117ZyQEWu6oDcnz0XdgDVJQFvQghOIrP8AAAAp\n",
       "QZ+WRRUsM/8e2a9HQk7S6ZRz4AiY+4Wklex0+YaVLspB8iafhId0kngAAAAiAZ+1dEK/ABUEw7d+\n",
       "3OAGt8oeeYS33Rn+cFMUwmfppqwfcwAAABUBn7dqQr8AFQr/92NGfRh9X17dleEAAABkQZu8SahB\n",
       "bJlMCH///qmWAAKpwt6NIJubgA3FriFtKrYZXEt2rKjqNx+TxGWjnyGk35PSz4QAj35DT4DXuNNj\n",
       "Sz95QFWEhljgAW+/PENM0U4uWsjfOrm27NUcxfuHF20vJ3JH+AAAADNBn9pFFSwz/x7Zr0dCTtLq\n",
       "S98ALCzaGiBelXnbtHl1td/6Vn5hRpRw90WBelrDgv5HVeEAAAAmAZ/5dEK/ABUEw7cqteAFuFip\n",
       "vyRhGpe8Jxq8Kz8rlqOQI+DkpeAAAAAlAZ/7akK/ABUK//c8poAF0F0djVpm514BrpqL7ALOq5aJ\n",
       "BWz9mwAAAE5Bm+BJqEFsmUwIf//+qZYAAqXYlKAG4vmKNy7UwSiI2J4XA6HicWcCoRp6Arg6wEGT\n",
       "m2Mr7ZX/AtFjH+l8onWS+B7I/d9xEiQxaeKFZ/kAAAAuQZ4eRRUsM/8e2a9HQk7S6kvfACyfwVJD\n",
       "C/JqwHG7Zk8X1mDWkOz/T+8qfuIk8AAAACUBnj10Qr8AFQTDt9ivACQn1PYgjklYt3XI+ApuuAdy\n",
       "z9zd7k3EAAAAFwGeP2pCvwAVCv/3Y0aD1l49TCZrSkbnAAAAW0GaJEmoQWyZTAh///6plgACpdiU\n",
       "oAbjCDpxtfZIO7HSuAUk8qUNacX2p6usqlqeRyqmJ15pO8BMcdT8bhEOO1MgmjusjW3+v1yudU7Z\n",
       "DN2/wzOW9fhvF5DZH+AAAAA4QZ5CRRUsM/8e2a9HQk7S6kvfACWosavY9l5EWasMius7ap/89ebs\n",
       "JNoVHFUDIA0T6AmLDj/JPg0AAAAhAZ5hdEK/ABUEw7fYrwAkbogLEQlXH6swYbpWdP2QbDXgAAAA\n",
       "IAGeY2pCvwAVCv/3PKaABOs+Ss+TB9q7XtyI5a+jyIN5AAAAQ0GaaEmoQWyZTAh///6plgACt11l\n",
       "+7jrUJIQAWOgx9PsZhN6/Uw8o7X2/B4C2Y/Anx9cxGClQLKfFMGFJ+8NtGIFbpkAAAAsQZ6GRRUs\n",
       "M/8e2a9HQk7S7c2xnl6cG3cogA/F3CqE58U3zpGNWe68uhvrKEEAAAAYAZ6ldEK/ABUEw7t2lxnO\n",
       "T4BmIh5TUeoxAAAAGAGep2pCvwAVCv/7Yrr1zj9Lx0ENtgEjvAAAAE9BmqxJqEFsmUwIf//+qZYA\n",
       "ArqLpzOAHSq1M7WYihzsBd8OxpSQN65oIBXrE7uSyHX3pvZB3MtKL3l2KEfnhGPktxCFga5UKMJX\n",
       "BpeHmSNmAAAAJEGeykUVLDP/HtmvR0JO0u4IXAp/UACZ7a0dNOpU9jKyXwbd0QAAABwBnul0Qr8A\n",
       "FQTDuyTrwyAE0gzrA3qL8dCqoDbEAAAAGwGe62pCvwAVCv/26FdgQAH6iOint7eyq+2iWAAAAFRB\n",
       "mvBJqEFsmUwIf//+qZYAAqiEI1kAFlkrzszna91huplwg75Z167ogubB0AflrAy322npSlO3QCIP\n",
       "9x7aGtUK7HcNTdKnk+OnJRfCIB8X+Zx4z4EAAAAvQZ8ORRUsM/8e2a9HQk7S6n3KAAhHTnOmSYnY\n",
       "sm4u0BgxdErB6RWmkD4Pk/vQWT0AAAAhAZ8tdEK/ABUExDvuKTlVYAJ286Ow/1b2nZjTaLX9rNuB\n",
       "AAAAHwGfL2pCvwAVCwB7aB7lWACZ3krc1wekdOq7Ff1JG4AAAABWQZs0SahBbJlMCH///qmWAAKl\n",
       "5sAQA178LgwAzXIdr7/VK+/pswF/BdR1cVuLU10PrGXxkyaBdlTrHq/4ihCu0sJYVHVM/nL6nqW3\n",
       "GFDAPynnqHC1CLgAAAAuQZ9SRRUsM/8e2a9HQk7S5106a1gAO2zpEOIr2lSP2rvz1bdL11SLZD9W\n",
       "X3v8GQAAABwBn3F0Qr8AFQTDtttsAgANqOhRa+boq+3Vm++PAAAAEQGfc2pCvwAVCv/3Y1QrWsSw\n",
       "AAAAS0GbeEmoQWyZTAh///6plgACpebvcAIWElft7wwgi7Tjt3DgbiVJ7OkQhdOV1sDg+lHHs5wp\n",
       "2kEhoRl0vqPIni4Q8YcMPNRX4prCLwAAACxBn5ZFFSwz/x7Zr0dCTtLqftYADNIGD1lFd7BmtBYf\n",
       "MthjgVIaqfhE9xEngAAAABcBn7V0Qr8AFQTEO+5NVJkIQKRytqGB3wAAACIBn7dqQr8AFQsAe2gr\n",
       "4qwAQi/KiKPSzkzXQu38pzQKANzBAAAAdUGbvEmoQWyZTAh///6plgAFU4W/BSVuBk/Ild+CQ1d5\n",
       "YAnY2R5zlpevAusuqKZ1Zj2yaSFTBFUuEmBAu7Z1s4QWDYIsW93lFd6dPFP36b6JraEojnMDuMnG\n",
       "6qWc6VNFTBkYO677V35/MkUc8omCeCbIjHjpgAAAACZBn9pFFSwz/x7Zr0dCTtOPs4Irk4FEAGxj\n",
       "arM4UPg7Bcu8m/kpBwAAAB4Bn/l0Qr8AFQTDty8pqAEH07WlWLMzyWmModnfZoAAAAAVAZ/7akK/\n",
       "ABULAHwVVTWnX6NnYvDDAAAAW0Gb4EmoQWyZTAh///6plgAFS0GqZKAo+tK78ePAsqft9MAOs+4S\n",
       "aBPpB/tMsUuKrYEOUgT39aZy7yTqGDYWsm8P0/Bf40K8UwfH24Sg9ZKd6R1B4olTOke/EXEAAAAj\n",
       "QZ4eRRUsM/8e2a9HQk7TjxZUFKEJAA69BzkZkb0/hGd0kngAAAAhAZ49dEK/ABUExDr7aum7kgA2\n",
       "Y/Ge3MDDtHHiesDA77mAAAAAFgGeP2pCvwAVCv/3ND8rkvfCh3Dk8H0AAAA7QZokSahBbJlMCH//\n",
       "/qmWAAKl3DnACHpOimcTNIaIA9682m0LutEmqLThg3xoyyQ9gRvtgeKAGxrUIuAAAAAoQZ5CRRUs\n",
       "M/8e2a9HQk7S6lvMAEiRhRxWLp70Vh4sSw0RWOqrH+T+LwAAABEBnmF0Qr8AFQTDtyUwO0PEsAAA\n",
       "ABoBnmNqQr8AFQr/9z6cgAbQUBGPVSsJDgiGaQAAAD1BmmhJqEFsmUwIf//+qZYAAqXcOcAIddQt\n",
       "v+X2U9Cw0I+OSZsIvb8VLdT42dH6cfApMETDXYVVoYVyUPGfAAAAKEGehkUVLDP/HtmvR0JO0upb\n",
       "zAA4fZGmznCMbB/OlxwmNWqn4RPcRJ8AAAAeAZ6ldEK/ABUEw7csLoAEPzJNpbQCnDiYu+13UsPL\n",
       "AAAAIAGep2pCvwAVCv/3PpyABtBdHY01eJhNXKy4V6iIoh5YAAAAT0GarEmoQWyZTAh3//6plgAC\n",
       "qYncEAROAF9zpe9MYWmbeJLIeE/tXPmMqzDLiESQRPIIb2Z+iI7C2/2U/WM+CGVL+UV2yhYLxUAA\n",
       "CV9/gl4AAAAqQZ7KRRUsM/8e2a9HQk7S514H11PgA1X37w77ZtVnwPyJrwciow64hOqBAAAAEQGe\n",
       "6XRCvwAVBMO2wE8WsQp2AAAAEQGe62pCvwAVCv/2vuTg+umLAAAAVkGa8EmoQWyZTAh3//6plgAC\n",
       "pdKGAAT4uEPZD3QGbRu/6X1Nfvmg1P+JjWfNKPHnJC0Ft/qCtFfnjnQzkMnoCjwTaYAytF2Yfnsl\n",
       "f9nSDQUhG7s3mJBxAAAALkGfDkUVLDP/HtmvR0JO0umWxAAIR1qzHeKydRtZiGvy6o1PJrLC2zx1\n",
       "ZH9HsXEAAAAnAZ8tdEK/ABUEw7fkdAAgLMjXZJXx8zJw8FRmFS0nh0u8nGWpKUvBAAAAHAGfL2pC\n",
       "vwAVCv/3PpyABtR3JULC4NqQkyEGTYgAAABPQZsxSahBbJlMCH///qmWAAVNkXiKkBQkPM08aoca\n",
       "guRmpo/aPbFnXVpcaEwy/YXCIezPvDeg9FVdDb80hdzqP9lmr0i+ocyZEbH67k1LuAAAAFpBm1RJ\n",
       "4QpSZTAh//6plgAFS6yWAWu7K88LS7ptBmhl2H24Nqfo1FUuBn2Q9dFuheeLBPigplYxWE/TOr08\n",
       "F/4+FNckflmy5A2Uu6IFQgtctBmNa5s+fu0mQ/0AAAArQZ9yRTRML/8MWgBPFBY4rk0+yZGaMwYA\n",
       "HZqMMfdrYxtcYf18qhboZ+tr0gAAABYBn5NqQr8AFQsAe8XGv2YOPAtRY643AAAAS0GbmEmoQWiZ\n",
       "TAh///6plgAFS7EpQDcIhK771ZZoOKA9JKI5qOSv1HBLqFCpAiqLIbXmqoXLTYJVZeOHWfxnUX5m\n",
       "RYE70cmrGJcd0QAAABpBn7ZFESwz/wpphZ15dxkm3/IRdxQZF9AF3QAAABQBn9V0Qr8AFQTEO0iu\n",
       "eGY5DmD4gQAAABIBn9dqQr8AFQsAc8aM9oZJaZkAAABJQZvcSahBbJlMCH///qmWAAKXwbu53a5t\n",
       "LAESoiV349lDbqmeo8Sdt+uQ1e0KSG8KpjYpQtv3J01OlSzDwOQcab9qy5/tT+QLaAAAACZBn/pF\n",
       "FSwz/wpphZ15dxkiIMpNaSVRAERv3sc+dPjejoeJUVf8GQAAAA8Bnhl0Qr8AFQTDsyUrV3AAAAAc\n",
       "AZ4bakK/ABUK//LVL0CABa1BE1KelQGj6lt6QQAAAEpBmh9JqEFsmUwIf//+qZYAAqYTUJ5Sz3gB\n",
       "bCIld+PuBwp+bl7NI1FUn/kpoIekZBYqt5E+yUJ3RnB6KYC7//wiAWCFBGuCoZI3oQAAACBBnj1F\n",
       "FSwv/wxaAGQILHFmch+JwgKAC1eGCtP4SieDFgAAABoBnl5qQr8AFQr/8iSrAIAFqPvMKxmSmdTl\n",
       "KwAAAFBBmkNJqEFsmUwIf//+qZYAApQcaDgBLIvPK81Y0hjNVR59y3wstpHOIuUKLfpIZODH7u+z\n",
       "nZ6rCoHuy6C+3BCUuzKGziYje43HIdYIbjWEfQAAACdBnmFFFSwz/wpphZ15dxi+Rg3CIAAXUeV2\n",
       "kmfA7GTbeSICeHvf4MAAAAAcAZ6AdEK/ABUEw7MqteAFiRyF+kPpesDFF877NQAAABwBnoJqQr8A\n",
       "FQr/8zymgAWhHIYbeUGAUMUXB3x4AAAAW0Gah0moQWyZTAh///6plgACpdNtACLSVMenXhkTNrms\n",
       "u37V9qh0md46zgtlYiayjZxnEQBSC8tTQ43lk8pGRpCUrryPixR8iuBaPvq1iSjoTLr/eaaysP5i\n",
       "QcEAAAAyQZ6lRRUsM/8KaYWdeXcZH9t4GRldKXSAD+eSy4ue+0tim7L3BevmqT/qh6/9XTrxZ8EA\n",
       "AAAWAZ7EdEK/ABUExDNKSkLx3oTeFrmV4QAAABkBnsZqQr8AFQsAc8bV2vbyb4cHg3bJqSd5AAAA\n",
       "T0Gay0moQWyZTAh///6plgACpdNtACK4dlv7/43sDvmBr2VsKvD9vTWkk+7b5J/mr+yP4Tfv1A1e\n",
       "s7TQGDoqQ2TTAFWBaoHBHzm832o0Eg4AAAA2QZ7pRRUsM/8KaYWdeXcZIiDgst4AFNitC1f481Vj\n",
       "zIV6i5MnASA4GQ8n0al69yk8veZX8mFbAAAAIQGfCHRCvwAVBMQwcnwqhn7uAE0z5K0Gs5lX0BFq\n",
       "tQp9OQAAACIBnwpqQr8AFQsAcFZimSioR+AEzvJ65cWcm/CCVq2lZiDAAAAAjEGbD0moQWyZTAh3\n",
       "//6plgAFL/uXUoZlrY0qi3w+WAKukGVqPIVGb3L7j2FncYVPmksLl6CBudcIQdRz2FpCJgfhc1ll\n",
       "aigKGSkfBp8/HCHIWWJ/Jp5KqZx+YrczuHbzBxdvLmf/MA7ZRAn8Il0Fmq/rsu+4JvmIkO+YOMXx\n",
       "qgyYV4PCMb/DPYRSGSggAAAAREGfLUUVLDP/CmmFnXl3GR+mvrLeABsYTXO9BFfd2noL9eL6gETv\n",
       "MarfyEMW3WzIIV1HQCY7sKA4rGp+0xgjfhQFyOhhAAAAKgGfTHRCvwAVBMQwcnwttqAED91RtaNi\n",
       "26tmn4kPn/g0VsMdVN32w1mWDwAAACsBn05qQr8AFQr/98kMAGxKzBLQW+Un1A79zy4yar1rqyv5\n",
       "sO7nP3nu5/cxAAAAnUGbU0moQWyZTAh3//6plgACpcYJAEbzErkKk4KIbhKx5XsalbWnp1bxon85\n",
       "ptsxI6pU0T7JTIKbyNzWketjol4AxjHVuI5GbYwBwPMaj3GZJIoRN4IKjJNp4SDvhMvuxEDJlxrs\n",
       "SPN4tpyoBGhSOinba/ZbpctJgRMKlLT6cb9UNGoYbH0YwOBUjLJc/fvRS9q8m2e7+wcVRs3I3oAA\n",
       "AABGQZ9xRRUsM/8KaYWdeXcYwO9nKHTTJbAAmc/qxNqAoSVUhTciNDkbsgAGuCuC9hYUSQ/cR0Oz\n",
       "LmBvgOZg8UUG58Hyp+UAXgAAACwBn5B0Qr8AFQTDtyjBgA2o7k9dnO+yqR/icWYfh8nTNf9ruc3W\n",
       "W0FRlwb3MQAAACgBn5JqQr8AFQr/8s3GanACBDKtHRA8qmTrXgwwvjUrHxMnog0InCCWAAAAkEGb\n",
       "lUmoQWyZTBRMO//+qZYABS/7phdFyPAQAbW6StpSmhaLnjDFbEdyG7aYPAkxvEgE3dimcLXDimL4\n",
       "Nn3h+vKSHH3n6mjh8XTgzQHcJWTXx+R9UnaD+bZ9miB3SWbvAVg9yKS96X4OsdWB5jj99ZWQGzDI\n",
       "/jF+8q8rRUp4Mc3dqAJf/uoHpg+OX/hT/4zAgAAAACkBn7RqQr8POg3Y6a518oxa5GACDjZ67Od9\n",
       "loHc/SDOgQ6dXz8nnnnkIQAAAH1Bm7dJ4QpSZTBSw7/+qZYABSs/gDFAG2QaVyI/1IVnKmuch6H6\n",
       "SHZftMcL3WZ3r1NXLvbDTDnHfsVzlXvBKMEpEZDkDBe7zSo0kWLB07toFlq39hsBdpnJUluolA6r\n",
       "80ZOQP6TztigcyoLAEwdne5D1CSmA8qXu0Tz8yhlBAAAADUBn9ZqQr8PIuqg6B5KoWYAvxUwfT7A\n",
       "6sjC7heojZcbbpzDfBis057eoJw7g/vKFVOo4vqhiwAAAJVBm9lJ4Q6JlMFEw7/+qZYABScdhQBQ\n",
       "EIocXe/s9FdPTMOC8nZ2V7DyLF2Onzno1ra/Pws1EUZnyF5ppEzfSfTjkrtoJdveXqma92dKA3dT\n",
       "/GOMSpDCsqEmYXMAPHkXTjwlU74QXxuOM7WntFOkUJEui+nF9nT5PL3V/t1bVsrQ3hSrtUaE+ELg\n",
       "GQVXJa/EWyyU1ItTGwAAACgBn/hqQr8PIuqg6B5KoWYAcWHwI0DuSQqbgHAJ4V1JKtbt3mA61MqA\n",
       "AAAAmEGb+0nhDyZTBTw///6plgAFLaopxQBQERK76fYPY7SsDAYxWZoSFPyRK+LTpRyCUuclNJpU\n",
       "/GyHQGY2nsb6XYR565XSi+eBpkjJ4PLSyL3bNln2sMOE5jjVQnfTFr18GtBb/nweWN2ckp1SLDi9\n",
       "uFvikbCSigMuAleokSE7byMRB0WnHjbNwfS5XfEb/hp1J6plBxC6LCuPAAAAOAGeGmpCvw8i6qDo\n",
       "HkpwdLMALXVA1W+bdy82l0hdzjtTiYw9mDlQVfvT+RwZLqPaliBUiFwmgUzAAAAA0kGaHknhDyZT\n",
       "Ah///qmWAAUqbULDSgActCR/9qUVmYEX+yX+iF185pUN7KQo1XJjm331paR8gtzPwsY4s3/HdFMJ\n",
       "9W8ui4yE/wBDM5VgsU1ZJfp/UBv8Z09+o0zzttNHIenA5e2owshCKEzg7YPfMgAD7y47I6Fa9Zby\n",
       "ZcbeHoA4Yu85XFxHBOZ/Hh4GyZoK9Mc1I+bPLK5X4iq9L6X5aUXSezv11LrEz9gy1YThUWF5/a0L\n",
       "4rHyMNE/jDGdRxNtYAF4i+BlcXIXEWsOqgJmq1JlQQAAAFhBnjxFETwv/wxZ/T1KByRRyQAfuqqf\n",
       "fiqB/ODcEyfdiFKQhA1BZcrURo0zwCAwAf1GwIncBTlrxdVkEKk/Dt1bbFmCg4JZo59p3j4fFOMu\n",
       "eHKWWUV/85zNAAAAJAGeXWpCvwAILIjpN4qX2gAhF8TtH766Q6a/rk1cXgzfxrsL1QAAAPdBmkJJ\n",
       "qEFomUwIf//+qZYABSeslgEI9V2PUZttGA6bxoFPOIdw/5jy36vm98eMBh342JsPXKVDpAuOSNSO\n",
       "9H/qC3SSYUUGCRVqKPQx9fQbA5ZgpiXGqaT1oLM5CWEvJoyI442hIcpHrII6qXyeFG0kn+nrhErs\n",
       "VGK6LdDg0Phq7oJyR50Ww6/8Swanz2THG7tfA34tDDnk/zTrQjzsE5+wHAz8RESQuWHZ7KnjLe5N\n",
       "bbkbUGR6a/8GkGyp24XR3VxV9M9ZyLs/eLZdfJt96VZ61/5Px8oaLfhjy6Nc5FFRuQ83gk1N1asl\n",
       "ns0yfU6t3BlldPpIcOqYAAAAUUGeYEURLDP/CmmFnV/ZlGuGgBCnqtrrAKCIGrdrsF3MfTsfGJP6\n",
       "yRFb14FDIOPZuLR9TMiyfmgqBWntCIFWN13CpCgsjGK3KmwIL54n78AkvQAAADoBnp90Qr8ACA2w\n",
       "pYrACamT4vFmOVNlyuDB6dtKZeyIvR92Gfbhr0y4vnroLx5Wwkz/Y1LTEXG2QTjQAAAAJwGegWpC\n",
       "vwAILG0Sv6XcBuebxOGACxbjzrBU6REiYHUyLMFqaGtxoQAAALBBmoZJqEFsmUwIf//+qZYABSem\n",
       "2gCgIiV34turd5t7dclhFVt6BdIpC5eWt9jjEppYZvIBd70WCblkLD4MY2HRMCQhhdzZ9FAqLLyJ\n",
       "+Q3WIoC3Zkb1PoERSBiEVA/DVwp9OulDmK39d9m+odE7vTei2A2+Vj+TfTrhBtSCWafEK/8nmmB6\n",
       "EonzgH49EKIf4porCrmjEKyKMtbjQEuvWyxMHumFg0AsTP1iis1QiCTWcAAAAEVBnqRFFSwz/wpp\n",
       "hZ1gF0OHtPyhkAG0G8Lz3rfDGpGeH6G1eXvXaPrIl/VeubyCP3UBJ/aROqwG1/s1Bx+fJz993b1g\n",
       "puEAAAAmAZ7DdEK/AAgvfsjds0lF9EUAG8Zvkijl/gxbz4dzkU8uZXKnl8EAAAAkAZ7FakK/AAfx\n",
       "lTpDCE4ACIPIdblxJeYDXaAxhor+YJqcly+BAAAAkEGaykmoQWyZTAh///6plgACpdNtACHxGO+v\n",
       "+dsyPm0Q4g2mkqsZUoNf8sc11u8OwPb6H+90dfd2y0CQuIvfp6wbRMkbivnZrG/uuTbqPNmtKFhq\n",
       "fPziHmbjQHMFEZ4PtOHb8b0UHwbLYcg4fiPnk/yvc/gQee+uNvqdkpkMNe8yUdGnm631FcHNGHgH\n",
       "zaZnwQAAAEpBnuhFFSwz/wpphZ1fs4y7R4ABM8qyIhul+tQXpaHRoqGpeYLWSVVKFSHcLztQY1TC\n",
       "OzxxyTjLikTZWsT4T9etJDHR+9shPhM+IAAAABUBnwd0Qr8AB900QQySnql5mmBgEeAAAAAcAZ8J\n",
       "akK/AAQ2ZMQAgWS+watMN6G/DjGA75M1LwAAAFZBmw5JqEFsmUwIf//+qZYAApQTGVkJAGgk7nC9\n",
       "ZHyJm2Il58jRJPxyDi2x+YztKaomf7TX4W5H+qxdbPGwJ3ArxBIQHy5CaMRZSni21eb/D3pOPApQ\n",
       "QAAAACVBnyxFFSwz/wpphZ1X2Iy5u3AAFxQc+aL2aEtzkwaf+VL3ESeAAAAAHAGfS3RCvwACHXYY\n",
       "AK9IYM23F0V8uwD01pp7mMEAAAAdAZ9NakK/AAP4Bzu+lABbYAuh8q/EzoVu9Q4yf48AAAAVQZtS\n",
       "SahBbJlMCH///qmWAAADAPCBAAAAD0GfcEUVLDP/CmmFnVADCgAAAAsBn490Qr8AAAMBiwAAAAsB\n",
       "n5FqQr8AAAMBiwAAABVBm5ZJqEFsmUwIf//+qZYAAAMA8IAAAAAPQZ+0RRUsM/8KaYWdUAMKAAAA\n",
       "CwGf03RCvwAAAwGLAAAACwGf1WpCvwAAAwGLAAAAFUGb2kmoQWyZTAh///6plgAAAwDwgQAAAA9B\n",
       "n/hFFSwz/wpphZ1QAwsAAAALAZ4XdEK/AAADAYsAAAALAZ4ZakK/AAADAYsAAAAVQZoeSahBbJlM\n",
       "CH///qmWAAADAPCAAAAAD0GePEUVLDP/CmmFnVADCwAAAAsBnlt0Qr8AAAMBiwAAAAsBnl1qQr8A\n",
       "AAMBiwAAABVBmkJJqEFsmUwIf//+qZYAAAMA8IAAAAAPQZ5gRRUsM/8KaYWdUAMLAAAACwGen3RC\n",
       "vwAAAwGLAAAACwGegWpCvwAAAwGLAAAAFUGahkmoQWyZTAh///6plgAAAwDwgAAAAA9BnqRFFSwz\n",
       "/wpphZ1QAwsAAAALAZ7DdEK/AAADAYsAAAALAZ7FakK/AAADAYsAAAAVQZrKSahBbJlMCH///qmW\n",
       "AAADAPCBAAAAD0Ge6EUVLDP/CmmFnVADCgAAAAsBnwd0Qr8AAAMBiwAAAAsBnwlqQr8AAAMBiwAA\n",
       "ABVBmw5JqEFsmUwIf//+qZYAAAMA8IAAAAAPQZ8sRRUsM/8KaYWdUAMKAAAACwGfS3RCvwAAAwGL\n",
       "AAAACwGfTWpCvwAAAwGLAAAAFUGbUkmoQWyZTAh///6plgAAAwDwgQAAAA9Bn3BFFSwz/wpphZ1Q\n",
       "AwoAAAALAZ+PdEK/AAADAYsAAAALAZ+RakK/AAADAYsAAAAVQZuWSahBbJlMCH///qmWAAADAPCA\n",
       "AAAAD0GftEUVLDP/CmmFnVADCgAAAAsBn9N0Qr8AAAMBiwAAAAsBn9VqQr8AAAMBiwAAABVBm9pJ\n",
       "qEFsmUwId//+qZYAAAMA8IEAAAAPQZ/4RRUsM/8KaYWdUAMLAAAACwGeF3RCvwAAAwGLAAAACwGe\n",
       "GWpCvwAAAwGLAAAAFUGaHkmoQWyZTAh3//6plgAAAwDwgAAAAA9BnjxFFSwz/wpphZ1QAwsAAAAL\n",
       "AZ5bdEK/AAADAYsAAAALAZ5dakK/AAADAYsAAAAVQZpCSahBbJlMCHf//qmWAAADAPCAAAAAD0Ge\n",
       "YEUVLDP/CmmFnVADCwAAAAsBnp90Qr8AAAMBiwAAAAsBnoFqQr8AAAMBiwAAABNBmoZJqEFsmUwI\n",
       "Z//+nhAAAAdMAAAAD0GepEUVLDP/CmmFnVADCwAAAAsBnsN0Qr8AAAMBiwAAAAsBnsVqQr8AAAMB\n",
       "iwAAABNBmsdJqEFsmUwIV//+OEAAABxxAAAMdm1vb3YAAABsbXZoZAAAAAAAAAAAAAAAAAAAA+gA\n",
       "ACcQAAEAAAEAAAAAAAAAAAAAAAABAAAAAAAAAAAAAAAAAAAAAQAAAAAAAAAAAAAAAAAAQAAAAAAA\n",
       "AAAAAAAAAAAAAAAAAAAAAAAAAAAAAAAAAAIAAAugdHJhawAAAFx0a2hkAAAAAwAAAAAAAAAAAAAA\n",
       "AQAAAAAAACcQAAAAAAAAAAAAAAAAAAAAAAABAAAAAAAAAAAAAAAAAAAAAQAAAAAAAAAAAAAAAAAA\n",
       "QAAAAAGwAAABIAAAAAAAJGVkdHMAAAAcZWxzdAAAAAAAAAABAAAnEAAABAAAAQAAAAALGG1kaWEA\n",
       "AAAgbWRoZAAAAAAAAAAAAAAAAAAAKAAAAZAAVcQAAAAAAC1oZGxyAAAAAAAAAAB2aWRlAAAAAAAA\n",
       "AAAAAAAAVmlkZW9IYW5kbGVyAAAACsNtaW5mAAAAFHZtaGQAAAABAAAAAAAAAAAAAAAkZGluZgAA\n",
       "ABxkcmVmAAAAAAAAAAEAAAAMdXJsIAAAAAEAAAqDc3RibAAAALNzdHNkAAAAAAAAAAEAAACjYXZj\n",
       "MQAAAAAAAAABAAAAAAAAAAAAAAAAAAAAAAGwASAASAAAAEgAAAAAAAAAAQAAAAAAAAAAAAAAAAAA\n",
       "AAAAAAAAAAAAAAAAAAAAAAAAABj//wAAADFhdmNDAWQAFf/hABhnZAAVrNlBsJaEAAADAAQAAAMA\n",
       "oDxYtlgBAAZo6+PLIsAAAAAcdXVpZGtoQPJfJE/FujmlG88DI/MAAAAAAAAAGHN0dHMAAAAAAAAA\n",
       "AQAAAMgAAAIAAAAAFHN0c3MAAAAAAAAAAQAAAAEAAAY4Y3R0cwAAAAAAAADFAAAAAQAABAAAAAAB\n",
       "AAAKAAAAAAEAAAQAAAAAAQAAAAAAAAABAAACAAAAAAEAAAoAAAAAAQAABAAAAAABAAAAAAAAAAEA\n",
       "AAIAAAAAAQAACgAAAAABAAAEAAAAAAEAAAAAAAAAAQAAAgAAAAABAAAKAAAAAAEAAAQAAAAAAQAA\n",
       "AAAAAAABAAACAAAAAAEAAAoAAAAAAQAABAAAAAABAAAAAAAAAAEAAAIAAAAAAQAACgAAAAABAAAE\n",
       "AAAAAAEAAAAAAAAAAQAAAgAAAAABAAAKAAAAAAEAAAQAAAAAAQAAAAAAAAABAAACAAAAAAEAAAoA\n",
       "AAAAAQAABAAAAAABAAAAAAAAAAEAAAIAAAAAAQAACgAAAAABAAAEAAAAAAEAAAAAAAAAAQAAAgAA\n",
       "AAABAAAKAAAAAAEAAAQAAAAAAQAAAAAAAAABAAACAAAAAAEAAAoAAAAAAQAABAAAAAABAAAAAAAA\n",
       "AAEAAAIAAAAAAQAACgAAAAABAAAEAAAAAAEAAAAAAAAAAQAAAgAAAAABAAAKAAAAAAEAAAQAAAAA\n",
       "AQAAAAAAAAABAAACAAAAAAEAAAoAAAAAAQAABAAAAAABAAAAAAAAAAEAAAIAAAAAAQAACgAAAAAB\n",
       "AAAEAAAAAAEAAAAAAAAAAQAAAgAAAAABAAAKAAAAAAEAAAQAAAAAAQAAAAAAAAABAAACAAAAAAEA\n",
       "AAoAAAAAAQAABAAAAAABAAAAAAAAAAEAAAIAAAAAAQAACgAAAAABAAAEAAAAAAEAAAAAAAAAAQAA\n",
       "AgAAAAABAAAKAAAAAAEAAAQAAAAAAQAAAAAAAAABAAACAAAAAAEAAAoAAAAAAQAABAAAAAABAAAA\n",
       "AAAAAAEAAAIAAAAAAQAABAAAAAABAAAIAAAAAAIAAAIAAAAAAQAACgAAAAABAAAEAAAAAAEAAAAA\n",
       "AAAAAQAAAgAAAAABAAAKAAAAAAEAAAQAAAAAAQAAAAAAAAABAAACAAAAAAEAAAgAAAAAAgAAAgAA\n",
       "AAABAAAKAAAAAAEAAAQAAAAAAQAAAAAAAAABAAACAAAAAAEAAAoAAAAAAQAABAAAAAABAAAAAAAA\n",
       "AAEAAAIAAAAAAQAACgAAAAABAAAEAAAAAAEAAAAAAAAAAQAAAgAAAAABAAAKAAAAAAEAAAQAAAAA\n",
       "AQAAAAAAAAABAAACAAAAAAEAAAoAAAAAAQAABAAAAAABAAAAAAAAAAEAAAIAAAAAAQAABgAAAAAB\n",
       "AAACAAAAAAEAAAYAAAAAAQAAAgAAAAABAAAGAAAAAAEAAAIAAAAAAQAABgAAAAABAAACAAAAAAEA\n",
       "AAgAAAAAAgAAAgAAAAABAAAKAAAAAAEAAAQAAAAAAQAAAAAAAAABAAACAAAAAAEAAAoAAAAAAQAA\n",
       "BAAAAAABAAAAAAAAAAEAAAIAAAAAAQAACgAAAAABAAAEAAAAAAEAAAAAAAAAAQAAAgAAAAABAAAK\n",
       "AAAAAAEAAAQAAAAAAQAAAAAAAAABAAACAAAAAAEAAAoAAAAAAQAABAAAAAABAAAAAAAAAAEAAAIA\n",
       "AAAAAQAACgAAAAABAAAEAAAAAAEAAAAAAAAAAQAAAgAAAAABAAAKAAAAAAEAAAQAAAAAAQAAAAAA\n",
       "AAABAAACAAAAAAEAAAoAAAAAAQAABAAAAAABAAAAAAAAAAEAAAIAAAAAAQAACgAAAAABAAAEAAAA\n",
       "AAEAAAAAAAAAAQAAAgAAAAABAAAKAAAAAAEAAAQAAAAAAQAAAAAAAAABAAACAAAAAAEAAAoAAAAA\n",
       "AQAABAAAAAABAAAAAAAAAAEAAAIAAAAAAQAACgAAAAABAAAEAAAAAAEAAAAAAAAAAQAAAgAAAAAB\n",
       "AAAKAAAAAAEAAAQAAAAAAQAAAAAAAAABAAACAAAAAAEAAAoAAAAAAQAABAAAAAABAAAAAAAAAAEA\n",
       "AAIAAAAAAQAACgAAAAABAAAEAAAAAAEAAAAAAAAAAQAAAgAAAAABAAAKAAAAAAEAAAQAAAAAAQAA\n",
       "AAAAAAABAAACAAAAAAEAAAoAAAAAAQAABAAAAAABAAAAAAAAAAEAAAIAAAAAAQAACgAAAAABAAAE\n",
       "AAAAAAEAAAAAAAAAAQAAAgAAAAABAAAEAAAAABxzdHNjAAAAAAAAAAEAAAABAAAAyAAAAAEAAAM0\n",
       "c3RzegAAAAAAAAAAAAAAyAAAD6kAAAGyAAAASwAAADIAAAAhAAAAhAAAADUAAAAjAAAAPQAAAIUA\n",
       "AABEAAAAKwAAACgAAAB7AAAAOgAAACcAAAAnAAAAWgAAADUAAAAlAAAAGgAAAE4AAAAtAAAAJgAA\n",
       "ABkAAABoAAAANwAAACoAAAApAAAAUgAAADIAAAApAAAAGwAAAF8AAAA8AAAAJQAAACQAAABHAAAA\n",
       "MAAAABwAAAAcAAAAUwAAACgAAAAgAAAAHwAAAFgAAAAzAAAAJQAAACMAAABaAAAAMgAAACAAAAAV\n",
       "AAAATwAAADAAAAAbAAAAJgAAAHkAAAAqAAAAIgAAABkAAABfAAAAJwAAACUAAAAaAAAAPwAAACwA\n",
       "AAAVAAAAHgAAAEEAAAAsAAAAIgAAACQAAABTAAAALgAAABUAAAAVAAAAWgAAADIAAAArAAAAIAAA\n",
       "AFMAAABeAAAALwAAABoAAABPAAAAHgAAABgAAAAWAAAATQAAACoAAAATAAAAIAAAAE4AAAAkAAAA\n",
       "HgAAAFQAAAArAAAAIAAAACAAAABfAAAANgAAABoAAAAdAAAAUwAAADoAAAAlAAAAJgAAAJAAAABI\n",
       "AAAALgAAAC8AAAChAAAASgAAADAAAAAsAAAAlAAAAC0AAACBAAAAOQAAAJkAAAAsAAAAnAAAADwA\n",
       "AADWAAAAXAAAACgAAAD7AAAAVQAAAD4AAAArAAAAtAAAAEkAAAAqAAAAKAAAAJQAAABOAAAAGQAA\n",
       "ACAAAABaAAAAKQAAACAAAAAhAAAAGQAAABMAAAAPAAAADwAAABkAAAATAAAADwAAAA8AAAAZAAAA\n",
       "EwAAAA8AAAAPAAAAGQAAABMAAAAPAAAADwAAABkAAAATAAAADwAAAA8AAAAZAAAAEwAAAA8AAAAP\n",
       "AAAAGQAAABMAAAAPAAAADwAAABkAAAATAAAADwAAAA8AAAAZAAAAEwAAAA8AAAAPAAAAGQAAABMA\n",
       "AAAPAAAADwAAABkAAAATAAAADwAAAA8AAAAZAAAAEwAAAA8AAAAPAAAAGQAAABMAAAAPAAAADwAA\n",
       "ABcAAAATAAAADwAAAA8AAAAXAAAAFHN0Y28AAAAAAAAAAQAAACwAAABidWR0YQAAAFptZXRhAAAA\n",
       "AAAAACFoZGxyAAAAAAAAAABtZGlyYXBwbAAAAAAAAAAAAAAAAC1pbHN0AAAAJal0b28AAAAdZGF0\n",
       "YQAAAAEAAAAATGF2ZjU4LjI5LjEwMA==\n",
       "\">\n",
       "  Your browser does not support the video tag.\n",
       "</video>"
      ],
      "text/plain": [
       "<IPython.core.display.HTML object>"
      ]
     },
     "execution_count": 29,
     "metadata": {},
     "output_type": "execute_result"
    }
   ],
   "source": [
    "j, k = (13, 15)\n",
    "# j, k = (18, 17)\n",
    "# j, k = (15, 15)\n",
    "par_list = scan_par['par_list']\n",
    "mesh1 = scan_par['mesh_list'][0]\n",
    "mesh2 = scan_par['mesh_list'][1]\n",
    "print('{}: {}'.format(par_list[0], mesh1[j]))\n",
    "print('{}: {}'.format(par_list[1], mesh2[k]))\n",
    "subdir = os.path.join(indir, 'j_{:03d}_k_{:03d}'.format(j, k))\n",
    "repeat_nb = 15\n",
    "\n",
    "lat = read_lattice(os.path.join(subdir, '{:03d}.pkl'.format(repeat_nb)))\n",
    "imp.reload(pyava.visualize)\n",
    "movie = vis.activation_movie(lat, tmax=200)\n",
    "ani = vis.show_movie(movie)\n",
    "HTML(ani.to_html5_video())"
   ]
  },
  {
   "cell_type": "code",
   "execution_count": 33,
   "id": "d06df5a6",
   "metadata": {},
   "outputs": [
    {
     "name": "stdout",
     "output_type": "stream",
     "text": [
      "[ -1.05365079 535.04256711]\n"
     ]
    },
    {
     "data": {
      "text/plain": [
       "Text(0.5, 0.98, 'p: 0.45, p_exc: 1.00')"
      ]
     },
     "execution_count": 33,
     "metadata": {},
     "output_type": "execute_result"
    },
    {
     "data": {
      "image/png": "[encoded data removed]",
      "text/plain": [
       "<Figure size 432x288 with 1 Axes>"
      ]
     },
     "metadata": {
      "needs_background": "light"
     },
     "output_type": "display_data"
    }
   ],
   "source": [
    "from scipy.optimize import curve_fit\n",
    "def powerlaw(x, m, c):\n",
    "    return c * x**m\n",
    "p_exc = 1\n",
    "p = .45\n",
    "p_exc_idx = int(p_exc* 20)\n",
    "pidx = int(p * 20)\n",
    "para_str = 'p: {:.2f}, p_exc: {:.2f}'.format(p, p_exc)\n",
    "size_list = cluster_size_mat[p_exc_idx, pidx, :]\n",
    "hsize, bin_edges = np.histogram(size_list)\n",
    "xx = (bin_edges[:-1] + bin_edges[1:])/2\n",
    "xdata = xx\n",
    "ydata = hsize\n",
    "popt, pcov = curve_fit(powerlaw, xdata, ydata, p0 = np.asarray([-1,10**4]))\n",
    "print(popt)\n",
    "plt.plot(xdata, ydata, 'b-', label='data')\n",
    "plt.plot(xdata, powerlaw(xdata, *popt), 'r-',\n",
    "\n",
    "         label='fit: m=%5.3f, c=%5.3f' % tuple(popt))\n",
    "plt.xscale('log')\n",
    "plt.yscale('log')\n",
    "plt.xlabel('cluster size')\n",
    "plt.ylabel('number of instances')\n",
    "plt.legend()\n",
    "plt.suptitle(para_str)"
   ]
  }
 ],
 "metadata": {
  "kernelspec": {
   "display_name": "Python 3",
   "language": "python",
   "name": "python3"
  },
  "language_info": {
   "codemirror_mode": {
    "name": "ipython",
    "version": 3
   },
   "file_extension": ".py",
   "mimetype": "text/x-python",
   "name": "python",
   "nbconvert_exporter": "python",
   "pygments_lexer": "ipython3",
   "version": "3.9.5"
  }
 },
 "nbformat": 4,
 "nbformat_minor": 5
}
