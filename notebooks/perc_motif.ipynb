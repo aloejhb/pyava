{
 "cells": [
  {
   "cell_type": "code",
   "execution_count": 12,
   "id": "5fb206da",
   "metadata": {},
   "outputs": [],
   "source": [
    "import sys\n",
    "import imp\n",
    "sys.path.append('..')\n",
    "import pyava\n",
    "imp.reload(pyava.ei_perc_determ)\n",
    "import pyava.ei_perc_determ as epd"
   ]
  },
  {
   "cell_type": "code",
   "execution_count": 16,
   "id": "4dd40b01",
   "metadata": {},
   "outputs": [
    {
     "data": {
      "text/plain": [
       "{'state_bvector': 1}"
      ]
     },
     "execution_count": 16,
     "metadata": {},
     "output_type": "execute_result"
    }
   ],
   "source": [
    "edge_vector = 2**16\n",
    "epd.perc_motif_2step(edge_vector)"
   ]
  }
 ],
 "metadata": {
  "kernelspec": {
   "display_name": "Python 3",
   "language": "python",
   "name": "python3"
  },
  "language_info": {
   "codemirror_mode": {
    "name": "ipython",
    "version": 3
   },
   "file_extension": ".py",
   "mimetype": "text/x-python",
   "name": "python",
   "nbconvert_exporter": "python",
   "pygments_lexer": "ipython3",
   "version": "3.9.5"
  }
 },
 "nbformat": 4,
 "nbformat_minor": 5
}
