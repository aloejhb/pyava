{
 "cells": [
  {
   "cell_type": "code",
   "execution_count": 44,
   "id": "46066ec3",
   "metadata": {},
   "outputs": [],
   "source": [
    "import sys\n",
    "import imp\n",
    "import numpy as np\n",
    "import networkx as nx\n",
    "import matplotlib.pyplot as plt\n",
    "from IPython.display import HTML\n",
    "sys.path.append('..')\n",
    "import pyava\n",
    "imp.reload(pyava.ei_perc_lattice)\n",
    "import pyava.ei_perc_lattice as eip"
   ]
  },
  {
   "cell_type": "code",
   "execution_count": 67,
   "id": "6bee604d",
   "metadata": {},
   "outputs": [
    {
     "name": "stderr",
     "output_type": "stream",
     "text": [
      "100%|██████████| 30/30 [00:00<00:00, 307.45it/s]\n"
     ]
    }
   ],
   "source": [
    "p_exc = 0.7\n",
    "p = 0.7\n",
    "tstep = 30\n",
    "lattice = eip.ei_perc_2d(p_exc, p, tstep, seed=None)"
   ]
  },
  {
   "cell_type": "code",
   "execution_count": 68,
   "id": "7a7dd96e",
   "metadata": {},
   "outputs": [
    {
     "data": {
      "text/plain": [
       "<matplotlib.image.AxesImage at 0x7f14d0b26460>"
      ]
     },
     "execution_count": 68,
     "metadata": {},
     "output_type": "execute_result"
    },
    {
     "data": {
      "image/png": "[encoded data removed]",
      "text/plain": [
       "<Figure size 288x288 with 1 Axes>"
      ]
     },
     "metadata": {
      "needs_background": "light"
     },
     "output_type": "display_data"
    }
   ],
   "source": [
    "plt.matshow(lattice.node_state_mat)"
   ]
  }
 ],
 "metadata": {
  "kernelspec": {
   "display_name": "Python 3",
   "language": "python",
   "name": "python3"
  },
  "language_info": {
   "codemirror_mode": {
    "name": "ipython",
    "version": 3
   },
   "file_extension": ".py",
   "mimetype": "text/x-python",
   "name": "python",
   "nbconvert_exporter": "python",
   "pygments_lexer": "ipython3",
   "version": "3.9.5"
  }
 },
 "nbformat": 4,
 "nbformat_minor": 5
}
