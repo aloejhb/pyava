{
 "cells": [
  {
   "cell_type": "code",
   "execution_count": 185,
   "id": "a02a002e",
   "metadata": {},
   "outputs": [],
   "source": [
    "import sys\n",
    "import imp\n",
    "import numpy as np\n",
    "import networkx as nx\n",
    "import matplotlib.pyplot as plt\n",
    "from IPython.display import HTML\n",
    "sys.path.append('..')\n",
    "import pyava\n",
    "imp.reload(pyava.ei_perc_lattice)\n",
    "import pyava.ei_perc_lattice as eip"
   ]
  },
  {
   "cell_type": "code",
   "execution_count": 357,
   "id": "6195c074",
   "metadata": {},
   "outputs": [
    {
     "name": "stderr",
     "output_type": "stream",
     "text": [
      "100%|██████████| 1000/1000 [00:24<00:00, 40.52it/s]\n"
     ]
    },
    {
     "data": {
      "text/plain": [
       "<matplotlib.image.AxesImage at 0x7f14cc859490>"
      ]
     },
     "execution_count": 357,
     "metadata": {},
     "output_type": "execute_result"
    },
    {
     "data": {
      "image/png": "[encoded data removed]",
      "text/plain": [
       "<Figure size 288x288 with 1 Axes>"
      ]
     },
     "metadata": {
      "needs_background": "light"
     },
     "output_type": "display_data"
    }
   ],
   "source": [
    "p_exc = 0.83\n",
    "p = 0.8\n",
    "tstep = 1000\n",
    "lattice = eip.ei_perc_2d(p_exc, p, tstep, seed=None, inhib=True)\n",
    "plt.matshow(lattice.node_state_mat)"
   ]
  },
  {
   "cell_type": "code",
   "execution_count": 359,
   "id": "9c9302b8",
   "metadata": {},
   "outputs": [
    {
     "ename": "SyntaxError",
     "evalue": "invalid syntax (<ipython-input-359-24ac10016e69>, line 1)",
     "output_type": "error",
     "traceback": [
      "\u001b[0;36m  File \u001b[0;32m\"<ipython-input-359-24ac10016e69>\"\u001b[0;36m, line \u001b[0;32m1\u001b[0m\n\u001b[0;31m    plt.matshow(lattice.node_state_mat[(500:1500)/2, 500:1500])\u001b[0m\n\u001b[0m                                           ^\u001b[0m\n\u001b[0;31mSyntaxError\u001b[0m\u001b[0;31m:\u001b[0m invalid syntax\n"
     ]
    }
   ],
   "source": [
    "plt.matshow(lattice.node_state_mat[500:1500)/, 500:1500])"
   ]
  }
 ],
 "metadata": {
  "kernelspec": {
   "display_name": "Python 3",
   "language": "python",
   "name": "python3"
  },
  "language_info": {
   "codemirror_mode": {
    "name": "ipython",
    "version": 3
   },
   "file_extension": ".py",
   "mimetype": "text/x-python",
   "name": "python",
   "nbconvert_exporter": "python",
   "pygments_lexer": "ipython3",
   "version": "3.9.5"
  }
 },
 "nbformat": 4,
 "nbformat_minor": 5
}
